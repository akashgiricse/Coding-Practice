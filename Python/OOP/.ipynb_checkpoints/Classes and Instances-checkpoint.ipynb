{
 "cells": [
  {
   "cell_type": "code",
   "execution_count": 1,
   "metadata": {},
   "outputs": [
    {
     "name": "stdout",
     "output_type": "stream",
     "text": [
      "akashgiricse@gmail.com\n",
      "User\n"
     ]
    }
   ],
   "source": [
    "# class name\n",
    "\n",
    "class Employee:\n",
    "    pass\n",
    "\n",
    "# instance of a class\n",
    "emp_1 = Employee() # instance of class Employee\n",
    "emp_2 = Employee() # instance of class Employee\n",
    "\n",
    "\n",
    "# instance variable\n",
    "emp_1.first = 'Akash'\n",
    "emp_1.last = 'Giri' \n",
    "emp_1.email = 'akashgiricse@gmail.com'\n",
    "\n",
    "emp_2.first = 'Test'\n",
    "emp_2.last = 'User'\n",
    "emp_2.email = 'testuser@gmail.com'\n",
    "\n",
    "print(emp_1.email)\n",
    "print(emp_2.last)\n",
    "\n",
    "# now, instead of assigning instance variable to every variable, we can create an init mathod in the class\n",
    "# i.e. constructor\n"
   ]
  },
  {
   "cell_type": "code",
   "execution_count": 3,
   "metadata": {},
   "outputs": [
    {
     "name": "stdout",
     "output_type": "stream",
     "text": [
      "Akash.Giri@company.com\n",
      "User\n",
      "Akash Giri\n"
     ]
    }
   ],
   "source": [
    "class Employee:\n",
    "    # when we create a function in a class they receive the instance as the first argument automatically and \\\n",
    "    # we should call them self\n",
    "    def __init__(self, first, last, pay):\n",
    "        self.first = first\n",
    "        self.last = last\n",
    "        self.pay = pay\n",
    "        self.email = first + \".\" + last + \"@company.com\"\n",
    "        \n",
    "emp_1 = Employee('Akash', 'Giri', 50000) # emp_1 will be passed as self in the init method, and then it will set\n",
    "                                        # all the attribute i.e. emp_1.first = first etc.\n",
    "emp_2 = Employee('Test', 'User', 60000)\n",
    "\n",
    "print(emp_1.email)\n",
    "print(emp_2.last)\n",
    "\n",
    "# now if we want to print full name we can do this like \n",
    "\n",
    "full_name = '{} {}'.format(emp_1.first,emp_1.last)\n",
    "print(full_name)\n",
    "\n",
    "# but we can create an def in the class to print the full name"
   ]
  },
  {
   "cell_type": "code",
   "execution_count": 5,
   "metadata": {},
   "outputs": [
    {
     "name": "stdout",
     "output_type": "stream",
     "text": [
      "Akash Giri\n",
      "Akash Giri\n"
     ]
    }
   ],
   "source": [
    "class Employee:\n",
    "    def __init__(self, first, last, pay):\n",
    "        self.first = first\n",
    "        self.last = last\n",
    "        self.pay = pay\n",
    "        self.email = first + \".\" + last + \"@company.com\"\n",
    "        \n",
    "    def fullname(self):\n",
    "        return '{} {}'.format(emp_1.first,emp_1.last)\n",
    "        \n",
    "emp_1 = Employee('Akash', 'Giri', 50000)\n",
    "emp_2 = Employee('Test', 'User', 60000)\n",
    "\n",
    "print(emp_1.fullname()) # use parentheses for functions\n",
    "                        # emp_1 is passed to fullname() function automatically\n",
    "print(Employee.fullname(emp_1)) # we will have to pass the instance explicitly and it get passed in as self in the\n",
    "                                # function\n"
   ]
  },
  {
   "cell_type": "code",
   "execution_count": null,
   "metadata": {
    "collapsed": true
   },
   "outputs": [],
   "source": []
  }
 ],
 "metadata": {
  "kernelspec": {
   "display_name": "Python 3",
   "language": "python",
   "name": "python3"
  },
  "language_info": {
   "codemirror_mode": {
    "name": "ipython",
    "version": 3
   },
   "file_extension": ".py",
   "mimetype": "text/x-python",
   "name": "python",
   "nbconvert_exporter": "python",
   "pygments_lexer": "ipython3",
   "version": "3.6.3"
  }
 },
 "nbformat": 4,
 "nbformat_minor": 2
}
