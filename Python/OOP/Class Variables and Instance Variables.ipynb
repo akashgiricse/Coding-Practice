{
 "cells": [
  {
   "cell_type": "code",
   "execution_count": 1,
   "metadata": {},
   "outputs": [
    {
     "name": "stdout",
     "output_type": "stream",
     "text": [
      "50000\n",
      "52000\n"
     ]
    }
   ],
   "source": [
    "# class variables are shared among all instances of a class\n",
    "\n",
    "class Employee:\n",
    "    def __init__(self, first, last, pay):\n",
    "        self.first = first\n",
    "        self.last = last\n",
    "        self.pay = pay\n",
    "        self.email = first + \".\" + last + \"@company.com\"\n",
    "        \n",
    "    def fullname(self):\n",
    "        return '{} {}'.format(emp_1.first,emp_1.last)\n",
    "    \n",
    "    def apply_raise(self):\n",
    "        self.pay = int(self.pay*1.04)\n",
    "        \n",
    "emp_1 = Employee('Akash', 'Giri', 50000)\n",
    "emp_2 = Employee('Test', 'User', 60000)\n",
    "\n",
    "\n",
    "print(emp_1.pay)\n",
    "emp_1.apply_raise()\n",
    "print(emp_1.pay)\n",
    "\n",
    "# the problem in this code is that what if we want to change the raise ammount i.e. 1.04, in that case we will have\n",
    "# to change it in the method which is not a good practice\n",
    "# hence we will create a class variable\n"
   ]
  },
  {
   "cell_type": "code",
   "execution_count": 1,
   "metadata": {},
   "outputs": [
    {
     "name": "stdout",
     "output_type": "stream",
     "text": [
      "50000\n",
      "54080\n"
     ]
    }
   ],
   "source": [
    "class Employee:\n",
    "    \n",
    "    raise_ammount = 1.04\n",
    "    def __init__(self, first, last, pay):\n",
    "        self.first = first\n",
    "        self.last = last\n",
    "        self.pay = pay\n",
    "        self.email = first + \".\" + last + \"@company.com\"\n",
    "        \n",
    "    def fullname(self):\n",
    "        return '{} {}'.format(emp_1.first,emp_1.last)\n",
    "    \n",
    "    def apply_raise(self):\n",
    "#         self.pay = int(self.pay *  raise_ammount) # now, we can not access the class variable directly in the\n",
    "#  function. We will have to access it either by class or by class instance.\n",
    "\n",
    "        self.pay = int(self.pay *  Employee.raise_ammount)\n",
    "        # or\n",
    "        self.pay = int(self.pay *  self.raise_ammount)\n",
    "        \n",
    "emp_1 = Employee('Akash', 'Giri', 50000)\n",
    "emp_2 = Employee('Test', 'User', 60000)\n",
    "\n",
    "\n",
    "print(emp_1.pay)\n",
    "emp_1.apply_raise()\n",
    "print(emp_1.pay)"
   ]
  },
  {
   "cell_type": "code",
   "execution_count": 2,
   "metadata": {},
   "outputs": [
    {
     "name": "stdout",
     "output_type": "stream",
     "text": [
      "{'first': 'Akash', 'last': 'Giri', 'pay': 50000, 'email': 'Akash.Giri@company.com', 'raise_ammount': 1.05}\n",
      "1.04\n",
      "1.05\n",
      "1.04\n"
     ]
    }
   ],
   "source": [
    "class Employee:\n",
    "    \n",
    "    raise_ammount = 1.04\n",
    "    def __init__(self, first, last, pay):\n",
    "        self.first = first\n",
    "        self.last = last\n",
    "        self.pay = pay\n",
    "        self.email = first + \".\" + last + \"@company.com\"\n",
    "        \n",
    "    def fullname(self):\n",
    "        return '{} {}'.format(emp_1.first,emp_1.last)\n",
    "    \n",
    "    def apply_raise(self):\n",
    "        # using self.raise_ammount will allow us to change the class variable using instances.\n",
    "        self.pay = int(self.pay *  self.raise_ammount)\n",
    "        \n",
    "emp_1 = Employee('Akash', 'Giri', 50000)\n",
    "emp_2 = Employee('Test', 'User', 60000)\n",
    "\n",
    "# instance variable assignment\n",
    "emp_1.raise_ammount = 1.05\n",
    "print(emp_1.__dict__)\n",
    "print(Employee.raise_ammount)\n",
    "print(emp_1.raise_ammount)\n",
    "print(emp_2.raise_ammount)"
   ]
  },
  {
   "cell_type": "code",
   "execution_count": 3,
   "metadata": {},
   "outputs": [
    {
     "name": "stdout",
     "output_type": "stream",
     "text": [
      "0\n",
      "2\n"
     ]
    }
   ],
   "source": [
    "class Employee:\n",
    "    no_of_emp = 0\n",
    "    raise_ammount = 1.04\n",
    "    def __init__(self, first, last, pay):\n",
    "        self.first = first\n",
    "        self.last = last\n",
    "        self.pay = pay\n",
    "        self.email = first + \".\" + last + \"@company.com\"\n",
    "        Employee.no_of_emp += 1\n",
    "        \n",
    "    def fullname(self):\n",
    "        return '{} {}'.format(emp_1.first,emp_1.last)\n",
    "    \n",
    "    def apply_raise(self):\n",
    "        # using self.raise_ammount will allow us to change the class variable using instances.\n",
    "        self.pay = int(self.pay *  self.raise_ammount)\n",
    "\n",
    "print(Employee.no_of_emp)\n",
    "\n",
    "emp_1 = Employee('Akash', 'Giri', 50000)\n",
    "emp_2 = Employee('Test', 'User', 60000)\n",
    "\n",
    "# after creating instances of the class the no_of_emp variable will be incremented by one.\n",
    "print(Employee.no_of_emp)\n"
   ]
  },
  {
   "cell_type": "code",
   "execution_count": null,
   "metadata": {
    "collapsed": true
   },
   "outputs": [],
   "source": []
  }
 ],
 "metadata": {
  "kernelspec": {
   "display_name": "Python 3",
   "language": "python",
   "name": "python3"
  },
  "language_info": {
   "codemirror_mode": {
    "name": "ipython",
    "version": 3
   },
   "file_extension": ".py",
   "mimetype": "text/x-python",
   "name": "python",
   "nbconvert_exporter": "python",
   "pygments_lexer": "ipython3",
   "version": "3.6.3"
  }
 },
 "nbformat": 4,
 "nbformat_minor": 2
}
