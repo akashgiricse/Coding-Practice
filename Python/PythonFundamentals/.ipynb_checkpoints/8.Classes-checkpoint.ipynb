{
 "cells": [
  {
   "cell_type": "markdown",
   "metadata": {},
   "source": [
    "# Defining class"
   ]
  },
  {
   "cell_type": "markdown",
   "metadata": {},
   "source": [
    "By convention, class name use CamelCase"
   ]
  },
  {
   "cell_type": "code",
   "execution_count": 18,
   "metadata": {},
   "outputs": [],
   "source": [
    "from airtravel import Flight"
   ]
  },
  {
   "cell_type": "code",
   "execution_count": 3,
   "metadata": {},
   "outputs": [
    {
     "data": {
      "text/plain": [
       "airtravel.Flight"
      ]
     },
     "execution_count": 3,
     "metadata": {},
     "output_type": "execute_result"
    }
   ],
   "source": [
    "Flight # a class object"
   ]
  },
  {
   "cell_type": "code",
   "execution_count": 4,
   "metadata": {},
   "outputs": [
    {
     "name": "stdout",
     "output_type": "stream",
     "text": [
      "<class 'airtravel.Flight'>\n"
     ]
    }
   ],
   "source": [
    "print(Flight)"
   ]
  },
  {
   "cell_type": "code",
   "execution_count": 5,
   "metadata": {},
   "outputs": [],
   "source": [
    "# to use this class to mint a new object, we call it constructor which is done by calling the class as follow"
   ]
  },
  {
   "cell_type": "code",
   "execution_count": 6,
   "metadata": {},
   "outputs": [],
   "source": [
    "f = Flight() # a new object"
   ]
  },
  {
   "cell_type": "code",
   "execution_count": 7,
   "metadata": {},
   "outputs": [
    {
     "name": "stdout",
     "output_type": "stream",
     "text": [
      "<class 'airtravel.Flight'>\n"
     ]
    }
   ],
   "source": [
    "print(type(f))"
   ]
  },
  {
   "cell_type": "markdown",
   "metadata": {},
   "source": [
    "# instance method"
   ]
  },
  {
   "cell_type": "markdown",
   "metadata": {},
   "source": [
    "![i.png](img/38.png)"
   ]
  },
  {
   "cell_type": "code",
   "execution_count": null,
   "metadata": {},
   "outputs": [],
   "source": [
    "\"\"\"Model for aircraft flight\"\"\"\n",
    "\n",
    "class Flight:\n",
    "        \n",
    "    def number(self):\n",
    "        return \"SN060\""
   ]
  },
  {
   "cell_type": "code",
   "execution_count": 1,
   "metadata": {},
   "outputs": [
    {
     "data": {
      "text/plain": [
       "'SN060'"
      ]
     },
     "execution_count": 1,
     "metadata": {},
     "output_type": "execute_result"
    }
   ],
   "source": [
    "from airtravel import Flight\n",
    "f = Flight()\n",
    "f.number()"
   ]
  },
  {
   "cell_type": "code",
   "execution_count": 2,
   "metadata": {},
   "outputs": [
    {
     "data": {
      "text/plain": [
       "'SN060'"
      ]
     },
     "execution_count": 2,
     "metadata": {},
     "output_type": "execute_result"
    }
   ],
   "source": [
    "Flight.number(f) # this form will never be used"
   ]
  },
  {
   "cell_type": "markdown",
   "metadata": {},
   "source": [
    "# Initializers"
   ]
  },
  {
   "cell_type": "markdown",
   "metadata": {},
   "source": [
    "## __init__() <br>\n",
    "instance method for initializing new objects"
   ]
  },
  {
   "cell_type": "markdown",
   "metadata": {},
   "source": [
    "![img.png](img/39.png)"
   ]
  },
  {
   "cell_type": "code",
   "execution_count": 3,
   "metadata": {},
   "outputs": [],
   "source": [
    "# see code in airtravel.py"
   ]
  },
  {
   "cell_type": "markdown",
   "metadata": {},
   "source": [
    "![img.png](img/40.png)"
   ]
  },
  {
   "cell_type": "code",
   "execution_count": 5,
   "metadata": {},
   "outputs": [],
   "source": [
    "\"\"\"Model for aircraft flight\"\"\"\n",
    "\n",
    "class Flight:\n",
    "    \n",
    "    def __init__(self, number):\n",
    "        self._number = number\n",
    "        \n",
    "    def number(self):\n",
    "        return self._number\n",
    "    "
   ]
  },
  {
   "cell_type": "code",
   "execution_count": 11,
   "metadata": {},
   "outputs": [],
   "source": [
    "from airtravel import Flight"
   ]
  },
  {
   "cell_type": "code",
   "execution_count": null,
   "metadata": {},
   "outputs": [],
   "source": [
    ">>> from airtravel import Flight\n",
    ">>> f = Flight(\"SNO060\")\n",
    ">>> f.number()\n",
    "'SNO060'\n",
    ">>> \n"
   ]
  },
  {
   "cell_type": "markdown",
   "metadata": {},
   "source": [
    "# Class Invariants\n",
    "Truths about an object that endure for its lifetime"
   ]
  },
  {
   "cell_type": "code",
   "execution_count": null,
   "metadata": {},
   "outputs": [],
   "source": [
    "\"\"\"Model for aircraft flight\"\"\"\n",
    "\n",
    "class Flight:\n",
    "    \n",
    "\tdef __init__(self, number):\n",
    "\t\tif not number[:2].isalpha():\n",
    "\t\t\traise ValueError(\"No airline code in '{}'\".format(number))\n",
    "\n",
    "\t\tif not number[:2].isupper():\n",
    "\t\t\traise ValueError(\"Invalid airline code '{}'\".format(number))\n",
    "\n",
    "\t\tif not (number[2:].isdigit() and int(number[2:]) < 9999):\n",
    "\t\t\traise ValueError(\"Invalid route number '{}'\".format(number))\n",
    "\n",
    "\t\tself._number = number\n",
    "        \n",
    "\tdef number(self):\n",
    "\t    return self._number\n",
    "\n",
    "\tdef airline(self):\n",
    "\t\treturn self._number[:2]"
   ]
  },
  {
   "cell_type": "code",
   "execution_count": 2,
   "metadata": {},
   "outputs": [],
   "source": [
    "from airtravel import Flight"
   ]
  },
  {
   "cell_type": "code",
   "execution_count": 3,
   "metadata": {},
   "outputs": [],
   "source": [
    "f = Flight(\"SN060\")"
   ]
  },
  {
   "cell_type": "code",
   "execution_count": 4,
   "metadata": {},
   "outputs": [
    {
     "ename": "ValueError",
     "evalue": "No airline code in '060'",
     "output_type": "error",
     "traceback": [
      "\u001b[0;31m---------------------------------------------------------------------------\u001b[0m",
      "\u001b[0;31mValueError\u001b[0m                                Traceback (most recent call last)",
      "\u001b[0;32m<ipython-input-4-a2da1a79c493>\u001b[0m in \u001b[0;36m<module>\u001b[0;34m()\u001b[0m\n\u001b[0;32m----> 1\u001b[0;31m \u001b[0mf\u001b[0m \u001b[0;34m=\u001b[0m \u001b[0mFlight\u001b[0m\u001b[0;34m(\u001b[0m\u001b[0;34m\"060\"\u001b[0m\u001b[0;34m)\u001b[0m\u001b[0;34m\u001b[0m\u001b[0m\n\u001b[0m",
      "\u001b[0;32m~/Coding-Practice/Python/PythonFundamentals/airtravel.py\u001b[0m in \u001b[0;36m__init__\u001b[0;34m(self, number)\u001b[0m\n\u001b[1;32m      5\u001b[0m         \u001b[0;32mdef\u001b[0m \u001b[0m__init__\u001b[0m\u001b[0;34m(\u001b[0m\u001b[0mself\u001b[0m\u001b[0;34m,\u001b[0m \u001b[0mnumber\u001b[0m\u001b[0;34m)\u001b[0m\u001b[0;34m:\u001b[0m\u001b[0;34m\u001b[0m\u001b[0m\n\u001b[1;32m      6\u001b[0m                 \u001b[0;32mif\u001b[0m \u001b[0;32mnot\u001b[0m \u001b[0mnumber\u001b[0m\u001b[0;34m[\u001b[0m\u001b[0;34m:\u001b[0m\u001b[0;36m2\u001b[0m\u001b[0;34m]\u001b[0m\u001b[0;34m.\u001b[0m\u001b[0misalpha\u001b[0m\u001b[0;34m(\u001b[0m\u001b[0;34m)\u001b[0m\u001b[0;34m:\u001b[0m\u001b[0;34m\u001b[0m\u001b[0m\n\u001b[0;32m----> 7\u001b[0;31m                         \u001b[0;32mraise\u001b[0m \u001b[0mValueError\u001b[0m\u001b[0;34m(\u001b[0m\u001b[0;34m\"No airline code in '{}'\"\u001b[0m\u001b[0;34m.\u001b[0m\u001b[0mformat\u001b[0m\u001b[0;34m(\u001b[0m\u001b[0mnumber\u001b[0m\u001b[0;34m)\u001b[0m\u001b[0;34m)\u001b[0m\u001b[0;34m\u001b[0m\u001b[0m\n\u001b[0m\u001b[1;32m      8\u001b[0m \u001b[0;34m\u001b[0m\u001b[0m\n\u001b[1;32m      9\u001b[0m                 \u001b[0;32mif\u001b[0m \u001b[0;32mnot\u001b[0m \u001b[0mnumber\u001b[0m\u001b[0;34m[\u001b[0m\u001b[0;34m:\u001b[0m\u001b[0;36m2\u001b[0m\u001b[0;34m]\u001b[0m\u001b[0;34m.\u001b[0m\u001b[0misupper\u001b[0m\u001b[0;34m(\u001b[0m\u001b[0;34m)\u001b[0m\u001b[0;34m:\u001b[0m\u001b[0;34m\u001b[0m\u001b[0m\n",
      "\u001b[0;31mValueError\u001b[0m: No airline code in '060'"
     ]
    }
   ],
   "source": [
    "f = Flight(\"060\")"
   ]
  },
  {
   "cell_type": "code",
   "execution_count": 5,
   "metadata": {},
   "outputs": [
    {
     "ename": "ValueError",
     "evalue": "Invalid airline code 'sn060'",
     "output_type": "error",
     "traceback": [
      "\u001b[0;31m---------------------------------------------------------------------------\u001b[0m",
      "\u001b[0;31mValueError\u001b[0m                                Traceback (most recent call last)",
      "\u001b[0;32m<ipython-input-5-244e01cfbe04>\u001b[0m in \u001b[0;36m<module>\u001b[0;34m()\u001b[0m\n\u001b[0;32m----> 1\u001b[0;31m \u001b[0mf\u001b[0m \u001b[0;34m=\u001b[0m \u001b[0mFlight\u001b[0m\u001b[0;34m(\u001b[0m\u001b[0;34m\"sn060\"\u001b[0m\u001b[0;34m)\u001b[0m\u001b[0;34m\u001b[0m\u001b[0m\n\u001b[0m",
      "\u001b[0;32m~/Coding-Practice/Python/PythonFundamentals/airtravel.py\u001b[0m in \u001b[0;36m__init__\u001b[0;34m(self, number)\u001b[0m\n\u001b[1;32m      8\u001b[0m \u001b[0;34m\u001b[0m\u001b[0m\n\u001b[1;32m      9\u001b[0m                 \u001b[0;32mif\u001b[0m \u001b[0;32mnot\u001b[0m \u001b[0mnumber\u001b[0m\u001b[0;34m[\u001b[0m\u001b[0;34m:\u001b[0m\u001b[0;36m2\u001b[0m\u001b[0;34m]\u001b[0m\u001b[0;34m.\u001b[0m\u001b[0misupper\u001b[0m\u001b[0;34m(\u001b[0m\u001b[0;34m)\u001b[0m\u001b[0;34m:\u001b[0m\u001b[0;34m\u001b[0m\u001b[0m\n\u001b[0;32m---> 10\u001b[0;31m                         \u001b[0;32mraise\u001b[0m \u001b[0mValueError\u001b[0m\u001b[0;34m(\u001b[0m\u001b[0;34m\"Invalid airline code '{}'\"\u001b[0m\u001b[0;34m.\u001b[0m\u001b[0mformat\u001b[0m\u001b[0;34m(\u001b[0m\u001b[0mnumber\u001b[0m\u001b[0;34m)\u001b[0m\u001b[0;34m)\u001b[0m\u001b[0;34m\u001b[0m\u001b[0m\n\u001b[0m\u001b[1;32m     11\u001b[0m \u001b[0;34m\u001b[0m\u001b[0m\n\u001b[1;32m     12\u001b[0m                 \u001b[0;32mif\u001b[0m \u001b[0;32mnot\u001b[0m \u001b[0;34m(\u001b[0m\u001b[0mnumber\u001b[0m\u001b[0;34m[\u001b[0m\u001b[0;36m2\u001b[0m\u001b[0;34m:\u001b[0m\u001b[0;34m]\u001b[0m\u001b[0;34m.\u001b[0m\u001b[0misdigit\u001b[0m\u001b[0;34m(\u001b[0m\u001b[0;34m)\u001b[0m \u001b[0;32mand\u001b[0m \u001b[0mint\u001b[0m\u001b[0;34m(\u001b[0m\u001b[0mnumber\u001b[0m\u001b[0;34m[\u001b[0m\u001b[0;36m2\u001b[0m\u001b[0;34m:\u001b[0m\u001b[0;34m]\u001b[0m\u001b[0;34m)\u001b[0m \u001b[0;34m<\u001b[0m \u001b[0;36m9999\u001b[0m\u001b[0;34m)\u001b[0m\u001b[0;34m:\u001b[0m\u001b[0;34m\u001b[0m\u001b[0m\n",
      "\u001b[0;31mValueError\u001b[0m: Invalid airline code 'sn060'"
     ]
    }
   ],
   "source": [
    "f = Flight(\"sn060\")"
   ]
  },
  {
   "cell_type": "code",
   "execution_count": 6,
   "metadata": {},
   "outputs": [
    {
     "ename": "ValueError",
     "evalue": "Invalid airline code 'snabcd'",
     "output_type": "error",
     "traceback": [
      "\u001b[0;31m---------------------------------------------------------------------------\u001b[0m",
      "\u001b[0;31mValueError\u001b[0m                                Traceback (most recent call last)",
      "\u001b[0;32m<ipython-input-6-c8fa27be17d3>\u001b[0m in \u001b[0;36m<module>\u001b[0;34m()\u001b[0m\n\u001b[0;32m----> 1\u001b[0;31m \u001b[0mf\u001b[0m \u001b[0;34m=\u001b[0m \u001b[0mFlight\u001b[0m\u001b[0;34m(\u001b[0m\u001b[0;34m\"snabcd\"\u001b[0m\u001b[0;34m)\u001b[0m\u001b[0;34m\u001b[0m\u001b[0m\n\u001b[0m",
      "\u001b[0;32m~/Coding-Practice/Python/PythonFundamentals/airtravel.py\u001b[0m in \u001b[0;36m__init__\u001b[0;34m(self, number)\u001b[0m\n\u001b[1;32m      8\u001b[0m \u001b[0;34m\u001b[0m\u001b[0m\n\u001b[1;32m      9\u001b[0m                 \u001b[0;32mif\u001b[0m \u001b[0;32mnot\u001b[0m \u001b[0mnumber\u001b[0m\u001b[0;34m[\u001b[0m\u001b[0;34m:\u001b[0m\u001b[0;36m2\u001b[0m\u001b[0;34m]\u001b[0m\u001b[0;34m.\u001b[0m\u001b[0misupper\u001b[0m\u001b[0;34m(\u001b[0m\u001b[0;34m)\u001b[0m\u001b[0;34m:\u001b[0m\u001b[0;34m\u001b[0m\u001b[0m\n\u001b[0;32m---> 10\u001b[0;31m                         \u001b[0;32mraise\u001b[0m \u001b[0mValueError\u001b[0m\u001b[0;34m(\u001b[0m\u001b[0;34m\"Invalid airline code '{}'\"\u001b[0m\u001b[0;34m.\u001b[0m\u001b[0mformat\u001b[0m\u001b[0;34m(\u001b[0m\u001b[0mnumber\u001b[0m\u001b[0;34m)\u001b[0m\u001b[0;34m)\u001b[0m\u001b[0;34m\u001b[0m\u001b[0m\n\u001b[0m\u001b[1;32m     11\u001b[0m \u001b[0;34m\u001b[0m\u001b[0m\n\u001b[1;32m     12\u001b[0m                 \u001b[0;32mif\u001b[0m \u001b[0;32mnot\u001b[0m \u001b[0;34m(\u001b[0m\u001b[0mnumber\u001b[0m\u001b[0;34m[\u001b[0m\u001b[0;36m2\u001b[0m\u001b[0;34m:\u001b[0m\u001b[0;34m]\u001b[0m\u001b[0;34m.\u001b[0m\u001b[0misdigit\u001b[0m\u001b[0;34m(\u001b[0m\u001b[0;34m)\u001b[0m \u001b[0;32mand\u001b[0m \u001b[0mint\u001b[0m\u001b[0;34m(\u001b[0m\u001b[0mnumber\u001b[0m\u001b[0;34m[\u001b[0m\u001b[0;36m2\u001b[0m\u001b[0;34m:\u001b[0m\u001b[0;34m]\u001b[0m\u001b[0;34m)\u001b[0m \u001b[0;34m<\u001b[0m \u001b[0;36m9999\u001b[0m\u001b[0;34m)\u001b[0m\u001b[0;34m:\u001b[0m\u001b[0;34m\u001b[0m\u001b[0m\n",
      "\u001b[0;31mValueError\u001b[0m: Invalid airline code 'snabcd'"
     ]
    }
   ],
   "source": [
    "f = Flight(\"snabcd\")"
   ]
  },
  {
   "cell_type": "code",
   "execution_count": 9,
   "metadata": {},
   "outputs": [
    {
     "ename": "ValueError",
     "evalue": "Invalid route number 'SN060000'",
     "output_type": "error",
     "traceback": [
      "\u001b[0;31m---------------------------------------------------------------------------\u001b[0m",
      "\u001b[0;31mValueError\u001b[0m                                Traceback (most recent call last)",
      "\u001b[0;32m<ipython-input-9-cb11d905d00d>\u001b[0m in \u001b[0;36m<module>\u001b[0;34m()\u001b[0m\n\u001b[0;32m----> 1\u001b[0;31m \u001b[0mf\u001b[0m \u001b[0;34m=\u001b[0m \u001b[0mFlight\u001b[0m\u001b[0;34m(\u001b[0m\u001b[0;34m\"SN060000\"\u001b[0m\u001b[0;34m)\u001b[0m\u001b[0;34m\u001b[0m\u001b[0m\n\u001b[0m",
      "\u001b[0;32m~/Coding-Practice/Python/PythonFundamentals/airtravel.py\u001b[0m in \u001b[0;36m__init__\u001b[0;34m(self, number)\u001b[0m\n\u001b[1;32m     11\u001b[0m \u001b[0;34m\u001b[0m\u001b[0m\n\u001b[1;32m     12\u001b[0m                 \u001b[0;32mif\u001b[0m \u001b[0;32mnot\u001b[0m \u001b[0;34m(\u001b[0m\u001b[0mnumber\u001b[0m\u001b[0;34m[\u001b[0m\u001b[0;36m2\u001b[0m\u001b[0;34m:\u001b[0m\u001b[0;34m]\u001b[0m\u001b[0;34m.\u001b[0m\u001b[0misdigit\u001b[0m\u001b[0;34m(\u001b[0m\u001b[0;34m)\u001b[0m \u001b[0;32mand\u001b[0m \u001b[0mint\u001b[0m\u001b[0;34m(\u001b[0m\u001b[0mnumber\u001b[0m\u001b[0;34m[\u001b[0m\u001b[0;36m2\u001b[0m\u001b[0;34m:\u001b[0m\u001b[0;34m]\u001b[0m\u001b[0;34m)\u001b[0m \u001b[0;34m<\u001b[0m \u001b[0;36m9999\u001b[0m\u001b[0;34m)\u001b[0m\u001b[0;34m:\u001b[0m\u001b[0;34m\u001b[0m\u001b[0m\n\u001b[0;32m---> 13\u001b[0;31m                         \u001b[0;32mraise\u001b[0m \u001b[0mValueError\u001b[0m\u001b[0;34m(\u001b[0m\u001b[0;34m\"Invalid route number '{}'\"\u001b[0m\u001b[0;34m.\u001b[0m\u001b[0mformat\u001b[0m\u001b[0;34m(\u001b[0m\u001b[0mnumber\u001b[0m\u001b[0;34m)\u001b[0m\u001b[0;34m)\u001b[0m\u001b[0;34m\u001b[0m\u001b[0m\n\u001b[0m\u001b[1;32m     14\u001b[0m \u001b[0;34m\u001b[0m\u001b[0m\n\u001b[1;32m     15\u001b[0m                 \u001b[0mself\u001b[0m\u001b[0;34m.\u001b[0m\u001b[0m_number\u001b[0m \u001b[0;34m=\u001b[0m \u001b[0mnumber\u001b[0m\u001b[0;34m\u001b[0m\u001b[0m\n",
      "\u001b[0;31mValueError\u001b[0m: Invalid route number 'SN060000'"
     ]
    }
   ],
   "source": [
    "f = Flight(\"SN060000\")"
   ]
  },
  {
   "cell_type": "markdown",
   "metadata": {},
   "source": [
    "# A second class"
   ]
  },
  {
   "cell_type": "markdown",
   "metadata": {},
   "source": [
    "![img.png](img/41.png)"
   ]
  },
  {
   "cell_type": "code",
   "execution_count": null,
   "metadata": {},
   "outputs": [],
   "source": [
    "# Code sample\n",
    "\n",
    "\"\"\"Model for aircraft flight\"\"\"\n",
    "\n",
    "class Flight:\n",
    "    \n",
    "\tdef __init__(self, number):\n",
    "\t\tif not number[:2].isalpha():\n",
    "\t\t\traise ValueError(\"No airline code in '{}'\".format(number))\n",
    "\n",
    "\t\tif not number[:2].isupper():\n",
    "\t\t\traise ValueError(\"Invalid airline code '{}'\".format(number))\n",
    "\n",
    "\t\tif not (number[2:].isdigit() and int(number[2:]) < 9999):\n",
    "\t\t\traise ValueError(\"Invalid route number '{}'\".format(number))\n",
    "\n",
    "\t\tself._number = number\n",
    "        \n",
    "\tdef number(self):\n",
    "\t    return self._number\n",
    "\n",
    "\tdef airline(self):\n",
    "\t\treturn self._number[:2]\n",
    "\n",
    "\n",
    "class Aircraft:\n",
    "\n",
    "\t# this initializer is creating 4 attributes for the class i.e. registration number, model name, \n",
    "\t# number of rows and number of seats per row\n",
    "\t# in production, these attributes should be validated\n",
    "\tdef __init__(self, registration, model, num_rows, num_seats_per_row):\n",
    "\t\tself._reginstration = registration\n",
    "\t\tself._model = model\n",
    "\t\tself._num_rows = num_rows\n",
    "\t\tself._num_seats_per_row = num_seats_per_row\n",
    "\n",
    "\n",
    "\tdef registration(self):\n",
    "\t\treturn self._reginstration\n",
    "\n",
    "\n",
    "\tdef model(self):\n",
    "\t\treturn self._model\n",
    "\n",
    "\tdef seating_plan(self):\n",
    "\t\treturn (range(1, self._num_rows + 1),\n",
    "\t\t\t\t\"ABCDEFGHJK\"[:self._num_seats_per_row])"
   ]
  },
  {
   "cell_type": "code",
   "execution_count": 2,
   "metadata": {},
   "outputs": [],
   "source": [
    "from airtravel import *"
   ]
  },
  {
   "cell_type": "code",
   "execution_count": 3,
   "metadata": {},
   "outputs": [],
   "source": [
    "a = Aircraft(\"G-EUPT\", \"Airbus A319\", num_rows=22, num_seats_per_row=6)"
   ]
  },
  {
   "cell_type": "code",
   "execution_count": 4,
   "metadata": {},
   "outputs": [
    {
     "data": {
      "text/plain": [
       "'G-EUPT'"
      ]
     },
     "execution_count": 4,
     "metadata": {},
     "output_type": "execute_result"
    }
   ],
   "source": [
    "a.registration()"
   ]
  },
  {
   "cell_type": "code",
   "execution_count": 5,
   "metadata": {},
   "outputs": [
    {
     "data": {
      "text/plain": [
       "'Airbus A319'"
      ]
     },
     "execution_count": 5,
     "metadata": {},
     "output_type": "execute_result"
    }
   ],
   "source": [
    "a.model()"
   ]
  },
  {
   "cell_type": "code",
   "execution_count": 6,
   "metadata": {},
   "outputs": [
    {
     "data": {
      "text/plain": [
       "(range(1, 23), 'ABCDEF')"
      ]
     },
     "execution_count": 6,
     "metadata": {},
     "output_type": "execute_result"
    }
   ],
   "source": [
    "a.seating_plan()"
   ]
  },
  {
   "cell_type": "markdown",
   "metadata": {},
   "source": [
    "# Collaborating Classes"
   ]
  },
  {
   "cell_type": "code",
   "execution_count": null,
   "metadata": {},
   "outputs": [],
   "source": [
    "\"\"\"Model for aircraft flight\"\"\"\n",
    "\n",
    "class Flight:\n",
    "    \"\"\"A flight with a perticular passanger aircraft\"\"\"\n",
    "\n",
    "\tdef __init__(self, number, aircraft):\n",
    "\t\tif not number[:2].isalpha():\n",
    "\t\t\traise ValueError(\"No airline code in '{}'\".format(number))\n",
    "\n",
    "\t\tif not number[:2].isupper():\n",
    "\t\t\traise ValueError(\"Invalid airline code '{}'\".format(number))\n",
    "\n",
    "\t\tif not (number[2:].isdigit() and int(number[2:]) < 9999):\n",
    "\t\t\traise ValueError(\"Invalid route number '{}'\".format(number))\n",
    "\n",
    "\t\tself._number = number\n",
    "\t\tself._aircraft = aircraft\n",
    "        \n",
    "\tdef number(self):\n",
    "\t    return self._number\n",
    "\n",
    "\tdef airline(self):\n",
    "\t\treturn self._number[:2]\n",
    "\n",
    "\tdef aircraft_model(self):\n",
    "\t\treturn self._aircraft.model()\n",
    "\n",
    "\n",
    "class Aircraft:\n",
    "\n",
    "\t# this initializer is creating 4 attributes for the class i.e. registration number, model name, \n",
    "\t# number of rows and number of seats per row\n",
    "\t# in production, these attributes should be validated\n",
    "\tdef __init__(self, registration, model, num_rows, num_seats_per_row):\n",
    "\t\tself._reginstration = registration\n",
    "\t\tself._model = model\n",
    "\t\tself._num_rows = num_rows\n",
    "\t\tself._num_seats_per_row = num_seats_per_row\n",
    "\n",
    "\n",
    "\tdef registration(self):\n",
    "\t\treturn self._reginstration\n",
    "\n",
    "\n",
    "\tdef model(self):\n",
    "\t\treturn self._model\n",
    "\n",
    "\tdef seating_plan(self):\n",
    "\t\treturn (range(1, self._num_rows + 1),\n",
    "\t\t\t\t\"ABCDEFGHJK\"[:self._num_seats_per_row])"
   ]
  },
  {
   "cell_type": "code",
   "execution_count": null,
   "metadata": {},
   "outputs": [],
   "source": [
    "rango@bluehost:~/Coding-Practice/Python/PythonFundamentals$ python3\n",
    "Python 3.6.6 (default, Sep 12 2018, 18:26:19) \n",
    "[GCC 8.0.1 20180414 (experimental) [trunk revision 259383]] on linux\n",
    "Type \"help\", \"copyright\", \"credits\" or \"license\" for more information.\n",
    ">>> from airtravel import *\n",
    ">>> f = Flight(\"BA758\", Aircraft(\"G-EUPT\", \"Airbus A319\", num_rows=22, num_seats_per_row=6))\n",
    ">>> f.aircraft_model()\n",
    "'Airbus A319'"
   ]
  },
  {
   "cell_type": "markdown",
   "metadata": {},
   "source": [
    "# Moment of Zen: Complex is better than complicated"
   ]
  },
  {
   "cell_type": "markdown",
   "metadata": {},
   "source": [
    "# Example: Booking seats"
   ]
  },
  {
   "cell_type": "markdown",
   "metadata": {},
   "source": [
    "![img.png](img/42.png)"
   ]
  },
  {
   "cell_type": "markdown",
   "metadata": {},
   "source": [
    "![img.png](img/43.png)"
   ]
  },
  {
   "cell_type": "markdown",
   "metadata": {},
   "source": [
    "![img.png](img/44.png)"
   ]
  },
  {
   "cell_type": "markdown",
   "metadata": {},
   "source": [
    "![img.png](img/45.png)"
   ]
  },
  {
   "cell_type": "markdown",
   "metadata": {},
   "source": [
    "![img.png](img/46.png)"
   ]
  },
  {
   "cell_type": "code",
   "execution_count": null,
   "metadata": {},
   "outputs": [],
   "source": [
    "\"\"\"Model for aircraft flight\"\"\"\n",
    "\n",
    "class Flight:\n",
    "\t\"\"\"A flight with a perticular passanger aircraft\"\"\"\n",
    "\tdef __init__(self, number, aircraft):\n",
    "\t\tif not number[:2].isalpha():\n",
    "\t\t\traise ValueError(\"No airline code in '{}'\".format(number))\n",
    "\n",
    "\t\tif not number[:2].isupper():\n",
    "\t\t\traise ValueError(\"Invalid airline code '{}'\".format(number))\n",
    "\n",
    "\t\tif not (number[2:].isdigit() and int(number[2:]) < 9999):\n",
    "\t\t\traise ValueError(\"Invalid route number '{}'\".format(number))\n",
    "\n",
    "\t\tself._number = number\n",
    "\t\tself._aircraft = aircraft\n",
    "\n",
    "\t\trows, seats = self._aircraft.seating_plan()\n",
    "\t\tself._seating = [None] + [{letter:None for letter in seats} for _ in rows]\n",
    "\t    \n",
    "\tdef number(self):\n",
    "\t    return self._number\n",
    "\n",
    "\tdef airline(self):\n",
    "\t\treturn self._number[:2]\n",
    "\n",
    "\tdef aircraft_model(self):\n",
    "\t\treturn self._aircraft.model()\n",
    "\n",
    "\n",
    "class Aircraft:\n",
    "\n",
    "\t# this initializer is creating 4 attributes for the class i.e. registration number, model name, \n",
    "\t# number of rows and number of seats per row\n",
    "\t# in production, these attributes should be validated\n",
    "\tdef __init__(self, registration, model, num_rows, num_seats_per_row):\n",
    "\t\tself._reginstration = registration\n",
    "\t\tself._model = model\n",
    "\t\tself._num_rows = num_rows\n",
    "\t\tself._num_seats_per_row = num_seats_per_row\n",
    "\n",
    "\n",
    "\tdef registration(self):\n",
    "\t\treturn self._reginstration\n",
    "\n",
    "\n",
    "\tdef model(self):\n",
    "\t\treturn self._model\n",
    "\n",
    "\tdef seating_plan(self):\n",
    "\t\treturn (range(1, self._num_rows + 1),\n",
    "\t\t\t\t\"ABCDEFGHJK\"[:self._num_seats_per_row])"
   ]
  },
  {
   "cell_type": "code",
   "execution_count": 1,
   "metadata": {},
   "outputs": [],
   "source": [
    "from airtravel import *"
   ]
  },
  {
   "cell_type": "code",
   "execution_count": 2,
   "metadata": {},
   "outputs": [],
   "source": [
    "f = Flight(\"BA758\", Aircraft(\"G-EUPT\", \"Airbus A319\", num_rows=22, num_seats_per_row=6))"
   ]
  },
  {
   "cell_type": "code",
   "execution_count": 3,
   "metadata": {},
   "outputs": [
    {
     "data": {
      "text/plain": [
       "[None,\n",
       " {'A': None, 'B': None, 'C': None, 'D': None, 'E': None, 'F': None},\n",
       " {'A': None, 'B': None, 'C': None, 'D': None, 'E': None, 'F': None},\n",
       " {'A': None, 'B': None, 'C': None, 'D': None, 'E': None, 'F': None},\n",
       " {'A': None, 'B': None, 'C': None, 'D': None, 'E': None, 'F': None},\n",
       " {'A': None, 'B': None, 'C': None, 'D': None, 'E': None, 'F': None},\n",
       " {'A': None, 'B': None, 'C': None, 'D': None, 'E': None, 'F': None},\n",
       " {'A': None, 'B': None, 'C': None, 'D': None, 'E': None, 'F': None},\n",
       " {'A': None, 'B': None, 'C': None, 'D': None, 'E': None, 'F': None},\n",
       " {'A': None, 'B': None, 'C': None, 'D': None, 'E': None, 'F': None},\n",
       " {'A': None, 'B': None, 'C': None, 'D': None, 'E': None, 'F': None},\n",
       " {'A': None, 'B': None, 'C': None, 'D': None, 'E': None, 'F': None},\n",
       " {'A': None, 'B': None, 'C': None, 'D': None, 'E': None, 'F': None},\n",
       " {'A': None, 'B': None, 'C': None, 'D': None, 'E': None, 'F': None},\n",
       " {'A': None, 'B': None, 'C': None, 'D': None, 'E': None, 'F': None},\n",
       " {'A': None, 'B': None, 'C': None, 'D': None, 'E': None, 'F': None},\n",
       " {'A': None, 'B': None, 'C': None, 'D': None, 'E': None, 'F': None},\n",
       " {'A': None, 'B': None, 'C': None, 'D': None, 'E': None, 'F': None},\n",
       " {'A': None, 'B': None, 'C': None, 'D': None, 'E': None, 'F': None},\n",
       " {'A': None, 'B': None, 'C': None, 'D': None, 'E': None, 'F': None},\n",
       " {'A': None, 'B': None, 'C': None, 'D': None, 'E': None, 'F': None},\n",
       " {'A': None, 'B': None, 'C': None, 'D': None, 'E': None, 'F': None},\n",
       " {'A': None, 'B': None, 'C': None, 'D': None, 'E': None, 'F': None}]"
      ]
     },
     "execution_count": 3,
     "metadata": {},
     "output_type": "execute_result"
    }
   ],
   "source": [
    "f._seating"
   ]
  },
  {
   "cell_type": "code",
   "execution_count": null,
   "metadata": {},
   "outputs": [],
   "source": [
    "\"\"\"Model for aircraft flight\"\"\"\n",
    "\n",
    "class Flight:\n",
    "\t\"\"\"A flight with a perticular passanger aircraft\"\"\"\n",
    "\tdef __init__(self, number, aircraft):\n",
    "\t\tif not number[:2].isalpha():\n",
    "\t\t\traise ValueError(\"No airline code in '{}'\".format(number))\n",
    "\n",
    "\t\tif not number[:2].isupper():\n",
    "\t\t\traise ValueError(\"Invalid airline code '{}'\".format(number))\n",
    "\n",
    "\t\tif not (number[2:].isdigit() and int(number[2:]) < 9999):\n",
    "\t\t\traise ValueError(\"Invalid route number '{}'\".format(number))\n",
    "\n",
    "\t\tself._number = number\n",
    "\t\tself._aircraft = aircraft\n",
    "\n",
    "\t\trows, seats = self._aircraft.seating_plan()\n",
    "\t\tself._seating = [None] + [{letter:None for letter in seats} for _ in rows]\n",
    "\t    \n",
    "\tdef number(self):\n",
    "\t    return self._number\n",
    "\n",
    "\tdef airline(self):\n",
    "\t\treturn self._number[:2]\n",
    "\n",
    "\tdef aircraft_model(self):\n",
    "\t\treturn self._aircraft.model()\n",
    "\n",
    "\tdef allocate_seat(self, seat, passanger):\n",
    "\t\t\"\"\"Allocate a seat to a passanger\n",
    "\n",
    "\t\tArgs: \n",
    "\t\t\tseat: A seat designator such as '12C' or '21F'\n",
    "\t\t\tpassanger: The passanger name\n",
    "\n",
    "\t\tRaises:\n",
    "\t\t\tValueError: If the seat is unavailable\n",
    "\t\t\"\"\"\n",
    "\t\trows, seat_letters = self._aircraft.seating_plan()\n",
    "\n",
    "\t\tletter = seat[-1]\n",
    "\t\tif letter not in seat_letters:\n",
    "\t\t\traise ValueError(\"Invalid seat letter {}\".format(letter))\n",
    "\n",
    "\t\trow_text = seat[:-1]\n",
    "\t\ttry:\n",
    "\t\t\trow = int(row_text)\n",
    "\n",
    "\t\texcept ValueError:\n",
    "\t\t\traise ValueError(\"Invalid seat row {}\".format(row_text))\n",
    "\n",
    "\t\tif row in not rows:\n",
    "\t\t\traise ValueError(\"Invalid row number {}\".format(row))\n",
    "\n",
    "\t\tif self._seating[row][letter] is not None:\n",
    "\t\t\traise ValueError(\"Seat {} already occupied\".format(seat))\n",
    "\n",
    "\t\tself._seating[row][letter] = passanger\n",
    "\n",
    "\n",
    "class Aircraft:\n",
    "\n",
    "\t# this initializer is creating 4 attributes for the class i.e. registration number, model name, \n",
    "\t# number of rows and number of seats per row\n",
    "\t# in production, these attributes should be validated\n",
    "\tdef __init__(self, registration, model, num_rows, num_seats_per_row):\n",
    "\t\tself._reginstration = registration\n",
    "\t\tself._model = model\n",
    "\t\tself._num_rows = num_rows\n",
    "\t\tself._num_seats_per_row = num_seats_per_row\n",
    "\n",
    "\n",
    "\tdef registration(self):\n",
    "\t\treturn self._reginstration\n",
    "\n",
    "\n",
    "\tdef model(self):\n",
    "\t\treturn self._model\n",
    "\n",
    "\tdef seating_plan(self):\n",
    "\t\treturn (range(1, self._num_rows + 1),\n",
    "\t\t\t\t\"ABCDEFGHJK\"[:self._num_seats_per_row])"
   ]
  },
  {
   "cell_type": "code",
   "execution_count": 2,
   "metadata": {},
   "outputs": [],
   "source": [
    "from airtravel import *"
   ]
  },
  {
   "cell_type": "code",
   "execution_count": 3,
   "metadata": {},
   "outputs": [],
   "source": [
    "f = Flight(\"BA758\", Aircraft(\"G-EUPT\", \"Airbus A319\", num_rows=22, num_seats_per_row=6))"
   ]
  },
  {
   "cell_type": "code",
   "execution_count": 4,
   "metadata": {},
   "outputs": [],
   "source": [
    "f.allocate_seat('12A', 'Guido van Rssum')"
   ]
  },
  {
   "cell_type": "code",
   "execution_count": 5,
   "metadata": {},
   "outputs": [
    {
     "ename": "ValueError",
     "evalue": "Seat 12A already occupied",
     "output_type": "error",
     "traceback": [
      "\u001b[0;31m---------------------------------------------------------------------------\u001b[0m",
      "\u001b[0;31mValueError\u001b[0m                                Traceback (most recent call last)",
      "\u001b[0;32m<ipython-input-5-41e138a51de3>\u001b[0m in \u001b[0;36m<module>\u001b[0;34m()\u001b[0m\n\u001b[0;32m----> 1\u001b[0;31m \u001b[0mf\u001b[0m\u001b[0;34m.\u001b[0m\u001b[0mallocate_seat\u001b[0m\u001b[0;34m(\u001b[0m\u001b[0;34m'12A'\u001b[0m\u001b[0;34m,\u001b[0m \u001b[0;34m'Akash Giri'\u001b[0m\u001b[0;34m)\u001b[0m\u001b[0;34m\u001b[0m\u001b[0m\n\u001b[0m",
      "\u001b[0;32m~/Coding-Practice/Python/PythonFundamentals/airtravel.py\u001b[0m in \u001b[0;36mallocate_seat\u001b[0;34m(self, seat, passanger)\u001b[0m\n\u001b[1;32m     55\u001b[0m \u001b[0;34m\u001b[0m\u001b[0m\n\u001b[1;32m     56\u001b[0m                 \u001b[0;32mif\u001b[0m \u001b[0mself\u001b[0m\u001b[0;34m.\u001b[0m\u001b[0m_seating\u001b[0m\u001b[0;34m[\u001b[0m\u001b[0mrow\u001b[0m\u001b[0;34m]\u001b[0m\u001b[0;34m[\u001b[0m\u001b[0mletter\u001b[0m\u001b[0;34m]\u001b[0m \u001b[0;32mis\u001b[0m \u001b[0;32mnot\u001b[0m \u001b[0;32mNone\u001b[0m\u001b[0;34m:\u001b[0m\u001b[0;34m\u001b[0m\u001b[0m\n\u001b[0;32m---> 57\u001b[0;31m                         \u001b[0;32mraise\u001b[0m \u001b[0mValueError\u001b[0m\u001b[0;34m(\u001b[0m\u001b[0;34m\"Seat {} already occupied\"\u001b[0m\u001b[0;34m.\u001b[0m\u001b[0mformat\u001b[0m\u001b[0;34m(\u001b[0m\u001b[0mseat\u001b[0m\u001b[0;34m)\u001b[0m\u001b[0;34m)\u001b[0m\u001b[0;34m\u001b[0m\u001b[0m\n\u001b[0m\u001b[1;32m     58\u001b[0m \u001b[0;34m\u001b[0m\u001b[0m\n\u001b[1;32m     59\u001b[0m                 \u001b[0mself\u001b[0m\u001b[0;34m.\u001b[0m\u001b[0m_seating\u001b[0m\u001b[0;34m[\u001b[0m\u001b[0mrow\u001b[0m\u001b[0;34m]\u001b[0m\u001b[0;34m[\u001b[0m\u001b[0mletter\u001b[0m\u001b[0;34m]\u001b[0m \u001b[0;34m=\u001b[0m \u001b[0mpassanger\u001b[0m\u001b[0;34m\u001b[0m\u001b[0m\n",
      "\u001b[0;31mValueError\u001b[0m: Seat 12A already occupied"
     ]
    }
   ],
   "source": [
    "f.allocate_seat('12A', 'Akash Giri')"
   ]
  },
  {
   "cell_type": "code",
   "execution_count": 6,
   "metadata": {},
   "outputs": [],
   "source": [
    "f.allocate_seat('15F', 'Guido van Rssum')"
   ]
  },
  {
   "cell_type": "code",
   "execution_count": 7,
   "metadata": {},
   "outputs": [],
   "source": [
    "f.allocate_seat('15E', 'Ram')"
   ]
  },
  {
   "cell_type": "code",
   "execution_count": 8,
   "metadata": {},
   "outputs": [
    {
     "ename": "ValueError",
     "evalue": "Invalid seat letter 7",
     "output_type": "error",
     "traceback": [
      "\u001b[0;31m---------------------------------------------------------------------------\u001b[0m",
      "\u001b[0;31mValueError\u001b[0m                                Traceback (most recent call last)",
      "\u001b[0;32m<ipython-input-8-4275861985e0>\u001b[0m in \u001b[0;36m<module>\u001b[0;34m()\u001b[0m\n\u001b[0;32m----> 1\u001b[0;31m \u001b[0mf\u001b[0m\u001b[0;34m.\u001b[0m\u001b[0mallocate_seat\u001b[0m\u001b[0;34m(\u001b[0m\u001b[0;34m'E27'\u001b[0m\u001b[0;34m,\u001b[0m \u001b[0;34m'Pinku'\u001b[0m\u001b[0;34m)\u001b[0m\u001b[0;34m\u001b[0m\u001b[0m\n\u001b[0m",
      "\u001b[0;32m~/Coding-Practice/Python/PythonFundamentals/airtravel.py\u001b[0m in \u001b[0;36mallocate_seat\u001b[0;34m(self, seat, passanger)\u001b[0m\n\u001b[1;32m     42\u001b[0m                 \u001b[0mletter\u001b[0m \u001b[0;34m=\u001b[0m \u001b[0mseat\u001b[0m\u001b[0;34m[\u001b[0m\u001b[0;34m-\u001b[0m\u001b[0;36m1\u001b[0m\u001b[0;34m]\u001b[0m\u001b[0;34m\u001b[0m\u001b[0m\n\u001b[1;32m     43\u001b[0m                 \u001b[0;32mif\u001b[0m \u001b[0mletter\u001b[0m \u001b[0;32mnot\u001b[0m \u001b[0;32min\u001b[0m \u001b[0mseat_letters\u001b[0m\u001b[0;34m:\u001b[0m\u001b[0;34m\u001b[0m\u001b[0m\n\u001b[0;32m---> 44\u001b[0;31m                         \u001b[0;32mraise\u001b[0m \u001b[0mValueError\u001b[0m\u001b[0;34m(\u001b[0m\u001b[0;34m\"Invalid seat letter {}\"\u001b[0m\u001b[0;34m.\u001b[0m\u001b[0mformat\u001b[0m\u001b[0;34m(\u001b[0m\u001b[0mletter\u001b[0m\u001b[0;34m)\u001b[0m\u001b[0;34m)\u001b[0m\u001b[0;34m\u001b[0m\u001b[0m\n\u001b[0m\u001b[1;32m     45\u001b[0m \u001b[0;34m\u001b[0m\u001b[0m\n\u001b[1;32m     46\u001b[0m                 \u001b[0mrow_text\u001b[0m \u001b[0;34m=\u001b[0m \u001b[0mseat\u001b[0m\u001b[0;34m[\u001b[0m\u001b[0;34m:\u001b[0m\u001b[0;34m-\u001b[0m\u001b[0;36m1\u001b[0m\u001b[0;34m]\u001b[0m\u001b[0;34m\u001b[0m\u001b[0m\n",
      "\u001b[0;31mValueError\u001b[0m: Invalid seat letter 7"
     ]
    }
   ],
   "source": [
    "f.allocate_seat('E27', 'Pinku')"
   ]
  },
  {
   "cell_type": "code",
   "execution_count": 9,
   "metadata": {},
   "outputs": [],
   "source": [
    "f.allocate_seat('1C', 'One see')"
   ]
  },
  {
   "cell_type": "code",
   "execution_count": 10,
   "metadata": {},
   "outputs": [
    {
     "ename": "ValueError",
     "evalue": "Invalid seat row C",
     "output_type": "error",
     "traceback": [
      "\u001b[0;31m---------------------------------------------------------------------------\u001b[0m",
      "\u001b[0;31mValueError\u001b[0m                                Traceback (most recent call last)",
      "\u001b[0;32m~/Coding-Practice/Python/PythonFundamentals/airtravel.py\u001b[0m in \u001b[0;36mallocate_seat\u001b[0;34m(self, seat, passanger)\u001b[0m\n\u001b[1;32m     47\u001b[0m                 \u001b[0;32mtry\u001b[0m\u001b[0;34m:\u001b[0m\u001b[0;34m\u001b[0m\u001b[0m\n\u001b[0;32m---> 48\u001b[0;31m                         \u001b[0mrow\u001b[0m \u001b[0;34m=\u001b[0m \u001b[0mint\u001b[0m\u001b[0;34m(\u001b[0m\u001b[0mrow_text\u001b[0m\u001b[0;34m)\u001b[0m\u001b[0;34m\u001b[0m\u001b[0m\n\u001b[0m\u001b[1;32m     49\u001b[0m \u001b[0;34m\u001b[0m\u001b[0m\n",
      "\u001b[0;31mValueError\u001b[0m: invalid literal for int() with base 10: 'C'",
      "\nDuring handling of the above exception, another exception occurred:\n",
      "\u001b[0;31mValueError\u001b[0m                                Traceback (most recent call last)",
      "\u001b[0;32m<ipython-input-10-1389d8fc720b>\u001b[0m in \u001b[0;36m<module>\u001b[0;34m()\u001b[0m\n\u001b[0;32m----> 1\u001b[0;31m \u001b[0mf\u001b[0m\u001b[0;34m.\u001b[0m\u001b[0mallocate_seat\u001b[0m\u001b[0;34m(\u001b[0m\u001b[0;34m'CC'\u001b[0m\u001b[0;34m,\u001b[0m \u001b[0;34m'See See'\u001b[0m\u001b[0;34m)\u001b[0m\u001b[0;34m\u001b[0m\u001b[0m\n\u001b[0m",
      "\u001b[0;32m~/Coding-Practice/Python/PythonFundamentals/airtravel.py\u001b[0m in \u001b[0;36mallocate_seat\u001b[0;34m(self, seat, passanger)\u001b[0m\n\u001b[1;32m     49\u001b[0m \u001b[0;34m\u001b[0m\u001b[0m\n\u001b[1;32m     50\u001b[0m                 \u001b[0;32mexcept\u001b[0m \u001b[0mValueError\u001b[0m\u001b[0;34m:\u001b[0m\u001b[0;34m\u001b[0m\u001b[0m\n\u001b[0;32m---> 51\u001b[0;31m                         \u001b[0;32mraise\u001b[0m \u001b[0mValueError\u001b[0m\u001b[0;34m(\u001b[0m\u001b[0;34m\"Invalid seat row {}\"\u001b[0m\u001b[0;34m.\u001b[0m\u001b[0mformat\u001b[0m\u001b[0;34m(\u001b[0m\u001b[0mrow_text\u001b[0m\u001b[0;34m)\u001b[0m\u001b[0;34m)\u001b[0m\u001b[0;34m\u001b[0m\u001b[0m\n\u001b[0m\u001b[1;32m     52\u001b[0m \u001b[0;34m\u001b[0m\u001b[0m\n\u001b[1;32m     53\u001b[0m                 \u001b[0;32mif\u001b[0m \u001b[0mrow\u001b[0m \u001b[0;32mnot\u001b[0m \u001b[0;32min\u001b[0m \u001b[0mrows\u001b[0m\u001b[0;34m:\u001b[0m\u001b[0;34m\u001b[0m\u001b[0m\n",
      "\u001b[0;31mValueError\u001b[0m: Invalid seat row C"
     ]
    }
   ],
   "source": [
    "f.allocate_seat('CC', 'See See')"
   ]
  },
  {
   "cell_type": "code",
   "execution_count": 11,
   "metadata": {},
   "outputs": [
    {
     "data": {
      "text/plain": [
       "[None,\n",
       " {'A': None, 'B': None, 'C': 'One see', 'D': None, 'E': None, 'F': None},\n",
       " {'A': None, 'B': None, 'C': None, 'D': None, 'E': None, 'F': None},\n",
       " {'A': None, 'B': None, 'C': None, 'D': None, 'E': None, 'F': None},\n",
       " {'A': None, 'B': None, 'C': None, 'D': None, 'E': None, 'F': None},\n",
       " {'A': None, 'B': None, 'C': None, 'D': None, 'E': None, 'F': None},\n",
       " {'A': None, 'B': None, 'C': None, 'D': None, 'E': None, 'F': None},\n",
       " {'A': None, 'B': None, 'C': None, 'D': None, 'E': None, 'F': None},\n",
       " {'A': None, 'B': None, 'C': None, 'D': None, 'E': None, 'F': None},\n",
       " {'A': None, 'B': None, 'C': None, 'D': None, 'E': None, 'F': None},\n",
       " {'A': None, 'B': None, 'C': None, 'D': None, 'E': None, 'F': None},\n",
       " {'A': None, 'B': None, 'C': None, 'D': None, 'E': None, 'F': None},\n",
       " {'A': 'Guido van Rssum',\n",
       "  'B': None,\n",
       "  'C': None,\n",
       "  'D': None,\n",
       "  'E': None,\n",
       "  'F': None},\n",
       " {'A': None, 'B': None, 'C': None, 'D': None, 'E': None, 'F': None},\n",
       " {'A': None, 'B': None, 'C': None, 'D': None, 'E': None, 'F': None},\n",
       " {'A': None,\n",
       "  'B': None,\n",
       "  'C': None,\n",
       "  'D': None,\n",
       "  'E': 'Ram',\n",
       "  'F': 'Guido van Rssum'},\n",
       " {'A': None, 'B': None, 'C': None, 'D': None, 'E': None, 'F': None},\n",
       " {'A': None, 'B': None, 'C': None, 'D': None, 'E': None, 'F': None},\n",
       " {'A': None, 'B': None, 'C': None, 'D': None, 'E': None, 'F': None},\n",
       " {'A': None, 'B': None, 'C': None, 'D': None, 'E': None, 'F': None},\n",
       " {'A': None, 'B': None, 'C': None, 'D': None, 'E': None, 'F': None},\n",
       " {'A': None, 'B': None, 'C': None, 'D': None, 'E': None, 'F': None},\n",
       " {'A': None, 'B': None, 'C': None, 'D': None, 'E': None, 'F': None}]"
      ]
     },
     "execution_count": 11,
     "metadata": {},
     "output_type": "execute_result"
    }
   ],
   "source": [
    "f._seating"
   ]
  },
  {
   "cell_type": "code",
   "execution_count": null,
   "metadata": {},
   "outputs": [],
   "source": [
    "\"\"\"Model for aircraft flight\"\"\"\n",
    "\n",
    "class Flight:\n",
    "\t\"\"\"A flight with a perticular passanger aircraft\"\"\"\n",
    "\tdef __init__(self, number, aircraft):\n",
    "\t\tif not number[:2].isalpha():\n",
    "\t\t\traise ValueError(\"No airline code in '{}'\".format(number))\n",
    "\n",
    "\t\tif not number[:2].isupper():\n",
    "\t\t\traise ValueError(\"Invalid airline code '{}'\".format(number))\n",
    "\n",
    "\t\tif not (number[2:].isdigit() and int(number[2:]) < 9999):\n",
    "\t\t\traise ValueError(\"Invalid route number '{}'\".format(number))\n",
    "\n",
    "\t\tself._number = number\n",
    "\t\tself._aircraft = aircraft\n",
    "\n",
    "\t\trows, seats = self._aircraft.seating_plan()\n",
    "\t\tself._seating = [None] + [{letter:None for letter in seats} for _ in rows]\n",
    "\t    \n",
    "\tdef number(self):\n",
    "\t    return self._number\n",
    "\n",
    "\tdef airline(self):\n",
    "\t\treturn self._number[:2]\n",
    "\n",
    "\tdef aircraft_model(self):\n",
    "\t\treturn self._aircraft.model()\n",
    "\n",
    "\tdef _parse_seat(self, seat):\n",
    "\t\t\"\"\"Parse a seat designator into a valid row and letter.\n",
    "\n",
    "\t\tArgs:\n",
    "\t\t\tseat: A seat designator such as 12F\n",
    "\n",
    "\t\tReturns:\n",
    "\t\t\tA tuple containing an integer and a string for row and seat.\n",
    "\n",
    "\t\t\"\"\"\n",
    "\t\trow_numbers, seat_letters = self._aircraft.seating_plan()\n",
    "\n",
    "\t\tletter = seat[-1]\n",
    "\t\tif letter not in seat_letters:\n",
    "\t\t\traise ValueError(\"Invalid seat letter {}\".format(letter))\n",
    "\n",
    "\t\trow_text = seat[:-1]\n",
    "\t\ttry:\n",
    "\t\t\trow = int(row_text)\n",
    "\n",
    "\t\texcept ValueError:\n",
    "\t\t\traise ValueError(\"Invalid seat row {}\".format(row_text))\n",
    "\n",
    "\t\tif row not in row_numbers:\n",
    "\t\t\traise ValueError(\"Invalid row number {}\".format(row))\n",
    "\n",
    "\t\treturn row, letter\n",
    "\n",
    "\tdef allocate_seat(self, seat, passanger):\n",
    "\t\t\"\"\"Allocate a seat to a passanger\n",
    "\n",
    "\t\tArgs: \n",
    "\t\t\tseat: A seat designator such as '12C' or '21F'\n",
    "\t\t\tpassanger: The passanger name\n",
    "\n",
    "\t\tRaises:\n",
    "\t\t\tValueError: If the seat is unavailable\n",
    "\t\t\"\"\"\n",
    "\t\trows, seat_letters = self._aircraft.seating_plan()\n",
    "\n",
    "\t\tletter = seat[-1]\n",
    "\t\tif letter not in seat_letters:\n",
    "\t\t\traise ValueError(\"Invalid seat letter {}\".format(letter))\n",
    "\n",
    "\t\trow_text = seat[:-1]\n",
    "\t\ttry:\n",
    "\t\t\trow = int(row_text)\n",
    "\n",
    "\t\texcept ValueError:\n",
    "\t\t\traise ValueError(\"Invalid seat row {}\".format(row_text))\n",
    "\n",
    "\t\tif row not in rows:\n",
    "\t\t\traise ValueError(\"Invalid row number {}\".format(row))\n",
    "\n",
    "\t\tif self._seating[row][letter] is not None:\n",
    "\t\t\traise ValueError(\"Seat {} already occupied\".format(seat))\n",
    "\n",
    "\t\tself._seating[row][letter] = passanger\n",
    "\n",
    "\tdef relocate_passanger(self, from_seat, to_seat):\n",
    "\t\t\"\"\"Relocate a passanger to a different seat.\n",
    "\n",
    "\t\tArgs:\n",
    "\t\t\tfrom_seat: The existing seat designator for the \n",
    "\t\t\t\t\t\tpassanger to be moved.\n",
    "\t\t\tto_seat: The new seat designator\n",
    "\t\t\"\"\"\n",
    "\t\tfrom_row, from_letter = self._parse_seat(from_seat)\n",
    "\t\tif self._seating[from_row][from_letter] is None:\n",
    "\t\t\traise ValueError(\"No passanger to relocate in seat {}\".format(from_seat))\n",
    "\n",
    "\t\tto_row, to_letter = self._parse_seat(to_seat)\n",
    "\t\tif self._seating[to_seat][from_letter] is None:\n",
    "\t\t\traise ValueError(\"Seat {} already occupied\".format(to_seat))\n",
    "\n",
    "\t\tself._seating[to_row][to_letter] = self._seating[from_row][from_letter]\n",
    "\t\tself._seating[from_row][from_letter] = None\n",
    "\n",
    "\n",
    "\tdef num_available_seats(self):\n",
    "\t\treturn sum(sum(1 for s in row.value() if s is None)\n",
    "\t\t\t\t\tfor row in self._seating\n",
    "\t\t\t\t\tif row is not None)\n",
    "\n",
    "\tdef make_boarding_cards(self, card_printer):\n",
    "\t\tfor passanger, seat in sorted(self._passanger_seats()):\n",
    "\t\t\tcard_printer(passanger, seat, self.number(), self.aircraft_model())\n",
    "\n",
    "\tdef _passanger_seats(self):\n",
    "\t\t\"\"\"An iterable series of passanger seating allocations\"\"\"\n",
    "\t\trow_numbers, seat_letters = self._aircraft.seating_plan()\n",
    "\t\tfor row in row_numbers:\n",
    "\t\t\tfor letter in seat_letters:\n",
    "\t\t\t\tpassanger = self._seating[row][letter]\n",
    "\t\t\t\tif passanger is not None:\n",
    "\t\t\t\t\tyield (passanger, \"{}{}\".format(row, letter))\n",
    "\n",
    "\n",
    "\n",
    "class Aircraft:\n",
    "\n",
    "\t# this initializer is creating 4 attributes for the class i.e. registration number, model name, \n",
    "\t# number of rows and number of seats per row\n",
    "\t# in production, these attributes should be validated\n",
    "\tdef __init__(self, registration, model, num_rows, num_seats_per_row):\n",
    "\t\tself._reginstration = registration\n",
    "\t\tself._model = model\n",
    "\t\tself._num_rows = num_rows\n",
    "\t\tself._num_seats_per_row = num_seats_per_row\n",
    "\n",
    "\n",
    "\tdef registration(self):\n",
    "\t\treturn self._reginstration\n",
    "\n",
    "\n",
    "\tdef model(self):\n",
    "\t\treturn self._model\n",
    "\n",
    "\tdef seating_plan(self):\n",
    "\t\treturn (range(1, self._num_rows + 1),\n",
    "\t\t\t\t\"ABCDEFGHJK\"[:self._num_seats_per_row])\n",
    "\n",
    "\n",
    "\n",
    "def make_flight():\n",
    "\tf = Flight(\"BA758\", Aircraft(\"G-EUPT\", \"Airbus A319\", num_rows=22, num_seats_per_row=6))\n",
    "\tf.allocate_seat('12F', 'Guido van Rossum')\n",
    "\tf.allocate_seat('15F', 'Bjarne Hejlsberg')\n",
    "\tf.allocate_seat('15E', 'Akash Giri')\n",
    "\tf.allocate_seat('1C', 'Vishal Giri')\n",
    "\tf.allocate_seat('1D', 'Richard Hickey ')\n",
    "\n",
    "\n",
    "\n",
    "def console_card_printer(passanger, seat, flight_number, aircraft):\n",
    "\toutput = \"| Name: {0}\" \t \\\n",
    "\t\t\t \"\tFlight: {1}\" \\\n",
    "\t\t\t \"  Seat: {2}\"   \\\n",
    "\t\t\t \"  Aircraft: {3}\"\\\n",
    "\t\t\t \" |\".format(passanger, flight_number, seat, aircraft)\n",
    "\n",
    "\tbanner = \"+\" + \"-\"*(len(output) -2) + \"+\"\n",
    "\tborder = \"|\" + \" \"*(len(output) -2) + \"|\"\n",
    "\tlines = [banner, border, output, border, banner]\n",
    "\tcard = '\\n'.join(lines)\n",
    "\tprint(card)\n",
    "\tprint()"
   ]
  },
  {
   "cell_type": "code",
   "execution_count": 2,
   "metadata": {},
   "outputs": [],
   "source": [
    "from airtravel import console_card_printer, make_flight"
   ]
  },
  {
   "cell_type": "code",
   "execution_count": 3,
   "metadata": {},
   "outputs": [],
   "source": [
    "f = make_flight()"
   ]
  },
  {
   "cell_type": "code",
   "execution_count": 4,
   "metadata": {},
   "outputs": [
    {
     "data": {
      "text/plain": [
       "127"
      ]
     },
     "execution_count": 4,
     "metadata": {},
     "output_type": "execute_result"
    }
   ],
   "source": [
    "f.num_available_seats()"
   ]
  },
  {
   "cell_type": "code",
   "execution_count": 5,
   "metadata": {},
   "outputs": [
    {
     "name": "stdout",
     "output_type": "stream",
     "text": [
      "+----------------------------------------------------------------+\n",
      "|                                                                |\n",
      "| Name: Akash Giri Flight: BA758 Seat: 15E Aircraft: Airbus A319 |\n",
      "|                                                                |\n",
      "+----------------------------------------------------------------+\n",
      "\n",
      "+----------------------------------------------------------------------+\n",
      "|                                                                      |\n",
      "| Name: Bjarne Hejlsberg Flight: BA758 Seat: 15F Aircraft: Airbus A319 |\n",
      "|                                                                      |\n",
      "+----------------------------------------------------------------------+\n",
      "\n",
      "+----------------------------------------------------------------------+\n",
      "|                                                                      |\n",
      "| Name: Guido van Rossum Flight: BA758 Seat: 12F Aircraft: Airbus A319 |\n",
      "|                                                                      |\n",
      "+----------------------------------------------------------------------+\n",
      "\n",
      "+--------------------------------------------------------------------+\n",
      "|                                                                    |\n",
      "| Name: Richard Hickey  Flight: BA758 Seat: 1D Aircraft: Airbus A319 |\n",
      "|                                                                    |\n",
      "+--------------------------------------------------------------------+\n",
      "\n",
      "+----------------------------------------------------------------+\n",
      "|                                                                |\n",
      "| Name: Vishal Giri Flight: BA758 Seat: 1C Aircraft: Airbus A319 |\n",
      "|                                                                |\n",
      "+----------------------------------------------------------------+\n",
      "\n"
     ]
    }
   ],
   "source": [
    "f.make_boarding_cards(console_card_printer)"
   ]
  },
  {
   "cell_type": "code",
   "execution_count": null,
   "metadata": {},
   "outputs": [],
   "source": [
    "\"\"\"Model for aircraft flight\"\"\"\n",
    "\n",
    "class Flight:\n",
    "\t\"\"\"A flight with a perticular passanger aircraft\"\"\"\n",
    "\tdef __init__(self, number, aircraft):\n",
    "\t\tif not number[:2].isalpha():\n",
    "\t\t\traise ValueError(\"No airline code in '{}'\".format(number))\n",
    "\n",
    "\t\tif not number[:2].isupper():\n",
    "\t\t\traise ValueError(\"Invalid airline code '{}'\".format(number))\n",
    "\n",
    "\t\tif not (number[2:].isdigit() and int(number[2:]) < 9999):\n",
    "\t\t\traise ValueError(\"Invalid route number '{}'\".format(number))\n",
    "\n",
    "\t\tself._number = number\n",
    "\t\tself._aircraft = aircraft\n",
    "\n",
    "\t\trows, seats = self._aircraft.seating_plan()\n",
    "\t\tself._seating = [None] + [{letter:None for letter in seats} for _ in rows]\n",
    "\t    \n",
    "\tdef number(self):\n",
    "\t    return self._number\n",
    "\n",
    "\tdef airline(self):\n",
    "\t\treturn self._number[:2]\n",
    "\n",
    "\tdef aircraft_model(self):\n",
    "\t\treturn self._aircraft.model()\n",
    "\n",
    "\tdef _parse_seat(self, seat):\n",
    "\t\t\"\"\"Parse a seat designator into a valid row and letter.\n",
    "\n",
    "\t\tArgs:\n",
    "\t\t\tseat: A seat designator such as 12F\n",
    "\n",
    "\t\tReturns:\n",
    "\t\t\tA tuple containing an integer and a string for row and seat.\n",
    "\n",
    "\t\t\"\"\"\n",
    "\t\trow_numbers, seat_letters = self._aircraft.seating_plan()\n",
    "\n",
    "\t\tletter = seat[-1]\n",
    "\t\tif letter not in seat_letters:\n",
    "\t\t\traise ValueError(\"Invalid seat letter {}\".format(letter))\n",
    "\n",
    "\t\trow_text = seat[:-1]\n",
    "\t\ttry:\n",
    "\t\t\trow = int(row_text)\n",
    "\n",
    "\t\texcept ValueError:\n",
    "\t\t\traise ValueError(\"Invalid seat row {}\".format(row_text))\n",
    "\n",
    "\t\tif row not in row_numbers:\n",
    "\t\t\traise ValueError(\"Invalid row number {}\".format(row))\n",
    "\n",
    "\t\treturn row, letter\n",
    "\n",
    "\tdef allocate_seat(self, seat, passanger):\n",
    "\t\t\"\"\"Allocate a seat to a passanger\n",
    "\n",
    "\t\tArgs: \n",
    "\t\t\tseat: A seat designator such as '12C' or '21F'\n",
    "\t\t\tpassanger: The passanger name\n",
    "\n",
    "\t\tRaises:\n",
    "\t\t\tValueError: If the seat is unavailable\n",
    "\t\t\"\"\"\n",
    "\t\trows, seat_letters = self._aircraft.seating_plan()\n",
    "\n",
    "\t\tletter = seat[-1]\n",
    "\t\tif letter not in seat_letters:\n",
    "\t\t\traise ValueError(\"Invalid seat letter {}\".format(letter))\n",
    "\n",
    "\t\trow_text = seat[:-1]\n",
    "\t\ttry:\n",
    "\t\t\trow = int(row_text)\n",
    "\n",
    "\t\texcept ValueError:\n",
    "\t\t\traise ValueError(\"Invalid seat row {}\".format(row_text))\n",
    "\n",
    "\t\tif row not in rows:\n",
    "\t\t\traise ValueError(\"Invalid row number {}\".format(row))\n",
    "\n",
    "\t\tif self._seating[row][letter] is not None:\n",
    "\t\t\traise ValueError(\"Seat {} already occupied\".format(seat))\n",
    "\n",
    "\t\tself._seating[row][letter] = passanger\n",
    "\n",
    "\tdef relocate_passanger(self, from_seat, to_seat):\n",
    "\t\t\"\"\"Relocate a passanger to a different seat.\n",
    "\n",
    "\t\tArgs:\n",
    "\t\t\tfrom_seat: The existing seat designator for the \n",
    "\t\t\t\t\t\tpassanger to be moved.\n",
    "\t\t\tto_seat: The new seat designator\n",
    "\t\t\"\"\"\n",
    "\t\tfrom_row, from_letter = self._parse_seat(from_seat)\n",
    "\t\tif self._seating[from_row][from_letter] is None:\n",
    "\t\t\traise ValueError(\"No passanger to relocate in seat {}\".format(from_seat))\n",
    "\n",
    "\t\tto_row, to_letter = self._parse_seat(to_seat)\n",
    "\t\tif self._seating[to_seat][from_letter] is None:\n",
    "\t\t\traise ValueError(\"Seat {} already occupied\".format(to_seat))\n",
    "\n",
    "\t\tself._seating[to_row][to_letter] = self._seating[from_row][from_letter]\n",
    "\t\tself._seating[from_row][from_letter] = None\n",
    "\n",
    "\n",
    "\tdef num_available_seats(self):\n",
    "\t\treturn sum(sum(1 for s in row.values() if s is None)\n",
    "\t\t\t\t\tfor row in self._seating\n",
    "\t\t\t\t\tif row is not None)\n",
    "\n",
    "\tdef make_boarding_cards(self, card_printer):\n",
    "\t\tfor passanger, seat in sorted(self._passanger_seats()):\n",
    "\t\t\tcard_printer(passanger, seat, self.number(), self.aircraft_model())\n",
    "\n",
    "\tdef _passanger_seats(self):\n",
    "\t\t\"\"\"An iterable series of passanger seating allocations\"\"\"\n",
    "\t\trow_numbers, seat_letters = self._aircraft.seating_plan()\n",
    "\t\tfor row in row_numbers:\n",
    "\t\t\tfor letter in seat_letters:\n",
    "\t\t\t\tpassanger = self._seating[row][letter]\n",
    "\t\t\t\tif passanger is not None:\n",
    "\t\t\t\t\tyield (passanger, \"{}{}\".format(row, letter))\n",
    "\n",
    "class AirbusA319:\n",
    "\n",
    "\tdef __init__(self, registration):\n",
    "\t\tself.registration = registration\n",
    "\n",
    "\tdef registration(self):\n",
    "\t\treturn self._registration\n",
    "\n",
    "\tdef model(self):\n",
    "\t\treturn \"Airbus A319\"\n",
    "\n",
    "\tdef seating_plan(self):\n",
    "\t\treturn range(1, 23), \"ABCDEF\"\n",
    "\n",
    "class Boeing777:\n",
    "\n",
    "\tdef __init__(self, registration):\n",
    "\t\tself.registration = registration\n",
    "\n",
    "\tdef registration(self):\n",
    "\t\treturn self._registration\n",
    "\n",
    "\tdef model(self):\n",
    "\t\treturn \"Boeing 777\"\n",
    "\n",
    "\tdef seating_plan(self):\n",
    "\t\treturn range(1, 56), \"ABCDEFGHJK\"\n",
    "\n",
    "\n",
    "\n",
    "def make_flights():\n",
    "\tf = Flight(\"BA758\", AirbusA319(\"G-EUPT\"))\n",
    "\tf.allocate_seat('12F', 'Guido van Rossum')\n",
    "\tf.allocate_seat('15F', 'Bjarne Hejlsberg')\n",
    "\tf.allocate_seat('15E', 'Akash Giri')\n",
    "\tf.allocate_seat('1C', 'Vishal Giri')\n",
    "\tf.allocate_seat('1D', 'Richard Hickey ')\n",
    "\n",
    "\tg = Flight(\"AF72\", Boeing(\"F-GSPS\"))\n",
    "\tf.allocate_seat('55K', 'Kiley Jenner')\n",
    "\tf.allocate_seat('33G', 'Ari')\n",
    "\tf.allocate_seat('4B', 'JLO')\n",
    "\tf.allocate_seat('4A', 'Roar')\n",
    "\treturn f, g\n",
    "\n",
    "\n",
    "\n",
    "def console_card_printer(passanger, seat, flight_number, aircraft):\n",
    "\toutput = \"| Name: {0}\" \t \\\n",
    "\t\t\t \" Flight: {1}\" \\\n",
    "\t\t\t \" Seat: {2}\"   \\\n",
    "\t\t\t \" Aircraft: {3}\"\\\n",
    "\t\t\t \" |\".format(passanger, flight_number, seat, aircraft)\n",
    "\n",
    "\tbanner = \"+\" + \"-\"*(len(output) -2) + \"+\"\n",
    "\tborder = \"|\" + \" \"*(len(output) -2) + \"|\"\n",
    "\tlines = [banner, border, output, border, banner]\n",
    "\tcard = '\\n'.join(lines)\n",
    "\tprint(card)\n",
    "\tprint()"
   ]
  },
  {
   "cell_type": "code",
   "execution_count": 1,
   "metadata": {},
   "outputs": [],
   "source": [
    "from airtravel import *"
   ]
  },
  {
   "cell_type": "code",
   "execution_count": 2,
   "metadata": {},
   "outputs": [],
   "source": [
    "f,g = make_flights()"
   ]
  },
  {
   "cell_type": "code",
   "execution_count": 3,
   "metadata": {},
   "outputs": [
    {
     "data": {
      "text/plain": [
       "'Airbus A319'"
      ]
     },
     "execution_count": 3,
     "metadata": {},
     "output_type": "execute_result"
    }
   ],
   "source": [
    "f.aircraft_model()"
   ]
  },
  {
   "cell_type": "code",
   "execution_count": 5,
   "metadata": {},
   "outputs": [
    {
     "data": {
      "text/plain": [
       "546"
      ]
     },
     "execution_count": 5,
     "metadata": {},
     "output_type": "execute_result"
    }
   ],
   "source": [
    "g.num_available_seats()"
   ]
  },
  {
   "cell_type": "code",
   "execution_count": null,
   "metadata": {},
   "outputs": [],
   "source": [
    "\"\"\"Model for aircraft flight\"\"\"\n",
    "\n",
    "class Flight:\n",
    "\t\"\"\"A flight with a perticular passanger aircraft\"\"\"\n",
    "\tdef __init__(self, number, aircraft):\n",
    "\t\tif not number[:2].isalpha():\n",
    "\t\t\traise ValueError(\"No airline code in '{}'\".format(number))\n",
    "\n",
    "\t\tif not number[:2].isupper():\n",
    "\t\t\traise ValueError(\"Invalid airline code '{}'\".format(number))\n",
    "\n",
    "\t\tif not (number[2:].isdigit() and int(number[2:]) < 9999):\n",
    "\t\t\traise ValueError(\"Invalid route number '{}'\".format(number))\n",
    "\n",
    "\t\tself._number = number\n",
    "\t\tself._aircraft = aircraft\n",
    "\n",
    "\t\trows, seats = self._aircraft.seating_plan()\n",
    "\t\tself._seating = [None] + [{letter:None for letter in seats} for _ in rows]\n",
    "\t    \n",
    "\tdef number(self):\n",
    "\t    return self._number\n",
    "\n",
    "\tdef airline(self):\n",
    "\t\treturn self._number[:2]\n",
    "\n",
    "\tdef aircraft_model(self):\n",
    "\t\treturn self._aircraft.model()\n",
    "\n",
    "\tdef _parse_seat(self, seat):\n",
    "\t\t\"\"\"Parse a seat designator into a valid row and letter.\n",
    "\n",
    "\t\tArgs:\n",
    "\t\t\tseat: A seat designator such as 12F\n",
    "\n",
    "\t\tReturns:\n",
    "\t\t\tA tuple containing an integer and a string for row and seat.\n",
    "\n",
    "\t\t\"\"\"\n",
    "\t\trow_numbers, seat_letters = self._aircraft.seating_plan()\n",
    "\n",
    "\t\tletter = seat[-1]\n",
    "\t\tif letter not in seat_letters:\n",
    "\t\t\traise ValueError(\"Invalid seat letter {}\".format(letter))\n",
    "\n",
    "\t\trow_text = seat[:-1]\n",
    "\t\ttry:\n",
    "\t\t\trow = int(row_text)\n",
    "\n",
    "\t\texcept ValueError:\n",
    "\t\t\traise ValueError(\"Invalid seat row {}\".format(row_text))\n",
    "\n",
    "\t\tif row not in row_numbers:\n",
    "\t\t\traise ValueError(\"Invalid row number {}\".format(row))\n",
    "\n",
    "\t\treturn row, letter\n",
    "\n",
    "\tdef allocate_seat(self, seat, passanger):\n",
    "\t\t\"\"\"Allocate a seat to a passanger\n",
    "\n",
    "\t\tArgs: \n",
    "\t\t\tseat: A seat designator such as '12C' or '21F'\n",
    "\t\t\tpassanger: The passanger name\n",
    "\n",
    "\t\tRaises:\n",
    "\t\t\tValueError: If the seat is unavailable\n",
    "\t\t\"\"\"\n",
    "\t\trows, seat_letters = self._aircraft.seating_plan()\n",
    "\n",
    "\t\tletter = seat[-1]\n",
    "\t\tif letter not in seat_letters:\n",
    "\t\t\traise ValueError(\"Invalid seat letter {}\".format(letter))\n",
    "\n",
    "\t\trow_text = seat[:-1]\n",
    "\t\ttry:\n",
    "\t\t\trow = int(row_text)\n",
    "\n",
    "\t\texcept ValueError:\n",
    "\t\t\traise ValueError(\"Invalid seat row {}\".format(row_text))\n",
    "\n",
    "\t\tif row not in rows:\n",
    "\t\t\traise ValueError(\"Invalid row number {}\".format(row))\n",
    "\n",
    "\t\tif self._seating[row][letter] is not None:\n",
    "\t\t\traise ValueError(\"Seat {} already occupied\".format(seat))\n",
    "\n",
    "\t\tself._seating[row][letter] = passanger\n",
    "\n",
    "\tdef relocate_passanger(self, from_seat, to_seat):\n",
    "\t\t\"\"\"Relocate a passanger to a different seat.\n",
    "\n",
    "\t\tArgs:\n",
    "\t\t\tfrom_seat: The existing seat designator for the \n",
    "\t\t\t\t\t\tpassanger to be moved.\n",
    "\t\t\tto_seat: The new seat designator\n",
    "\t\t\"\"\"\n",
    "\t\tfrom_row, from_letter = self._parse_seat(from_seat)\n",
    "\t\tif self._seating[from_row][from_letter] is None:\n",
    "\t\t\traise ValueError(\"No passanger to relocate in seat {}\".format(from_seat))\n",
    "\n",
    "\t\tto_row, to_letter = self._parse_seat(to_seat)\n",
    "\t\tif self._seating[to_seat][from_letter] is None:\n",
    "\t\t\traise ValueError(\"Seat {} already occupied\".format(to_seat))\n",
    "\n",
    "\t\tself._seating[to_row][to_letter] = self._seating[from_row][from_letter]\n",
    "\t\tself._seating[from_row][from_letter] = None\n",
    "\n",
    "\n",
    "\tdef num_available_seats(self):\n",
    "\t\treturn sum(sum(1 for s in row.values() if s is None)\n",
    "\t\t\t\t\tfor row in self._seating\n",
    "\t\t\t\t\tif row is not None)\n",
    "\n",
    "\tdef make_boarding_cards(self, card_printer):\n",
    "\t\tfor passanger, seat in sorted(self._passanger_seats()):\n",
    "\t\t\tcard_printer(passanger, seat, self.number(), self.aircraft_model())\n",
    "\n",
    "\tdef _passanger_seats(self):\n",
    "\t\t\"\"\"An iterable series of passanger seating allocations\"\"\"\n",
    "\t\trow_numbers, seat_letters = self._aircraft.seating_plan()\n",
    "\t\tfor row in row_numbers:\n",
    "\t\t\tfor letter in seat_letters:\n",
    "\t\t\t\tpassanger = self._seating[row][letter]\n",
    "\t\t\t\tif passanger is not None:\n",
    "\t\t\t\t\tyield (passanger, \"{}{}\".format(row, letter))\n",
    "\n",
    "\n",
    "class Aircraft:\n",
    "\n",
    "\tdef __init__(self, registration):\n",
    "\t\tself.registration = registration\n",
    "\n",
    "\tdef registration(self):\n",
    "\t\treturn self._registration\n",
    "\n",
    "\tdef num_seats(self):\n",
    "\t\trows, rows_seats = self.seating_plan()\n",
    "\t\treturn len(rows)*len(rows_seats)\n",
    "\n",
    "class AirbusA319(Aircraft):\n",
    "\n",
    "\tdef model(self):\n",
    "\t\treturn \"Airbus A319\"\n",
    "\n",
    "\tdef seating_plan(self):\n",
    "\t\treturn range(1, 23), \"ABCDEF\"\n",
    "\n",
    "class Boeing777(Aircraft):\n",
    "\n",
    "\tdef model(self):\n",
    "\t\treturn \"Boeing 777\"\n",
    "\n",
    "\tdef seating_plan(self):\n",
    "\t\treturn range(1, 56), \"ABCDEFGHJK\"\n",
    "\n",
    "\n",
    "\n",
    "def make_flights():\n",
    "\tf = Flight(\"BA758\", AirbusA319(\"G-EUPT\"))\n",
    "\tf.allocate_seat('12F', 'Guido van Rossum')\n",
    "\tf.allocate_seat('15F', 'Bjarne Hejlsberg')\n",
    "\tf.allocate_seat('15E', 'Akash Giri')\n",
    "\tf.allocate_seat('1C', 'Vishal Giri')\n",
    "\tf.allocate_seat('1D', 'Richard Hickey ')\n",
    "\n",
    "\tg = Flight(\"AF72\", Boeing777(\"F-GSPS\"))\n",
    "\tg.allocate_seat('55K', 'Kiley Jenner')\n",
    "\tg.allocate_seat('33G', 'Ari')\n",
    "\tg.allocate_seat('4B', 'JLO')\n",
    "\tg.allocate_seat('4A', 'Roar')\n",
    "\treturn f, g\n",
    "\n",
    "\n",
    "\n",
    "def console_card_printer(passanger, seat, flight_number, aircraft):\n",
    "\toutput = \"| Name: {0}\" \t \\\n",
    "\t\t\t \" Flight: {1}\" \\\n",
    "\t\t\t \" Seat: {2}\"   \\\n",
    "\t\t\t \" Aircraft: {3}\"\\\n",
    "\t\t\t \" |\".format(passanger, flight_number, seat, aircraft)\n",
    "\n",
    "\tbanner = \"+\" + \"-\"*(len(output) -2) + \"+\"\n",
    "\tborder = \"|\" + \" \"*(len(output) -2) + \"|\"\n",
    "\tlines = [banner, border, output, border, banner]\n",
    "\tcard = '\\n'.join(lines)\n",
    "\tprint(card)\n",
    "\tprint()"
   ]
  },
  {
   "cell_type": "code",
   "execution_count": 1,
   "metadata": {},
   "outputs": [],
   "source": [
    "from airtravel import *"
   ]
  },
  {
   "cell_type": "code",
   "execution_count": 2,
   "metadata": {},
   "outputs": [],
   "source": [
    "a = AirbusA319(\"G-EZBT\")"
   ]
  },
  {
   "cell_type": "code",
   "execution_count": 3,
   "metadata": {},
   "outputs": [
    {
     "data": {
      "text/plain": [
       "132"
      ]
     },
     "execution_count": 3,
     "metadata": {},
     "output_type": "execute_result"
    }
   ],
   "source": [
    "a.num_seats()"
   ]
  },
  {
   "cell_type": "code",
   "execution_count": null,
   "metadata": {},
   "outputs": [],
   "source": []
  }
 ],
 "metadata": {
  "kernelspec": {
   "display_name": "Python 3",
   "language": "python",
   "name": "python3"
  },
  "language_info": {
   "codemirror_mode": {
    "name": "ipython",
    "version": 3
   },
   "file_extension": ".py",
   "mimetype": "text/x-python",
   "name": "python",
   "nbconvert_exporter": "python",
   "pygments_lexer": "ipython3",
   "version": "3.6.7"
  }
 },
 "nbformat": 4,
 "nbformat_minor": 2
}
