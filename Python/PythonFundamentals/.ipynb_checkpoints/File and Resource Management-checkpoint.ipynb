{
 "cells": [
  {
   "attachments": {},
   "cell_type": "markdown",
   "metadata": {},
   "source": [
    "![img.png](img/47.png)"
   ]
  },
  {
   "cell_type": "code",
   "execution_count": 1,
   "metadata": {},
   "outputs": [],
   "source": [
    "import sys"
   ]
  },
  {
   "cell_type": "code",
   "execution_count": 2,
   "metadata": {},
   "outputs": [
    {
     "data": {
      "text/plain": [
       "'utf-8'"
      ]
     },
     "execution_count": 2,
     "metadata": {},
     "output_type": "execute_result"
    }
   ],
   "source": [
    "sys.getdefaultencoding()"
   ]
  },
  {
   "cell_type": "code",
   "execution_count": 3,
   "metadata": {},
   "outputs": [],
   "source": [
    "f = open('wasteland.txt', mode='wt', encoding='utf-8')"
   ]
  },
  {
   "cell_type": "markdown",
   "metadata": {},
   "source": [
    "![image.png](img/48.png)"
   ]
  },
  {
   "cell_type": "code",
   "execution_count": 4,
   "metadata": {},
   "outputs": [
    {
     "name": "stdout",
     "output_type": "stream",
     "text": [
      "Help on TextIOWrapper object:\n",
      "\n",
      "class TextIOWrapper(_TextIOBase)\n",
      " |  Character and line based layer over a BufferedIOBase object, buffer.\n",
      " |  \n",
      " |  encoding gives the name of the encoding that the stream will be\n",
      " |  decoded or encoded with. It defaults to locale.getpreferredencoding(False).\n",
      " |  \n",
      " |  errors determines the strictness of encoding and decoding (see\n",
      " |  help(codecs.Codec) or the documentation for codecs.register) and\n",
      " |  defaults to \"strict\".\n",
      " |  \n",
      " |  newline controls how line endings are handled. It can be None, '',\n",
      " |  '\\n', '\\r', and '\\r\\n'.  It works as follows:\n",
      " |  \n",
      " |  * On input, if newline is None, universal newlines mode is\n",
      " |    enabled. Lines in the input can end in '\\n', '\\r', or '\\r\\n', and\n",
      " |    these are translated into '\\n' before being returned to the\n",
      " |    caller. If it is '', universal newline mode is enabled, but line\n",
      " |    endings are returned to the caller untranslated. If it has any of\n",
      " |    the other legal values, input lines are only terminated by the given\n",
      " |    string, and the line ending is returned to the caller untranslated.\n",
      " |  \n",
      " |  * On output, if newline is None, any '\\n' characters written are\n",
      " |    translated to the system default line separator, os.linesep. If\n",
      " |    newline is '' or '\\n', no translation takes place. If newline is any\n",
      " |    of the other legal values, any '\\n' characters written are translated\n",
      " |    to the given string.\n",
      " |  \n",
      " |  If line_buffering is True, a call to flush is implied when a call to\n",
      " |  write contains a newline character.\n",
      " |  \n",
      " |  Method resolution order:\n",
      " |      TextIOWrapper\n",
      " |      _TextIOBase\n",
      " |      _IOBase\n",
      " |      builtins.object\n",
      " |  \n",
      " |  Methods defined here:\n",
      " |  \n",
      " |  __getstate__(...)\n",
      " |  \n",
      " |  __init__(self, /, *args, **kwargs)\n",
      " |      Initialize self.  See help(type(self)) for accurate signature.\n",
      " |  \n",
      " |  __new__(*args, **kwargs) from builtins.type\n",
      " |      Create and return a new object.  See help(type) for accurate signature.\n",
      " |  \n",
      " |  __next__(self, /)\n",
      " |      Implement next(self).\n",
      " |  \n",
      " |  __repr__(self, /)\n",
      " |      Return repr(self).\n",
      " |  \n",
      " |  close(self, /)\n",
      " |      Flush and close the IO object.\n",
      " |      \n",
      " |      This method has no effect if the file is already closed.\n",
      " |  \n",
      " |  detach(self, /)\n",
      " |      Separate the underlying buffer from the TextIOBase and return it.\n",
      " |      \n",
      " |      After the underlying buffer has been detached, the TextIO is in an\n",
      " |      unusable state.\n",
      " |  \n",
      " |  fileno(self, /)\n",
      " |      Returns underlying file descriptor if one exists.\n",
      " |      \n",
      " |      OSError is raised if the IO object does not use a file descriptor.\n",
      " |  \n",
      " |  flush(self, /)\n",
      " |      Flush write buffers, if applicable.\n",
      " |      \n",
      " |      This is not implemented for read-only and non-blocking streams.\n",
      " |  \n",
      " |  isatty(self, /)\n",
      " |      Return whether this is an 'interactive' stream.\n",
      " |      \n",
      " |      Return False if it can't be determined.\n",
      " |  \n",
      " |  read(self, size=-1, /)\n",
      " |      Read at most n characters from stream.\n",
      " |      \n",
      " |      Read from underlying buffer until we have n characters or we hit EOF.\n",
      " |      If n is negative or omitted, read until EOF.\n",
      " |  \n",
      " |  readable(self, /)\n",
      " |      Return whether object was opened for reading.\n",
      " |      \n",
      " |      If False, read() will raise OSError.\n",
      " |  \n",
      " |  readline(self, size=-1, /)\n",
      " |      Read until newline or EOF.\n",
      " |      \n",
      " |      Returns an empty string if EOF is hit immediately.\n",
      " |  \n",
      " |  seek(self, cookie, whence=0, /)\n",
      " |      Change stream position.\n",
      " |      \n",
      " |      Change the stream position to the given byte offset. The offset is\n",
      " |      interpreted relative to the position indicated by whence.  Values\n",
      " |      for whence are:\n",
      " |      \n",
      " |      * 0 -- start of stream (the default); offset should be zero or positive\n",
      " |      * 1 -- current stream position; offset may be negative\n",
      " |      * 2 -- end of stream; offset is usually negative\n",
      " |      \n",
      " |      Return the new absolute position.\n",
      " |  \n",
      " |  seekable(self, /)\n",
      " |      Return whether object supports random access.\n",
      " |      \n",
      " |      If False, seek(), tell() and truncate() will raise OSError.\n",
      " |      This method may need to do a test seek().\n",
      " |  \n",
      " |  tell(self, /)\n",
      " |      Return current stream position.\n",
      " |  \n",
      " |  truncate(self, pos=None, /)\n",
      " |      Truncate file to size bytes.\n",
      " |      \n",
      " |      File pointer is left unchanged.  Size defaults to the current IO\n",
      " |      position as reported by tell().  Returns the new size.\n",
      " |  \n",
      " |  writable(self, /)\n",
      " |      Return whether object was opened for writing.\n",
      " |      \n",
      " |      If False, write() will raise OSError.\n",
      " |  \n",
      " |  write(self, text, /)\n",
      " |      Write string to stream.\n",
      " |      Returns the number of characters written (which is always equal to\n",
      " |      the length of the string).\n",
      " |  \n",
      " |  ----------------------------------------------------------------------\n",
      " |  Data descriptors defined here:\n",
      " |  \n",
      " |  buffer\n",
      " |  \n",
      " |  closed\n",
      " |  \n",
      " |  encoding\n",
      " |      Encoding of the text stream.\n",
      " |      \n",
      " |      Subclasses should override.\n",
      " |  \n",
      " |  errors\n",
      " |      The error setting of the decoder or encoder.\n",
      " |      \n",
      " |      Subclasses should override.\n",
      " |  \n",
      " |  line_buffering\n",
      " |  \n",
      " |  name\n",
      " |  \n",
      " |  newlines\n",
      " |      Line endings translated so far.\n",
      " |      \n",
      " |      Only line endings translated during reading are considered.\n",
      " |      \n",
      " |      Subclasses should override.\n",
      " |  \n",
      " |  ----------------------------------------------------------------------\n",
      " |  Methods inherited from _IOBase:\n",
      " |  \n",
      " |  __del__(...)\n",
      " |  \n",
      " |  __enter__(...)\n",
      " |  \n",
      " |  __exit__(...)\n",
      " |  \n",
      " |  __iter__(self, /)\n",
      " |      Implement iter(self).\n",
      " |  \n",
      " |  readlines(self, hint=-1, /)\n",
      " |      Return a list of lines from the stream.\n",
      " |      \n",
      " |      hint can be specified to control the number of lines read: no more\n",
      " |      lines will be read if the total size (in bytes/characters) of all\n",
      " |      lines so far exceeds hint.\n",
      " |  \n",
      " |  writelines(self, lines, /)\n",
      " |  \n",
      " |  ----------------------------------------------------------------------\n",
      " |  Data descriptors inherited from _IOBase:\n",
      " |  \n",
      " |  __dict__\n",
      "\n"
     ]
    }
   ],
   "source": [
    "help(f) # f is previously created object"
   ]
  },
  {
   "cell_type": "markdown",
   "metadata": {},
   "source": [
    "# Writing the file"
   ]
  },
  {
   "cell_type": "code",
   "execution_count": 5,
   "metadata": {},
   "outputs": [
    {
     "data": {
      "text/plain": [
       "30"
      ]
     },
     "execution_count": 5,
     "metadata": {},
     "output_type": "execute_result"
    }
   ],
   "source": [
    "f.write('What are the roots that clutch')"
   ]
  },
  {
   "cell_type": "code",
   "execution_count": 6,
   "metadata": {},
   "outputs": [
    {
     "data": {
      "text/plain": [
       "20"
      ]
     },
     "execution_count": 6,
     "metadata": {},
     "output_type": "execute_result"
    }
   ],
   "source": [
    "f.write(', What branches grow') # write() returns the number of codepoints, not the number of bytes"
   ]
  },
  {
   "cell_type": "code",
   "execution_count": 7,
   "metadata": {},
   "outputs": [
    {
     "data": {
      "text/plain": [
       "28"
      ]
     },
     "execution_count": 7,
     "metadata": {},
     "output_type": "execute_result"
    }
   ],
   "source": [
    "f.write('\\nOut of this Stony rubbish? ')"
   ]
  },
  {
   "cell_type": "code",
   "execution_count": 8,
   "metadata": {},
   "outputs": [],
   "source": [
    "f.close()"
   ]
  },
  {
   "cell_type": "code",
   "execution_count": 10,
   "metadata": {},
   "outputs": [],
   "source": [
    "# in terminal\n",
    "rango@linux:~/Coding-Practice/Python/PythonFundamentals$ tail -f wasteland.txt \n",
    "What are the roots that clutch, What branches grow\n",
    "Out of this Stony rubbish? \n",
    "\n",
    "\n",
    "rango@linux:~/Coding-Practice/Python/PythonFundamentals$ ls -l wasteland.txt \n",
    "-rw-r--r-- 1 rango rango 78 Nov 27 17:45 wasteland.txt\n",
    "\n",
    "# you can see that it has 78 bytes, although on Windows it will be 79 due to newline incoding difference in windows\n",
    "# do not rely on the sum 78"
   ]
  },
  {
   "cell_type": "markdown",
   "metadata": {},
   "source": [
    "# Reading the file"
   ]
  },
  {
   "cell_type": "code",
   "execution_count": 11,
   "metadata": {},
   "outputs": [],
   "source": [
    "g = open('wasteland.txt', mode='rt', encoding='UTF-8') # rt = read text"
   ]
  },
  {
   "cell_type": "code",
   "execution_count": 13,
   "metadata": {},
   "outputs": [
    {
     "data": {
      "text/plain": [
       "'What are the roots that clutch'"
      ]
     },
     "execution_count": 13,
     "metadata": {},
     "output_type": "execute_result"
    }
   ],
   "source": [
    "g.read(30) # after this, the pointer is at the end of string ''What are the roots that clutch''"
   ]
  },
  {
   "cell_type": "code",
   "execution_count": 14,
   "metadata": {},
   "outputs": [
    {
     "data": {
      "text/plain": [
       "', What branches grow\\nOut of this Stony rubbish? '"
      ]
     },
     "execution_count": 14,
     "metadata": {},
     "output_type": "execute_result"
    }
   ],
   "source": [
    "g.read() # will read from where the pointer was in the previous execution"
   ]
  },
  {
   "cell_type": "code",
   "execution_count": 15,
   "metadata": {},
   "outputs": [
    {
     "data": {
      "text/plain": [
       "''"
      ]
     },
     "execution_count": 15,
     "metadata": {},
     "output_type": "execute_result"
    }
   ],
   "source": [
    "g.read()"
   ]
  },
  {
   "cell_type": "code",
   "execution_count": 16,
   "metadata": {},
   "outputs": [
    {
     "data": {
      "text/plain": [
       "0"
      ]
     },
     "execution_count": 16,
     "metadata": {},
     "output_type": "execute_result"
    }
   ],
   "source": [
    "g.seek(0) # move pointer at the beginning"
   ]
  },
  {
   "cell_type": "code",
   "execution_count": 17,
   "metadata": {},
   "outputs": [
    {
     "data": {
      "text/plain": [
       "'What are the roots that clutch, What branches grow\\n'"
      ]
     },
     "execution_count": 17,
     "metadata": {},
     "output_type": "execute_result"
    }
   ],
   "source": [
    "g.readline()"
   ]
  },
  {
   "cell_type": "code",
   "execution_count": 18,
   "metadata": {},
   "outputs": [
    {
     "data": {
      "text/plain": [
       "'Out of this Stony rubbish? '"
      ]
     },
     "execution_count": 18,
     "metadata": {},
     "output_type": "execute_result"
    }
   ],
   "source": [
    "# the above output is terminated with a new line\n",
    "g.readline()"
   ]
  },
  {
   "cell_type": "code",
   "execution_count": 19,
   "metadata": {},
   "outputs": [],
   "source": [
    "# the above output is not terminated with a new line because there is no new line"
   ]
  },
  {
   "cell_type": "code",
   "execution_count": 20,
   "metadata": {},
   "outputs": [
    {
     "data": {
      "text/plain": [
       "''"
      ]
     },
     "execution_count": 20,
     "metadata": {},
     "output_type": "execute_result"
    }
   ],
   "source": [
    "g.readline()"
   ]
  },
  {
   "cell_type": "code",
   "execution_count": 21,
   "metadata": {},
   "outputs": [
    {
     "data": {
      "text/plain": [
       "0"
      ]
     },
     "execution_count": 21,
     "metadata": {},
     "output_type": "execute_result"
    }
   ],
   "source": [
    "g.seek(0)"
   ]
  },
  {
   "cell_type": "code",
   "execution_count": 22,
   "metadata": {},
   "outputs": [
    {
     "data": {
      "text/plain": [
       "['What are the roots that clutch, What branches grow\\n',\n",
       " 'Out of this Stony rubbish? ']"
      ]
     },
     "execution_count": 22,
     "metadata": {},
     "output_type": "execute_result"
    }
   ],
   "source": [
    "g.readlines() # returns a list of lines"
   ]
  },
  {
   "cell_type": "code",
   "execution_count": 23,
   "metadata": {},
   "outputs": [],
   "source": [
    "g.close()"
   ]
  },
  {
   "cell_type": "markdown",
   "metadata": {},
   "source": [
    "# Appending to a Text file"
   ]
  },
  {
   "cell_type": "code",
   "execution_count": 24,
   "metadata": {},
   "outputs": [],
   "source": [
    "h = open('wasteland.txt', mode='at', encoding='UTF-8') # at = append text"
   ]
  },
  {
   "cell_type": "code",
   "execution_count": 25,
   "metadata": {},
   "outputs": [],
   "source": [
    "h.writelines(\n",
    "        ['Son of man, \\n',\n",
    "         'You can not say, or guess, ',\n",
    "         'for you know only, \\n',\n",
    "         'A heap of broken image, ',\n",
    "         'where the sun beats\\n']\n",
    ")"
   ]
  },
  {
   "cell_type": "code",
   "execution_count": 26,
   "metadata": {},
   "outputs": [],
   "source": [
    "h.close()"
   ]
  },
  {
   "cell_type": "code",
   "execution_count": null,
   "metadata": {},
   "outputs": [],
   "source": [
    "# in terminal\n",
    "rango@linux:~/Coding-Practice/Python/PythonFundamentals$ tail -f wasteland.txt \n",
    "What are the roots that clutch, What branches grow\n",
    "Out of this Stony rubbish? Son of man, \n",
    "You can not say, or guess, for you know only, \n",
    "A heap of broken image, where the sun beats"
   ]
  },
  {
   "cell_type": "markdown",
   "metadata": {},
   "source": [
    "# Files as iterators"
   ]
  },
  {
   "cell_type": "code",
   "execution_count": null,
   "metadata": {},
   "outputs": [],
   "source": [
    "import sys\n",
    "\n",
    "def main(filename):\n",
    "\tf = open(filename, mode='rt', encoding='utf-8/')\n",
    "\tfor line in f:\n",
    "\t\tprint(line)\n",
    "\n",
    "\tf.close()\n",
    "\n",
    "if __name__=='__main__':\n",
    "\tmain(sys.argv[1])"
   ]
  },
  {
   "cell_type": "code",
   "execution_count": null,
   "metadata": {},
   "outputs": [],
   "source": [
    "rango@linux:~/Coding-Practice/Python/PythonFundamentals$ python3 files.py wasteland.txt\n",
    "What are the roots that clutch, What branches grow\n",
    "\n",
    "Out of this Stony rubbish? Son of man, \n",
    "\n",
    "You can not say, or guess, for you know only, \n",
    "\n",
    "A heap of broken image, where the sun beats\n",
    "\n",
    "rango@linux:~/Coding-Practice/Python/PythonFundamentals$ \n"
   ]
  },
  {
   "cell_type": "code",
   "execution_count": 27,
   "metadata": {},
   "outputs": [],
   "source": [
    "# the spacing in each line is due to print()"
   ]
  },
  {
   "cell_type": "code",
   "execution_count": null,
   "metadata": {},
   "outputs": [],
   "source": [
    "import sys\n",
    "\n",
    "def main(filename):\n",
    "\tf = open(filename, mode='rt', encoding='utf-8/')\n",
    "\tfor line in f:\n",
    "\t\tsys.stdout.write(line)\n",
    "\n",
    "\tf.close()\n",
    "\n",
    "if __name__=='__main__':\n",
    "\tmain(sys.argv[1])"
   ]
  },
  {
   "cell_type": "code",
   "execution_count": null,
   "metadata": {},
   "outputs": [],
   "source": [
    "rango@linux:~/Coding-Practice/Python/PythonFundamentals$ python3 files.py wasteland.txt\n",
    "What are the roots that clutch, What branches grow\n",
    "Out of this Stony rubbish? Son of man, \n",
    "You can not say, or guess, for you know only, \n",
    "A heap of broken image, where the sun beats"
   ]
  },
  {
   "cell_type": "markdown",
   "metadata": {},
   "source": [
    "# Managing files with Try...Finally"
   ]
  },
  {
   "cell_type": "code",
   "execution_count": null,
   "metadata": {},
   "outputs": [],
   "source": [
    "import sys\n",
    "from itertools import count, islice\n",
    "\n",
    "def sequence():\n",
    "\t\"\"\"Generate recaman sequence\"\"\"\n",
    "\tseen = set()\n",
    "\ta = 0\n",
    "\n",
    "\tfor n in count(1):\n",
    "\t\tyield a \n",
    "\t\tseen.add(a)\n",
    "\t\tc = a - n \n",
    "\t\tif c < 0 or c in seen:\n",
    "\t\t\tc = a + n\n",
    "\t\ta = c\n",
    "\n",
    "def write_sequence(filename, num):\n",
    "\t\"\"\"write recaman's sequence to a text file. \"\"\"\n",
    "\tf = open(filename, mode='wt', encoding='utf-8')\n",
    "\tf.writelines(\"{0}\\n\".format(r)\n",
    "\t\t\t\t\t\tfor r in islice(sequence(), num + 1))\n",
    "\n",
    "\tf.close()\n",
    "\n",
    "if __name__=='__main__':\n",
    "\twrite_sequence(filename=sys.argv[1], num=int(sys.argv[2]))\n",
    "\n"
   ]
  },
  {
   "cell_type": "code",
   "execution_count": null,
   "metadata": {},
   "outputs": [],
   "source": [
    "# running the above module in terminal\n",
    "rango@linux:~/Coding-Practice/Python/PythonFundamentals$ python3 recaman.py recaman.dat 1000"
   ]
  },
  {
   "cell_type": "code",
   "execution_count": null,
   "metadata": {},
   "outputs": [],
   "source": [
    "# the above command will generate \"recaman sequence\"\n",
    "# i.e. \n",
    "0\n",
    "1\n",
    "3\n",
    "6\n",
    "2\n",
    "7\n",
    "13\n",
    "20\n",
    "12\n",
    "21\n",
    "11\n",
    "22\n",
    "10\n",
    "23\n",
    "9\n",
    "...... and many more upto 3686"
   ]
  },
  {
   "cell_type": "code",
   "execution_count": 28,
   "metadata": {},
   "outputs": [],
   "source": [
    "# now, we are going to modify \"recaman.dat\" file and make it error prone"
   ]
  },
  {
   "cell_type": "code",
   "execution_count": null,
   "metadata": {},
   "outputs": [],
   "source": [
    "# series.py\n",
    "\"\"\"Read and print an integer series\"\"\"\n",
    "import sys\n",
    "\n",
    "def read_series(filename):\n",
    "\tf = open(filename, mode='rt', encoding='utf-8')\n",
    "\tseries = []\n",
    "\tfor line in f:\n",
    "\t\ta = int(line.strip())\n",
    "\t\tseries.append(a)\n",
    "\n",
    "\tf.close()\n",
    "\treturn series\n",
    "\n",
    "def main(filename):\n",
    "\tseries = read_series(filename)\n",
    "\tprint(series)\n",
    "\n",
    "if __name__=='__main__':\n",
    "\tmain(sys.argv[1])"
   ]
  },
  {
   "cell_type": "code",
   "execution_count": null,
   "metadata": {},
   "outputs": [],
   "source": [
    "rango@linux:~/Coding-Practice/Python/PythonFundamentals$ python3 series.py recaman.dat \n",
    "Traceback (most recent call last):\n",
    "  File \"series.py\", line 19, in <module>\n",
    "    main(sys.argv[1])\n",
    "  File \"series.py\", line 15, in main\n",
    "    series = read_series(filename)\n",
    "  File \"series.py\", line 8, in read_series\n",
    "    a = int(line.strip())\n",
    "ValueError: invalid literal for int() with base 10: 'oops!'"
   ]
  },
  {
   "cell_type": "code",
   "execution_count": 29,
   "metadata": {},
   "outputs": [],
   "source": [
    "# running the above command will throw an error and f.close() line in read_searies() function will never execute"
   ]
  },
  {
   "cell_type": "code",
   "execution_count": 30,
   "metadata": {},
   "outputs": [],
   "source": [
    "# to fix that, we can use try.. finally"
   ]
  },
  {
   "cell_type": "code",
   "execution_count": null,
   "metadata": {},
   "outputs": [],
   "source": [
    "\"\"\"Read and print an integer series\"\"\"\n",
    "import sys\n",
    "\n",
    "def read_series(filename):\n",
    "\ttry:\n",
    "\t\tf = open(filename, mode='rt', encoding='utf-8')\n",
    "\t\treturn [int(line.strip()) for line in f]\n",
    "\tfinally:\n",
    "\t\tf.close()\n",
    "\treturn series\n",
    "\n",
    "def main(filename):\n",
    "\tseries = read_series(filename)\n",
    "\tprint(series)\n",
    "\n",
    "if __name__=='__main__':\n",
    "\tmain(sys.argv[1])"
   ]
  },
  {
   "cell_type": "code",
   "execution_count": 31,
   "metadata": {},
   "outputs": [],
   "source": [
    "# note, we've also used list comprehension in the above code in read_series funciton"
   ]
  },
  {
   "cell_type": "markdown",
   "metadata": {},
   "source": [
    "![img.png](img/49.png)"
   ]
  },
  {
   "cell_type": "markdown",
   "metadata": {},
   "source": [
    "# Context manager and with-block"
   ]
  },
  {
   "cell_type": "markdown",
   "metadata": {},
   "source": [
    "![img.png](img/50.png)"
   ]
  },
  {
   "cell_type": "code",
   "execution_count": null,
   "metadata": {},
   "outputs": [],
   "source": [
    "\"\"\"Read and print an integer series\"\"\"\n",
    "import sys\n",
    "\n",
    "def read_series(filename):\n",
    "\n",
    "\twith open(filename, mode='rt', encoding='utf-8') as f:\n",
    "\t\treturn [int(line.strip()) for line in f]\n",
    "\n",
    "def main(filename):\n",
    "\tseries = read_series(filename)\n",
    "\tprint(series)\n",
    "\n",
    "if __name__=='__main__':\n",
    "\tmain(sys.argv[1])"
   ]
  },
  {
   "cell_type": "code",
   "execution_count": 32,
   "metadata": {},
   "outputs": [],
   "source": [
    "# note, we no longer need to close the file with \"with\" block"
   ]
  },
  {
   "cell_type": "code",
   "execution_count": null,
   "metadata": {},
   "outputs": [],
   "source": [
    "import sys\n",
    "from itertools import count, islice\n",
    "\n",
    "def sequence():\n",
    "\t\"\"\"Generate recamen sequence\"\"\"\n",
    "\tseen = set()\n",
    "\ta = 0\n",
    "\n",
    "\tfor n in count(1):\n",
    "\t\tyield a \n",
    "\t\tseen.add(a)\n",
    "\t\tc = a - n \n",
    "\t\tif c < 0 or c in seen:\n",
    "\t\t\tc = a + n\n",
    "\t\ta = c\n",
    "\n",
    "def write_sequence(filename, num):\n",
    "\t\"\"\"write recaman's sequence to a text file. \"\"\"\n",
    "\twith open(filename, mode='wt', encoding='utf-8') as f:\n",
    "\t\tf.writelines(\"{0}\\n\".format(r)\n",
    "\t\t\t\t\t\t\tfor r in islice(sequence(), num + 1))\n",
    "\n",
    "\n",
    "if __name__=='__main__':\n",
    "\twrite_sequence(filename=sys.argv[1], num=int(sys.argv[2]))\n",
    "\n"
   ]
  },
  {
   "cell_type": "markdown",
   "metadata": {},
   "source": [
    "![img.png](img/51.png)"
   ]
  },
  {
   "cell_type": "code",
   "execution_count": null,
   "metadata": {},
   "outputs": [],
   "source": []
  }
 ],
 "metadata": {
  "kernelspec": {
   "display_name": "Python 3",
   "language": "python",
   "name": "python3"
  },
  "language_info": {
   "codemirror_mode": {
    "name": "ipython",
    "version": 3
   },
   "file_extension": ".py",
   "mimetype": "text/x-python",
   "name": "python",
   "nbconvert_exporter": "python",
   "pygments_lexer": "ipython3",
   "version": "3.6.7"
  }
 },
 "nbformat": 4,
 "nbformat_minor": 2
}
