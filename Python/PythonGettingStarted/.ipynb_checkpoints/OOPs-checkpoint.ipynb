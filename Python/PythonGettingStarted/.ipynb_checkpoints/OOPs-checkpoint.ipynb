{
 "cells": [
  {
   "cell_type": "code",
   "execution_count": 2,
   "metadata": {},
   "outputs": [
    {
     "name": "stdout",
     "output_type": "stream",
     "text": [
      "<__main__.Student object at 0x7f29a05926d8>\n",
      "<__main__.Student object at 0x7f29a0592438>\n"
     ]
    }
   ],
   "source": [
    "class Student: # class i.e. blueprint of building blocks \n",
    "    pass\n",
    "\n",
    "student = Student() # instance, building block\n",
    "print(student) # holding a reference object at 0x7f29a0592438 location in the memory\n",
    "\n",
    "new_student = Student()\n",
    "print(new_student)"
   ]
  },
  {
   "cell_type": "code",
   "execution_count": 4,
   "metadata": {},
   "outputs": [
    {
     "name": "stdout",
     "output_type": "stream",
     "text": [
      "[{'name': 'Akash', 'student_id': 223}]\n"
     ]
    }
   ],
   "source": [
    "students = []\n",
    "\n",
    "class Student:\n",
    "    def add_student(self, name, student_id=223): # self is refering to the instance of the class\n",
    "        student = {\"name\": name, \"student_id\": student_id}\n",
    "        students.append(student)\n",
    "        \n",
    "student = Student()\n",
    "student.add_student(\"Akash\")\n",
    "print(students)"
   ]
  },
  {
   "cell_type": "markdown",
   "metadata": {},
   "source": [
    "# Constructor method"
   ]
  },
  {
   "cell_type": "code",
   "execution_count": 2,
   "metadata": {},
   "outputs": [
    {
     "ename": "TypeError",
     "evalue": "__init__() missing 2 required positional arguments: 'name' and 'student_id'",
     "output_type": "error",
     "traceback": [
      "\u001b[0;31m---------------------------------------------------------------------------\u001b[0m",
      "\u001b[0;31mTypeError\u001b[0m                                 Traceback (most recent call last)",
      "\u001b[0;32m<ipython-input-2-ca41ca0e6869>\u001b[0m in \u001b[0;36m<module>\u001b[0;34m()\u001b[0m\n\u001b[1;32m      6\u001b[0m         \u001b[0mstudents\u001b[0m\u001b[0;34m.\u001b[0m\u001b[0mappend\u001b[0m\u001b[0;34m(\u001b[0m\u001b[0mstudent\u001b[0m\u001b[0;34m)\u001b[0m\u001b[0;34m\u001b[0m\u001b[0m\n\u001b[1;32m      7\u001b[0m \u001b[0;34m\u001b[0m\u001b[0m\n\u001b[0;32m----> 8\u001b[0;31m \u001b[0mmark\u001b[0m \u001b[0;34m=\u001b[0m \u001b[0mStudent\u001b[0m\u001b[0;34m(\u001b[0m\u001b[0;34m)\u001b[0m\u001b[0;34m\u001b[0m\u001b[0m\n\u001b[0m\u001b[1;32m      9\u001b[0m \u001b[0mprint\u001b[0m\u001b[0;34m(\u001b[0m\u001b[0mstudents\u001b[0m\u001b[0;34m)\u001b[0m\u001b[0;34m\u001b[0m\u001b[0m\n",
      "\u001b[0;31mTypeError\u001b[0m: __init__() missing 2 required positional arguments: 'name' and 'student_id'"
     ]
    }
   ],
   "source": [
    "students = []\n",
    "\n",
    "class Student:\n",
    "    def __init__(self, name, student_id):\n",
    "        student = {\"name\": name, \"student_id\": student_id}\n",
    "        students.append(student)\n",
    "        \n",
    "mark = Student()\n",
    "print(students)\n"
   ]
  },
  {
   "cell_type": "code",
   "execution_count": 3,
   "metadata": {},
   "outputs": [
    {
     "name": "stdout",
     "output_type": "stream",
     "text": [
      "[{'name': 'akash', 'student_id': 253}]\n"
     ]
    }
   ],
   "source": [
    "students = []\n",
    "\n",
    "class Student:\n",
    "    def __init__(self, name, student_id):\n",
    "        student = {\"name\": name, \"student_id\": student_id}\n",
    "        students.append(student)\n",
    "        \n",
    "mark = Student(\"akash\", 253) # here we are directly using mark not student\n",
    "print(students)"
   ]
  },
  {
   "cell_type": "code",
   "execution_count": 5,
   "metadata": {},
   "outputs": [
    {
     "name": "stdout",
     "output_type": "stream",
     "text": [
      "Student\n"
     ]
    }
   ],
   "source": [
    "students = []\n",
    "\n",
    "class Student:\n",
    "    def __init__(self, name, student_id):\n",
    "        student = {\"name\": name, \"student_id\": student_id}\n",
    "        students.append(student)\n",
    "        \n",
    "    def __str__(self): # str is a method override\n",
    "        return \"Student\"\n",
    "        \n",
    "mark = Student(\"akash\", 253) \n",
    "print(mark)"
   ]
  },
  {
   "cell_type": "markdown",
   "metadata": {},
   "source": [
    "# Instance and class attribute"
   ]
  },
  {
   "cell_type": "code",
   "execution_count": 7,
   "metadata": {},
   "outputs": [
    {
     "name": "stdout",
     "output_type": "stream",
     "text": [
      "Govt. Jubilee\n"
     ]
    }
   ],
   "source": [
    "students = []\n",
    "\n",
    "class Student:\n",
    "    \n",
    "    school_name = \"Govt. Jubilee\" # class attribue or static variable, it is available to all instance of this class\n",
    "    \n",
    "    def __init__(self, name, student_id):\n",
    "        # the below two attributes are available throughout the entire instance of the class\n",
    "        self.name = name\n",
    "        self.student_id = student_id\n",
    "        students.append(self) # here self is the instance containing the entire attributes of that class\n",
    "        \n",
    "    def __str__(self):\n",
    "        return \"Student \" + self.name\n",
    "    \n",
    "    def get_name_capitalize(self):\n",
    "        return self.name.capitalize() # here we are able to use self.name because this method is aware of all\n",
    "                                        # of instance attributes \n",
    "        \n",
    "    def get_school_name(self): # we don't use self for class attribute but still here we are using??\n",
    "        return self.school_name\n",
    "        \n",
    "# mark = Student(\"akash\", 253) \n",
    "# print(mark)\n",
    "\n",
    "print(Student.school_name) # here we are accessing class attribute without any instance creation"
   ]
  },
  {
   "cell_type": "markdown",
   "metadata": {},
   "source": [
    "# Inheritance and Plymorphism"
   ]
  },
  {
   "cell_type": "code",
   "execution_count": 16,
   "metadata": {},
   "outputs": [
    {
     "name": "stdout",
     "output_type": "stream",
     "text": [
      "This is high school\n",
      "James HS\n"
     ]
    }
   ],
   "source": [
    "students = []\n",
    "\n",
    "class Student:\n",
    "    \n",
    "    school_name = \"Govt. Jubilee\" \n",
    "    \n",
    "    def __init__(self, name, student_id = 253):\n",
    "        self.name = name\n",
    "        self.student_id = student_id\n",
    "        students.append(self) \n",
    "        \n",
    "    def __str__(self):\n",
    "        return \"Student \" + self.name\n",
    "    \n",
    "    def get_name_capitalize(self):\n",
    "        return self.name.capitalize() \n",
    "        \n",
    "    def get_school_name(self): \n",
    "        return self.school_name\n",
    "        \n",
    "class HighSchoolStudent(Student):\n",
    "    \n",
    "    school_name = \"Govt. Jubilee High School\"\n",
    "    \n",
    "    def get_school_name(self):  # overriding parent method\n",
    "        return \"This is high school\"\n",
    "    \n",
    "    def get_name_capitalize(self):\n",
    "        original_value = super().get_name_capitalize()  # super is used to get all the attribute from our parent \n",
    "                            # class and don't override then in child class\n",
    "        return original_value + \" HS\"\n",
    "\n",
    "    \n",
    "james = HighSchoolStudent(\"james\")\n",
    "print(james.get_school_name())\n",
    "print(james.get_name_capitalize())"
   ]
  },
  {
   "cell_type": "markdown",
   "metadata": {},
   "source": [
    "# Comments"
   ]
  },
  {
   "cell_type": "code",
   "execution_count": 18,
   "metadata": {},
   "outputs": [],
   "source": [
    "# this is a simple one line comment\n",
    "name = \"Akash Giri\"  # this is a comment after 2 space and then # and then space and then comment"
   ]
  },
  {
   "cell_type": "code",
   "execution_count": null,
   "metadata": {},
   "outputs": [],
   "source": [
    "def add_student(name, student_id=99):\n",
    "    \"\"\"\n",
    "    Adds the student to the student list\n",
    "    :param name: string - student name\n",
    "    : param student_id: integer - Optional student ID\n",
    "    \"\"\"\n",
    "    student = \"Mark\""
   ]
  }
 ],
 "metadata": {
  "kernelspec": {
   "display_name": "Python 3",
   "language": "python",
   "name": "python3"
  },
  "language_info": {
   "codemirror_mode": {
    "name": "ipython",
    "version": 3
   },
   "file_extension": ".py",
   "mimetype": "text/x-python",
   "name": "python",
   "nbconvert_exporter": "python",
   "pygments_lexer": "ipython3",
   "version": "3.6.6"
  }
 },
 "nbformat": 4,
 "nbformat_minor": 2
}
