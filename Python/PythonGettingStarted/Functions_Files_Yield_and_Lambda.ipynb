{
 "cells": [
  {
   "cell_type": "code",
   "execution_count": null,
   "metadata": {},
   "outputs": [],
   "source": [
    "students = []\n",
    "\n",
    "def get_students_titlecase(): # will return student_titlecase, which can be assign to any variable later\n",
    "                            # hence calling this function will be more helpful to get data \n",
    "    students_titlecase = []\n",
    "    for student in students:\n",
    "        student_titlecase = student.title()\n",
    "    return student_titlecase\n",
    "\n",
    "def print_students_titlecase(): # will only print on calling this function\n",
    "                                # calling this function will only print student_titlecase\n",
    "    students_titlecase = []\n",
    "    for student in students:\n",
    "        student_titlecase = student.title()\n",
    "    print(student_titlecase)\n",
    "\n",
    "def add_student(name):\n",
    "    students.append(name)\n",
    "    \n",
    "student_list = get_students_titlecase()"
   ]
  },
  {
   "cell_type": "code",
   "execution_count": null,
   "metadata": {},
   "outputs": [],
   "source": [
    "students = []\n",
    "\n",
    "def get_students_titlecase(): # will return student_titlecase, which can be assign to any variable later\n",
    "                            # hence calling this function will be more helpful to get data \n",
    "    students_titlecase = []\n",
    "    for student in students:\n",
    "        student_titlecase = student.title()\n",
    "    return student_titlecase\n",
    "\n",
    "def print_students_titlecase():\n",
    "    student_titlecase = get_students_titlecase\n",
    "    print(student_titlecase)\n",
    "\n",
    "def add_student(name, student_id = 334):\n",
    "    student = {\"name\": name, \"student_id\": student_id}\n",
    "    students.append(name)\n",
    "    \n",
    "student_list = get_students_titlecase()\n",
    "\n",
    "add_student(\"Akash\", 333) # will override 334, if not passed, the student_id will be 334\n",
    "add_student(\"Giri\", student_id)"
   ]
  },
  {
   "cell_type": "code",
   "execution_count": 1,
   "metadata": {},
   "outputs": [
    {
     "name": "stdout",
     "output_type": "stream",
     "text": [
      "hellow 3 None Somethings\n"
     ]
    }
   ],
   "source": [
    "print(\"hellow\", 3, None, \"Somethings\") # this is whare a \"variable number of argument\" comes into play"
   ]
  },
  {
   "cell_type": "markdown",
   "metadata": {},
   "source": [
    "# args and kwargs"
   ]
  },
  {
   "cell_type": "code",
   "execution_count": 2,
   "metadata": {},
   "outputs": [
    {
     "name": "stdout",
     "output_type": "stream",
     "text": [
      "Akash\n",
      "(2, 3, None, True)\n"
     ]
    }
   ],
   "source": [
    "def variable_no_of_args(name, *args):\n",
    "    print(name)\n",
    "    print(args)\n",
    "\n",
    "variable_no_of_args(\"Akash\", 2, 3, None, True)"
   ]
  },
  {
   "cell_type": "code",
   "execution_count": 3,
   "metadata": {},
   "outputs": [
    {
     "name": "stdout",
     "output_type": "stream",
     "text": [
      "Meh\n",
      "{'description': 'Loves python', 'age': 100, 'is_crazy': None}\n"
     ]
    }
   ],
   "source": [
    "def var_args(name, **kwargs):\n",
    "    print(name)\n",
    "    print(kwargs)\n",
    "    \n",
    "var_args(\"Meh\", description = \"Loves python\", age = 100, is_crazy = None)"
   ]
  },
  {
   "cell_type": "code",
   "execution_count": 4,
   "metadata": {},
   "outputs": [
    {
     "name": "stdout",
     "output_type": "stream",
     "text": [
      "Meh\n",
      "Loves python False\n"
     ]
    }
   ],
   "source": [
    "def var_args(name, **kwargs):\n",
    "    print(name)\n",
    "    print(kwargs[\"description\"], kwargs[\"is_crazy\"])\n",
    "    \n",
    "var_args(\"Meh\", description = \"Loves python\", age = 100, is_crazy = False)"
   ]
  },
  {
   "cell_type": "code",
   "execution_count": 17,
   "metadata": {},
   "outputs": [
    {
     "name": "stdout",
     "output_type": "stream",
     "text": [
      "Enter student name: name\n",
      "Enter student id: 255\n",
      "<function get_students_titlecase at 0x7efcd0247400>\n"
     ]
    }
   ],
   "source": [
    "students = []\n",
    "\n",
    "def get_students_titlecase():\n",
    "    students_titlecase = []\n",
    "    for student in students:\n",
    "        students_titlecase = student[\"name\"].title() # title is used to convert every first letter to upper case in words\n",
    "    return students_titlecase\n",
    "\n",
    "def print_students_titlecase():\n",
    "    students_titlecase = get_students_titlecase\n",
    "    print(students_titlecase)\n",
    "\n",
    "def add_student(name, student_id):\n",
    "    student = {\"name\": name, \"student_id\": student_id}\n",
    "    students.append(student)\n",
    "\n",
    "\n",
    "name = input(\"Enter student name: \")\n",
    "student_id = input(\"Enter student id: \")\n",
    "add_student(name, student_id)\n",
    "\n",
    "print_students_titlecase()"
   ]
  },
  {
   "cell_type": "code",
   "execution_count": 20,
   "metadata": {},
   "outputs": [
    {
     "name": "stdout",
     "output_type": "stream",
     "text": [
      "['Mark', 'James']\n"
     ]
    }
   ],
   "source": [
    "# nested function\n",
    "def get_student():\n",
    "    students = [\"mark\", \"james\"]\n",
    "    def get_students_titlecase():\n",
    "        students_titlecase = []\n",
    "        for student in students:\n",
    "            students_titlecase.append(student.title())\n",
    "        return students_titlecase\n",
    "    students_titlecase_names = get_students_titlecase()\n",
    "    print(students_titlecase_names)\n",
    "    \n",
    "get_student()"
   ]
  },
  {
   "cell_type": "markdown",
   "metadata": {},
   "source": [
    "# Opening, reading and writing to a file"
   ]
  },
  {
   "cell_type": "code",
   "execution_count": 30,
   "metadata": {},
   "outputs": [
    {
     "name": "stdout",
     "output_type": "stream",
     "text": [
      "Could not read the file\n",
      "<function get_students_titlecase at 0x7efcd0247d90>\n",
      "Enter student name: Kem cho\n",
      "Enter student id: 255\n"
     ]
    }
   ],
   "source": [
    "students = []\n",
    "\n",
    "def get_students_titlecase():\n",
    "    students_titlecase = []\n",
    "    for student in students:\n",
    "        students_titlecase.append(student[\"name\"].title()) # title is used to convert every first letter to upper case in words\n",
    "    return students_titlecase\n",
    "\n",
    "def print_students_titlecase():\n",
    "    students_titlecase = get_students_titlecase\n",
    "    print(students_titlecase)\n",
    "\n",
    "def add_student(name, student_id):\n",
    "    student = {\"name\": name, \"student_id\": student_id}\n",
    "    students.append(student)\n",
    "    \n",
    "def save_file(student):\n",
    "    try:\n",
    "        f = open(\"students.txt\", \"a\") # a means append mode\n",
    "        f.write(student + \"\\n\")\n",
    "        f.close()\n",
    "    except Exception:\n",
    "        print(\"Can not save the file\")\n",
    "\n",
    "def read_file():\n",
    "    try:\n",
    "        f = open(\"students.txt\", \"r\") # r means only read\n",
    "        for student in f.readlines():\n",
    "            add_student(student)\n",
    "        f.close()\n",
    "    except Exception:\n",
    "        print(\"Could not read the file\")\n",
    "        \n",
    "read_file()\n",
    "print_students_titlecase()\n",
    "\n",
    "name = input(\"Enter student name: \")\n",
    "student_id = input(\"Enter student id: \")\n",
    "add_student(name, student_id)\n",
    "\n",
    "save_file(name)"
   ]
  },
  {
   "cell_type": "markdown",
   "metadata": {},
   "source": [
    "# Generator function:  Yield"
   ]
  },
  {
   "cell_type": "code",
   "execution_count": 32,
   "metadata": {},
   "outputs": [
    {
     "name": "stdout",
     "output_type": "stream",
     "text": [
      "['akash giri\\n', 'vishal giri\\n', 'meh meh\\n', 'chhotu\\n', 'Killu\\n', '253\\n', 'Meh\\n', 'Kem cho\\n']\n"
     ]
    }
   ],
   "source": [
    "students = []\n",
    "\n",
    "def read_file():\n",
    "    try:\n",
    "        f = open(\"students.txt\", \"r\") # r means only read\n",
    "        for student in f.readlines():\n",
    "            students.append(student)\n",
    "        f.close()\n",
    "    except Exception:\n",
    "        print(\"Could not read the file\")\n",
    "        \n",
    "read_file()\n",
    "print(students)"
   ]
  },
  {
   "cell_type": "code",
   "execution_count": 33,
   "metadata": {},
   "outputs": [
    {
     "name": "stdout",
     "output_type": "stream",
     "text": [
      "['akash giri\\n', 'vishal giri\\n', 'meh meh\\n', 'chhotu\\n', 'Killu\\n', '253\\n', 'Meh\\n', 'Kem cho\\n']\n"
     ]
    }
   ],
   "source": [
    "students = []\n",
    "\n",
    "def read_file():\n",
    "    try:\n",
    "        f = open(\"students.txt\", \"r\") # r means only read\n",
    "        for student in read_students(f):\n",
    "            students.append(student)\n",
    "        f.close()\n",
    "    except Exception:\n",
    "        print(\"Could not read the file\")\n",
    "        \n",
    "def read_students(f):\n",
    "    for line in f:\n",
    "        yield line\n",
    "        \n",
    "read_file()\n",
    "print(students)"
   ]
  },
  {
   "cell_type": "markdown",
   "metadata": {},
   "source": [
    "# Lambda functions"
   ]
  },
  {
   "cell_type": "code",
   "execution_count": 35,
   "metadata": {},
   "outputs": [
    {
     "data": {
      "text/plain": [
       "8"
      ]
     },
     "execution_count": 35,
     "metadata": {},
     "output_type": "execute_result"
    }
   ],
   "source": [
    "def double(x):\n",
    "    return x*2\n",
    "double(4)"
   ]
  },
  {
   "cell_type": "code",
   "execution_count": 36,
   "metadata": {},
   "outputs": [],
   "source": [
    "double = lambda x: x*2 # used for higher order function"
   ]
  },
  {
   "cell_type": "code",
   "execution_count": 37,
   "metadata": {},
   "outputs": [
    {
     "data": {
      "text/plain": [
       "10"
      ]
     },
     "execution_count": 37,
     "metadata": {},
     "output_type": "execute_result"
    }
   ],
   "source": [
    "double(5)"
   ]
  }
 ],
 "metadata": {
  "kernelspec": {
   "display_name": "Python 3",
   "language": "python",
   "name": "python3"
  },
  "language_info": {
   "codemirror_mode": {
    "name": "ipython",
    "version": 3
   },
   "file_extension": ".py",
   "mimetype": "text/x-python",
   "name": "python",
   "nbconvert_exporter": "python",
   "pygments_lexer": "ipython3",
   "version": "3.6.6"
  }
 },
 "nbformat": 4,
 "nbformat_minor": 2
}
