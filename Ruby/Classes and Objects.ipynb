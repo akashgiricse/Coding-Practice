{
 "cells": [
  {
   "cell_type": "markdown",
   "metadata": {},
   "source": [
    "# Instance Variables and Methods"
   ]
  },
  {
   "cell_type": "code",
   "execution_count": 5,
   "metadata": {},
   "outputs": [
    {
     "name": "stdout",
     "output_type": "stream",
     "text": [
      "#<Spaceship:0x000000019d7640 @destination=\"Earth\">\n",
      "#<Spaceship:0x000000019d7640 @destination=\"Earth\">\n"
     ]
    },
    {
     "data": {
      "text/plain": [
       "#<Spaceship:0x000000019d7640 @destination=\"Earth\">"
      ]
     },
     "execution_count": 5,
     "metadata": {},
     "output_type": "execute_result"
    }
   ],
   "source": [
    "class Spaceship\n",
    "  def launch(destination)\n",
    "    # instace variable, only created if we call the \"lauch\" method\n",
    "    @destination = destination\n",
    "    # go towards destination\n",
    "  end\n",
    "end\n",
    "\n",
    "ship = Spaceship.new\n",
    "ship.launch(\"Earth\")\n",
    "# take a look at ship object\n",
    "puts ship.inspect\n",
    "# we can also use \"p\" method to look at ship object\n",
    "p ship"
   ]
  },
  {
   "cell_type": "code",
   "execution_count": 7,
   "metadata": {},
   "outputs": [
    {
     "ename": "NoMethodError",
     "evalue": "undefined method `destination' for #<Spaceship:0x000000019af4d8 @destination=\"Earth\">",
     "output_type": "error",
     "traceback": [
      "\u001b[31mNoMethodError\u001b[0m: undefined method `destination' for #<Spaceship:0x000000019af4d8 @destination=\"Earth\">",
      "\u001b[37m<main>:11:in `<main>'\u001b[0m",
      "\u001b[37m/var/lib/gems/2.3.0/gems/iruby-0.3/lib/iruby/backend.rb:44:in `eval'\u001b[0m",
      "\u001b[37m/var/lib/gems/2.3.0/gems/iruby-0.3/lib/iruby/backend.rb:44:in `eval'\u001b[0m",
      "\u001b[37m/var/lib/gems/2.3.0/gems/iruby-0.3/lib/iruby/backend.rb:12:in `eval'\u001b[0m",
      "\u001b[37m/var/lib/gems/2.3.0/gems/iruby-0.3/lib/iruby/kernel.rb:87:in `execute_request'\u001b[0m",
      "\u001b[37m/var/lib/gems/2.3.0/gems/iruby-0.3/lib/iruby/kernel.rb:47:in `dispatch'\u001b[0m",
      "\u001b[37m/var/lib/gems/2.3.0/gems/iruby-0.3/lib/iruby/kernel.rb:37:in `run'\u001b[0m",
      "\u001b[37m/var/lib/gems/2.3.0/gems/iruby-0.3/lib/iruby/command.rb:70:in `run_kernel'\u001b[0m",
      "\u001b[37m/var/lib/gems/2.3.0/gems/iruby-0.3/lib/iruby/command.rb:34:in `run'\u001b[0m",
      "\u001b[37m/var/lib/gems/2.3.0/gems/iruby-0.3/bin/iruby:5:in `<top (required)>'\u001b[0m",
      "\u001b[37m/usr/local/bin/iruby:23:in `load'\u001b[0m",
      "\u001b[37m/usr/local/bin/iruby:23:in `<main>'\u001b[0m"
     ]
    }
   ],
   "source": [
    "class Spaceship\n",
    "  def launch(destination)\n",
    "    # instace variable, only created if we call the \"lauch\" method\n",
    "    @destination = destination\n",
    "    # go towards destination\n",
    "  end\n",
    "end\n",
    "\n",
    "ship = Spaceship.new\n",
    "ship.launch(\"Earth\")\n",
    "# error: instance variables are not visible outsite the class\n",
    "# on the other hand instance methods are public by default\n",
    "puts ship.destination"
   ]
  },
  {
   "cell_type": "code",
   "execution_count": 8,
   "metadata": {},
   "outputs": [
    {
     "name": "stdout",
     "output_type": "stream",
     "text": [
      "Earth\n"
     ]
    }
   ],
   "source": [
    "class Spaceship\n",
    "  def launch(destination)\n",
    "    @destination = destination\n",
    "  end\n",
    "  # define a method which return the destination variable\n",
    "  # now we can get the destination variable by calling destination method\n",
    "  def destination\n",
    "    @destination\n",
    "  end\n",
    "end\n",
    "\n",
    "ship = Spaceship.new\n",
    "ship.launch(\"Earth\")\n",
    "\n",
    "puts ship.destination"
   ]
  },
  {
   "cell_type": "markdown",
   "metadata": {},
   "source": [
    "### *Note*: instance variable of a class are private and can only be accessed via methods"
   ]
  },
  {
   "cell_type": "markdown",
   "metadata": {},
   "source": [
    "# Accessors and Virtual Attributes"
   ]
  },
  {
   "cell_type": "code",
   "execution_count": 9,
   "metadata": {},
   "outputs": [
    {
     "name": "stdout",
     "output_type": "stream",
     "text": [
      "\n"
     ]
    }
   ],
   "source": [
    "# use \"attr_accessor\" to provide read and write accessors to an instance variable\n",
    "class Spaceship\n",
    "  attr_accessor :destination\n",
    "end\n",
    "\n",
    "ship = Spaceship.new\n",
    "ship.destination\n",
    "puts ship.destination"
   ]
  },
  {
   "cell_type": "code",
   "execution_count": 10,
   "metadata": {},
   "outputs": [
    {
     "name": "stdout",
     "output_type": "stream",
     "text": [
      "Draaaaw\n"
     ]
    }
   ],
   "source": [
    "class Spaceship\n",
    "  attr_accessor :destination # attr_accessor is a combined form of attr_reader and attr_writer\n",
    "  attr_reader :name # provide read access to name variable\n",
    "  attr_writer :name # provide write access to name variable\n",
    "end\n",
    "\n",
    "ship = Spaceship.new\n",
    "ship.name = \"Draaaaw\"\n",
    "puts ship.name"
   ]
  },
  {
   "cell_type": "code",
   "execution_count": 11,
   "metadata": {},
   "outputs": [],
   "source": [
    "class Spaceship\n",
    "  attr_accessor :destination, :name # to define multiple accessor\n",
    "end"
   ]
  },
  {
   "cell_type": "code",
   "execution_count": 12,
   "metadata": {},
   "outputs": [
    {
     "data": {
      "text/plain": [
       ":cancel_lauch"
      ]
     },
     "execution_count": 12,
     "metadata": {},
     "output_type": "execute_result"
    }
   ],
   "source": [
    "class Spaceship\n",
    "  attr_accessor :destination, :name\n",
    "  \n",
    "  def cancel_lauch\n",
    "    destination = \"\" # will not call accessor method, instead it's going to create a local variable\n",
    "    self.destination = \"\" # in oder to call the accessor you need to qualify it with \"self.\"\n",
    "    \n",
    "  end\n",
    "end"
   ]
  },
  {
   "cell_type": "code",
   "execution_count": 13,
   "metadata": {},
   "outputs": [
    {
     "data": {
      "text/plain": [
       ":destination="
      ]
     },
     "execution_count": 13,
     "metadata": {},
     "output_type": "execute_result"
    }
   ],
   "source": [
    "class Spaceship\n",
    "  attr_accessor :destination\n",
    "end\n",
    "\n",
    "############# is equivalent to ################\n",
    "\n",
    "class Spaceship\n",
    "  def destination\n",
    "    @destination\n",
    "  end\n",
    "  \n",
    "  def destination=(new_destination) # here = sign is just a part of its name, it signifies that it's a setter\n",
    "    @destination = new_destination\n",
    "  end\n",
    "end"
   ]
  },
  {
   "cell_type": "markdown",
   "metadata": {},
   "source": [
    "## Virtual Attributes"
   ]
  },
  {
   "cell_type": "code",
   "execution_count": 15,
   "metadata": {},
   "outputs": [
    {
     "ename": "NoMethodError",
     "evalue": "undefined method `destination=' for nil:NilClass",
     "output_type": "error",
     "traceback": [
      "\u001b[31mNoMethodError\u001b[0m: undefined method `destination=' for nil:NilClass",
      "\u001b[37m<main>:7:in `destination='\u001b[0m",
      "\u001b[37m<main>:12:in `<main>'\u001b[0m",
      "\u001b[37m/var/lib/gems/2.3.0/gems/iruby-0.3/lib/iruby/backend.rb:44:in `eval'\u001b[0m",
      "\u001b[37m/var/lib/gems/2.3.0/gems/iruby-0.3/lib/iruby/backend.rb:44:in `eval'\u001b[0m",
      "\u001b[37m/var/lib/gems/2.3.0/gems/iruby-0.3/lib/iruby/backend.rb:12:in `eval'\u001b[0m",
      "\u001b[37m/var/lib/gems/2.3.0/gems/iruby-0.3/lib/iruby/kernel.rb:87:in `execute_request'\u001b[0m",
      "\u001b[37m/var/lib/gems/2.3.0/gems/iruby-0.3/lib/iruby/kernel.rb:47:in `dispatch'\u001b[0m",
      "\u001b[37m/var/lib/gems/2.3.0/gems/iruby-0.3/lib/iruby/kernel.rb:37:in `run'\u001b[0m",
      "\u001b[37m/var/lib/gems/2.3.0/gems/iruby-0.3/lib/iruby/command.rb:70:in `run_kernel'\u001b[0m",
      "\u001b[37m/var/lib/gems/2.3.0/gems/iruby-0.3/lib/iruby/command.rb:34:in `run'\u001b[0m",
      "\u001b[37m/var/lib/gems/2.3.0/gems/iruby-0.3/bin/iruby:5:in `<top (required)>'\u001b[0m",
      "\u001b[37m/usr/local/bin/iruby:23:in `load'\u001b[0m",
      "\u001b[37m/usr/local/bin/iruby:23:in `<main>'\u001b[0m"
     ]
    }
   ],
   "source": [
    "class Spaceship\n",
    "  def destination\n",
    "    # passes the destination value to autopilot instead of storing it\n",
    "    # now destination has become so called vitual attribute\n",
    "    @autopilot.destination\n",
    "  end\n",
    "  \n",
    "  def destination=(new_destination)\n",
    "    @autopilot.destination = new_destination\n",
    "  end\n",
    "end\n",
    "\n",
    "ship = Spaceship.new\n",
    "ship.destination = \"Earth\"\n",
    "puts ship.destination\n",
    "\n",
    "# how ever there is no destination veriable under the hood but we can still assign values to it"
   ]
  },
  {
   "cell_type": "markdown",
   "metadata": {},
   "source": [
    "# Initialization"
   ]
  },
  {
   "cell_type": "code",
   "execution_count": 18,
   "metadata": {},
   "outputs": [
    {
     "ename": "NameError",
     "evalue": "uninitialized constant Spaceship::CargoHold",
     "output_type": "error",
     "traceback": [
      "\u001b[31mNameError\u001b[0m: uninitialized constant Spaceship::CargoHold",
      "\u001b[37m<main>:3:in `initialize'\u001b[0m",
      "\u001b[37m<main>:8:in `new'\u001b[0m",
      "\u001b[37m<main>:8:in `<main>'\u001b[0m",
      "\u001b[37m/var/lib/gems/2.3.0/gems/iruby-0.3/lib/iruby/backend.rb:44:in `eval'\u001b[0m",
      "\u001b[37m/var/lib/gems/2.3.0/gems/iruby-0.3/lib/iruby/backend.rb:44:in `eval'\u001b[0m",
      "\u001b[37m/var/lib/gems/2.3.0/gems/iruby-0.3/lib/iruby/backend.rb:12:in `eval'\u001b[0m",
      "\u001b[37m/var/lib/gems/2.3.0/gems/iruby-0.3/lib/iruby/kernel.rb:87:in `execute_request'\u001b[0m",
      "\u001b[37m/var/lib/gems/2.3.0/gems/iruby-0.3/lib/iruby/kernel.rb:47:in `dispatch'\u001b[0m",
      "\u001b[37m/var/lib/gems/2.3.0/gems/iruby-0.3/lib/iruby/kernel.rb:37:in `run'\u001b[0m",
      "\u001b[37m/var/lib/gems/2.3.0/gems/iruby-0.3/lib/iruby/command.rb:70:in `run_kernel'\u001b[0m",
      "\u001b[37m/var/lib/gems/2.3.0/gems/iruby-0.3/lib/iruby/command.rb:34:in `run'\u001b[0m",
      "\u001b[37m/var/lib/gems/2.3.0/gems/iruby-0.3/bin/iruby:5:in `<top (required)>'\u001b[0m",
      "\u001b[37m/usr/local/bin/iruby:23:in `load'\u001b[0m",
      "\u001b[37m/usr/local/bin/iruby:23:in `<main>'\u001b[0m"
     ]
    }
   ],
   "source": [
    "class Spaceship\n",
    "  def initialize(name, cargo_module_count)\n",
    "    @name = name\n",
    "    @corgo_hold = CargoHold.new(cargo_module_count)\n",
    "    @power_level = 100\n",
    "  end\n",
    "end\n",
    "\n",
    "ship  = Spaceship.new(\"Bllooom\", 4) # will invoke to initialize(\"Bllooom\", 4)\n",
    "p ship\n",
    "\n",
    "# to distroy object you don't need to explicitly distroy them, they are distroyed periodically by ruby itself"
   ]
  },
  {
   "cell_type": "markdown",
   "metadata": {},
   "source": [
    "# Inheritance"
   ]
  },
  {
   "cell_type": "code",
   "execution_count": null,
   "metadata": {},
   "outputs": [],
   "source": [
    "class Probe\n",
    "  def deploy\n",
    "    # deploy the probe\n",
    "  end\n",
    "  def take_sample\n",
    "    # do generic sampling\n",
    "  end\n",
    "end\n",
    "\n",
    "\n",
    "# inherits from Probe class\n",
    "class MiniralProbe < Probe\n",
    "  def tame_sample\n",
    "    # take a miniral sample\n",
    "  end\n",
    "end\n",
    "\n",
    "class AtmosphericProbe < Probe\n",
    "  def take_sample\n",
    "    # take a sample of atmosphare\n",
    "  end\n",
    "end"
   ]
  },
  {
   "cell_type": "code",
   "execution_count": 19,
   "metadata": {},
   "outputs": [
    {
     "name": "stdout",
     "output_type": "stream",
     "text": [
      "Preparing sample chambers\n"
     ]
    },
    {
     "ename": "ArgumentError",
     "evalue": "wrong number of arguments (given 1, expected 2)",
     "output_type": "error",
     "traceback": [
      "\u001b[31mArgumentError\u001b[0m: wrong number of arguments (given 1, expected 2)",
      "\u001b[37m<main>:1:in `deploy'\u001b[0m",
      "\u001b[37m<main>:9:in `deploy'\u001b[0m",
      "\u001b[37m<main>:13:in `<main>'\u001b[0m",
      "\u001b[37m/var/lib/gems/2.3.0/gems/iruby-0.3/lib/iruby/backend.rb:44:in `eval'\u001b[0m",
      "\u001b[37m/var/lib/gems/2.3.0/gems/iruby-0.3/lib/iruby/backend.rb:44:in `eval'\u001b[0m",
      "\u001b[37m/var/lib/gems/2.3.0/gems/iruby-0.3/lib/iruby/backend.rb:12:in `eval'\u001b[0m",
      "\u001b[37m/var/lib/gems/2.3.0/gems/iruby-0.3/lib/iruby/kernel.rb:87:in `execute_request'\u001b[0m",
      "\u001b[37m/var/lib/gems/2.3.0/gems/iruby-0.3/lib/iruby/kernel.rb:47:in `dispatch'\u001b[0m",
      "\u001b[37m/var/lib/gems/2.3.0/gems/iruby-0.3/lib/iruby/kernel.rb:37:in `run'\u001b[0m",
      "\u001b[37m/var/lib/gems/2.3.0/gems/iruby-0.3/lib/iruby/command.rb:70:in `run_kernel'\u001b[0m",
      "\u001b[37m/var/lib/gems/2.3.0/gems/iruby-0.3/lib/iruby/command.rb:34:in `run'\u001b[0m",
      "\u001b[37m/var/lib/gems/2.3.0/gems/iruby-0.3/bin/iruby:5:in `<top (required)>'\u001b[0m",
      "\u001b[37m/usr/local/bin/iruby:23:in `load'\u001b[0m",
      "\u001b[37m/usr/local/bin/iruby:23:in `<main>'\u001b[0m"
     ]
    }
   ],
   "source": [
    "class Probe\n",
    "  def deploy(deploy_time, return_time)\n",
    "    puts \"Deploying\"\n",
    "  end\n",
    "end\n",
    "\n",
    "class MiniralProbe < Probe\n",
    "  def deploy(deploy_time)\n",
    "    puts \"Preparing sample chambers\"\n",
    "    super\n",
    "  end\n",
    "end\n",
    "\n",
    "MiniralProbe.new.deploy(Time.now)"
   ]
  },
  {
   "cell_type": "code",
   "execution_count": 21,
   "metadata": {},
   "outputs": [
    {
     "name": "stdout",
     "output_type": "stream",
     "text": [
      "Preparing sample chambers\n"
     ]
    },
    {
     "ename": "ArgumentError",
     "evalue": "wrong number of arguments (given 0, expected 2)",
     "output_type": "error",
     "traceback": [
      "\u001b[31mArgumentError\u001b[0m: wrong number of arguments (given 0, expected 2)",
      "\u001b[37m<main>:1:in `deploy'\u001b[0m",
      "\u001b[37m<main>:9:in `deploy'\u001b[0m",
      "\u001b[37m<main>:13:in `<main>'\u001b[0m",
      "\u001b[37m/var/lib/gems/2.3.0/gems/iruby-0.3/lib/iruby/backend.rb:44:in `eval'\u001b[0m",
      "\u001b[37m/var/lib/gems/2.3.0/gems/iruby-0.3/lib/iruby/backend.rb:44:in `eval'\u001b[0m",
      "\u001b[37m/var/lib/gems/2.3.0/gems/iruby-0.3/lib/iruby/backend.rb:12:in `eval'\u001b[0m",
      "\u001b[37m/var/lib/gems/2.3.0/gems/iruby-0.3/lib/iruby/kernel.rb:87:in `execute_request'\u001b[0m",
      "\u001b[37m/var/lib/gems/2.3.0/gems/iruby-0.3/lib/iruby/kernel.rb:47:in `dispatch'\u001b[0m",
      "\u001b[37m/var/lib/gems/2.3.0/gems/iruby-0.3/lib/iruby/kernel.rb:37:in `run'\u001b[0m",
      "\u001b[37m/var/lib/gems/2.3.0/gems/iruby-0.3/lib/iruby/command.rb:70:in `run_kernel'\u001b[0m",
      "\u001b[37m/var/lib/gems/2.3.0/gems/iruby-0.3/lib/iruby/command.rb:34:in `run'\u001b[0m",
      "\u001b[37m/var/lib/gems/2.3.0/gems/iruby-0.3/bin/iruby:5:in `<top (required)>'\u001b[0m",
      "\u001b[37m/usr/local/bin/iruby:23:in `load'\u001b[0m",
      "\u001b[37m/usr/local/bin/iruby:23:in `<main>'\u001b[0m"
     ]
    }
   ],
   "source": [
    "class Probe\n",
    "  def deploy(deploy_time, return_time)\n",
    "    puts \"Deploying\"\n",
    "  end\n",
    "end\n",
    "\n",
    "class MiniralProbe < Probe\n",
    "  def deploy(deploy_time)\n",
    "    puts \"Preparing sample chambers\"\n",
    "    super()\n",
    "  end\n",
    "end\n",
    "\n",
    "MiniralProbe.new.deploy(Time.now)"
   ]
  },
  {
   "cell_type": "code",
   "execution_count": 22,
   "metadata": {},
   "outputs": [
    {
     "name": "stdout",
     "output_type": "stream",
     "text": [
      "Preparing sample chambers\n",
      "Deploying\n"
     ]
    }
   ],
   "source": [
    "class Probe\n",
    "  def deploy(deploy_time, return_time)\n",
    "    puts \"Deploying\"\n",
    "  end\n",
    "end\n",
    "\n",
    "class MiniralProbe < Probe\n",
    "  def deploy(deploy_time)\n",
    "    puts \"Preparing sample chambers\"\n",
    "    super(deploy_time, Time.now + 2*60*60)\n",
    "  end\n",
    "end\n",
    "\n",
    "MiniralProbe.new.deploy(Time.now)"
   ]
  }
 ],
 "metadata": {
  "kernelspec": {
   "display_name": "Ruby 2.3.1",
   "language": "ruby",
   "name": "ruby"
  },
  "language_info": {
   "file_extension": ".rb",
   "mimetype": "application/x-ruby",
   "name": "ruby",
   "version": "2.3.1"
  }
 },
 "nbformat": 4,
 "nbformat_minor": 2
}
