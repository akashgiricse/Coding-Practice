{
 "cells": [
  {
   "cell_type": "code",
   "execution_count": null,
   "metadata": {
    "scrolled": true
   },
   "outputs": [],
   "source": [
    "require 'hypertrack'\n",
    "HyperTrack.secret_key = \"sk_test_*******************************\"\n",
    "HyperTrack.api_version = \"v2\"\n",
    "\n",
    "# HyperTrack::User.list\n",
    "HyperTrack::Action.list\n",
    "\n",
    "# max_retries = 4\n",
    "# times_retried = 0\n",
    "\n",
    "#   begin\n",
    "#     users = HyperTrack::User.list\n",
    "\n",
    "#   rescue Net::ReadTimeout => error\n",
    "#     if times_retried < max_retries\n",
    "#       times_retried += 1\n",
    "#       puts \"Failed to fetch users, retry #{times_retried}/#{max_retries}\"\n",
    "#       retry\n",
    "#     else\n",
    "#       puts \"Exiting script. Net::ReadTimeout: Net::ReadTimeout\"\n",
    "#       exit(1)\n",
    "#     end\n",
    "#   end\n"
   ]
  },
  {
   "cell_type": "code",
   "execution_count": null,
   "metadata": {},
   "outputs": [],
   "source": []
  }
 ],
 "metadata": {
  "kernelspec": {
   "display_name": "Ruby 2.4.1",
   "language": "ruby",
   "name": "ruby"
  },
  "language_info": {
   "file_extension": ".rb",
   "mimetype": "application/x-ruby",
   "name": "ruby",
   "version": "2.3.1"
  }
 },
 "nbformat": 4,
 "nbformat_minor": 2
}
