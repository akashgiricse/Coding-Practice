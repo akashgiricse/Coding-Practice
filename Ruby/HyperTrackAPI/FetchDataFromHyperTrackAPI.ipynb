{
 "cells": [
  {
   "cell_type": "code",
   "execution_count": null,
   "metadata": {},
   "outputs": [],
   "source": [
    "require 'httparty'\n",
    "require 'hypertrack'\n",
    "HyperTrack.secret_key = \"<secret_key_here>\"\n",
    "HyperTrack.api_version = \"v2\"\n",
    "\n",
    "# Get all data related to deliveries which are completed\n",
    "# =====================================\n",
    "1.upto(14) do |page_no|\n",
    "  response = HTTParty.get(\"https://api.hypertrack.com/api/v2/actions/?page=#{page_no}&status=completed\", :headers => { \"Authorization\" => \"Token #{HyperTrack.secret_key}\" }, format: :plain)\n",
    "  1.upto(8) do |i|\n",
    "    delivery_id = JSON.parse(response.body)[\"results\"][i][\"unique_id\"]\n",
    "    name = JSON.parse(response.body)[\"results\"][i][\"user\"][\"name\"]\n",
    "    duration = JSON.parse(response.body)[\"results\"][i][\"duration\"]\n",
    "    distance = JSON.parse(response.body)[\"results\"][i][\"distance\"]\n",
    "    puts \"delivery_id: #{delivery_id}\"\n",
    "    puts \"name: #{name}\"\n",
    "    puts \"duration: #{duration}\"\n",
    "    puts \"distance: #{distance}\"\n",
    "    puts \"-----------------\"\n",
    "  end\n",
    "end\n",
    "\n",
    "# =======================================\n",
    "\n",
    "# function to get data related to a perticular delivery_id\n",
    "\n",
    "\n",
    "# def get_delivery_details(delivery_id)\n",
    "#   response = HTTParty.get(\"https://api.hypertrack.com/api/v2/actions/?unique_id=#{delivery_id}&status=completed\", :headers => { \"Authorization\" => \"Token #{HyperTrack.secret_key}\" }, format: :plain)\n",
    "#   name = JSON.parse(response.body)[\"results\"][0][\"user\"][\"name\"]\n",
    "#   duration = JSON.parse(response.body)[\"results\"][0][\"duration\"]\n",
    "#   distance = JSON.parse(response.body)[\"results\"][0][\"distance\"]\n",
    "#   puts name\n",
    "#   puts duration\n",
    "#   puts distance\n",
    "# end\n",
    "\n",
    "# get_delivery_details(57545)\n"
   ]
  }
 ],
 "metadata": {
  "kernelspec": {
   "display_name": "Ruby 2.4.1",
   "language": "ruby",
   "name": "ruby"
  },
  "language_info": {
   "file_extension": ".rb",
   "mimetype": "application/x-ruby",
   "name": "ruby",
   "version": "2.3.1"
  }
 },
 "nbformat": 4,
 "nbformat_minor": 2
}
