{
 "cells": [
  {
   "cell_type": "code",
   "execution_count": null,
   "metadata": {},
   "outputs": [],
   "source": [
    "require 'httparty'\n",
    "\n",
    "$secret_key = '<key_here>'\n",
    "\n",
    "# Get all data related to deliveries which are completed\n",
    "def get_delivery_id()\n",
    "  delivery_id_array = []\n",
    "  1.upto(1) do |page_no|\n",
    "    response = HTTParty.get(\"https://api.hypertrack.com/api/v2/actions/?page=#{page_no}\",\n",
    "                            :headers => { \"Authorization\" => \"Token #{$secret_key}\" },\n",
    "                            format: :plain)\n",
    "    0.upto(9) do |i|\n",
    "      delivery_id = JSON.parse(response.body)[\"results\"][i][\"unique_id\"]\n",
    "      delivery_id_array.push(delivery_id)\n",
    "    end\n",
    "  end\n",
    "  return delivery_id_array\n",
    "end\n",
    "\n",
    "\n",
    "# function to get data related to a perticular delivery_id\n",
    "def get_delivery_details(delivery_id)\n",
    "  response = HTTParty.get(\"https://api.hypertrack.com/api/v2/actions/?unique_id=#{delivery_id}\",\n",
    "                          :headers => { \"Authorization\" => \"Token #{$secret_key}\" },\n",
    "                          format: :plain)\n",
    "  status = JSON.parse(response.body)[\"results\"][0][\"status\"]\n",
    "  if status == \"completed\"\n",
    "    duration = JSON.parse(response.body)[\"results\"][0][\"duration\"]\n",
    "    distance = JSON.parse(response.body)[\"results\"][0][\"distance\"]\n",
    "    return duration, distance\n",
    "  elsif status == \"autocanceled\"\n",
    "    return status\n",
    "  else\n",
    "    return status\n",
    "  end\n",
    "end\n",
    "\n",
    "\n",
    "delivery_id_array = get_delivery_id()\n",
    "\n",
    "for delivery_id in delivery_id_array\n",
    "  puts get_delivery_details(delivery_id)\n",
    "end"
   ]
  },
  {
   "cell_type": "code",
   "execution_count": null,
   "metadata": {},
   "outputs": [],
   "source": []
  }
 ],
 "metadata": {
  "kernelspec": {
   "display_name": "Ruby 2.4.1",
   "language": "ruby",
   "name": "ruby"
  },
  "language_info": {
   "file_extension": ".rb",
   "mimetype": "application/x-ruby",
   "name": "ruby",
   "version": "2.3.1"
  }
 },
 "nbformat": 4,
 "nbformat_minor": 2
}
