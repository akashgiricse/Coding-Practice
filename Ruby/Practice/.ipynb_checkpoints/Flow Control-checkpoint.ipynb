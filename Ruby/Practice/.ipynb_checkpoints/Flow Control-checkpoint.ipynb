{
 "cells": [
  {
   "cell_type": "markdown",
   "metadata": {},
   "source": [
    "# Conditional Execution with if-else"
   ]
  },
  {
   "cell_type": "markdown",
   "metadata": {},
   "source": [
    "### In ruby only *Nill* and *false* evaluate to false"
   ]
  },
  {
   "cell_type": "markdown",
   "metadata": {},
   "source": [
    "### *if not* condition is equivalent to *unless* condition"
   ]
  },
  {
   "cell_type": "code",
   "execution_count": null,
   "metadata": {},
   "outputs": [],
   "source": [
    "if can_launch?\n",
    "  launch\n",
    "else\n",
    "  wait\n",
    "end"
   ]
  },
  {
   "cell_type": "code",
   "execution_count": null,
   "metadata": {},
   "outputs": [],
   "source": [
    "message = if lander_cnt > 10 then \"Launching\" else \"Waiting\" end"
   ]
  },
  {
   "cell_type": "code",
   "execution_count": null,
   "metadata": {},
   "outputs": [],
   "source": [
    "launch if can_launch?"
   ]
  },
  {
   "cell_type": "code",
   "execution_count": null,
   "metadata": {},
   "outputs": [],
   "source": [
    "if fuel_level > 50\n",
    "  set_fuel_light(\"Green\")\n",
    "elsif fule_level > 25\n",
    "  set_fuel_light(\"yellow\")\n",
    "else\n",
    "  set_fuel_light(\"red\")\n",
    "end"
   ]
  },
  {
   "cell_type": "code",
   "execution_count": null,
   "metadata": {},
   "outputs": [],
   "source": [
    "unless fuel_level < 25\n",
    "  launch\n",
    "end"
   ]
  },
  {
   "cell_type": "code",
   "execution_count": null,
   "metadata": {},
   "outputs": [],
   "source": [
    "launch unless fuel_level < 25"
   ]
  },
  {
   "cell_type": "markdown",
   "metadata": {},
   "source": [
    "## Ternary Operator ?:"
   ]
  },
  {
   "cell_type": "code",
   "execution_count": null,
   "metadata": {},
   "outputs": [],
   "source": [
    "can_launch? launch : wait"
   ]
  },
  {
   "cell_type": "markdown",
   "metadata": {},
   "source": [
    "# Conditional Initialization"
   ]
  },
  {
   "cell_type": "markdown",
   "metadata": {},
   "source": [
    "#### *and* and *or* have much lower precedence than && and ||"
   ]
  },
  {
   "cell_type": "markdown",
   "metadata": {},
   "source": [
    "#### && has higher precedence than ||"
   ]
  },
  {
   "cell_type": "markdown",
   "metadata": {},
   "source": [
    "#### *and* and *or* have the same precedence"
   ]
  },
  {
   "cell_type": "code",
   "execution_count": null,
   "metadata": {},
   "outputs": [],
   "source": [
    "if engine.cut_out?\n",
    "  engine.restart or enable_emergency_power\n",
    "end"
   ]
  },
  {
   "cell_type": "markdown",
   "metadata": {},
   "source": [
    "### These two statements are equivalent"
   ]
  },
  {
   "cell_type": "code",
   "execution_count": null,
   "metadata": {},
   "outputs": [],
   "source": [
    "lander = Lander.locate(lander_id) and lander.recall"
   ]
  },
  {
   "cell_type": "code",
   "execution_count": null,
   "metadata": {},
   "outputs": [],
   "source": [
    "lander = Lander.locate(lander_id) # true if lander located\n",
    "lander.recall if lander"
   ]
  },
  {
   "cell_type": "markdown",
   "metadata": {},
   "source": [
    "# *case* Statement"
   ]
  },
  {
   "cell_type": "code",
   "execution_count": null,
   "metadata": {},
   "outputs": [],
   "source": [
    "case distance_to_dock\n",
    "when \"far away\"\n",
    "  lander.maintain_thrust\n",
    "when \"costing time\"\n",
    "  lander.kill_thrust\n",
    "when \"collision imminent\"\n",
    "  lander.reverse_thrust\n",
    "end"
   ]
  },
  {
   "cell_type": "code",
   "execution_count": null,
   "metadata": {},
   "outputs": [],
   "source": [
    "thrust_power = case distance_to_dock\n",
    "              when \"far away\"\n",
    "                  100\n",
    "              when \"costing\"\n",
    "                  500\n",
    "              end"
   ]
  },
  {
   "cell_type": "code",
   "execution_count": null,
   "metadata": {},
   "outputs": [],
   "source": [
    "thrust_power = case distance_to_dock\n",
    "              when \"far away\" then 100\n",
    "              when \"costing\"  then 200\n",
    "              end"
   ]
  },
  {
   "cell_type": "code",
   "execution_count": null,
   "metadata": {},
   "outputs": [],
   "source": [
    "case distance_to_dock\n",
    "when \"far away\"\n",
    "  lander.maintain_thrust\n",
    "when \"costing time\"\n",
    "  lander.kill_thrust\n",
    "when \"collision imminent\"\n",
    "  lander.reverse_thrust\n",
    "else\n",
    "  activate_alarm(\"Unidentified unit\")\n",
    "end"
   ]
  },
  {
   "cell_type": "markdown",
   "metadata": {},
   "source": [
    "# Looping: while (limited use)"
   ]
  },
  {
   "cell_type": "code",
   "execution_count": null,
   "metadata": {},
   "outputs": [],
   "source": [
    "while high_alert?\n",
    "  sound_system.play_siren_cycle\n",
    "end"
   ]
  },
  {
   "cell_type": "code",
   "execution_count": null,
   "metadata": {},
   "outputs": [],
   "source": [
    "while high_alert? do sound_system.play_siren_cycle end"
   ]
  },
  {
   "cell_type": "code",
   "execution_count": null,
   "metadata": {},
   "outputs": [],
   "source": [
    "sound_system.play_siren_cycle while high_alert? "
   ]
  },
  {
   "cell_type": "markdown",
   "metadata": {},
   "source": [
    "# Looping: until"
   ]
  },
  {
   "cell_type": "code",
   "execution_count": null,
   "metadata": {},
   "outputs": [],
   "source": [
    "until ship.at_cruising_velocity?\n",
    "  ship.accelerate\n",
    "end"
   ]
  },
  {
   "cell_type": "code",
   "execution_count": null,
   "metadata": {},
   "outputs": [],
   "source": [
    "until high_alert? do sound_system.play_siren_cycle end"
   ]
  },
  {
   "cell_type": "code",
   "execution_count": null,
   "metadata": {},
   "outputs": [],
   "source": [
    "sound_system.play_siren_cycle until high_alert? "
   ]
  },
  {
   "cell_type": "markdown",
   "metadata": {},
   "source": [
    "# Looping: *begin/end* executes at least once"
   ]
  },
  {
   "cell_type": "code",
   "execution_count": null,
   "metadata": {},
   "outputs": [],
   "source": [
    "begin\n",
    "  lighting.start_flashing\n",
    "  sound_system.play_siren_cycle\n",
    "end while high_alert?"
   ]
  },
  {
   "cell_type": "code",
   "execution_count": null,
   "metadata": {},
   "outputs": [],
   "source": [
    "begin\n",
    "  ship.accelerate\n",
    "  make_fake_engine_noise\n",
    "end until ship.at_cruising_velocity?"
   ]
  },
  {
   "cell_type": "markdown",
   "metadata": {},
   "source": [
    "# Looping: *for* (Not used much)"
   ]
  },
  {
   "cell_type": "code",
   "execution_count": 6,
   "metadata": {},
   "outputs": [
    {
     "name": "stdout",
     "output_type": "stream",
     "text": [
      "Counting down to lauch\n",
      "3\n",
      "2\n",
      "1\n"
     ]
    },
    {
     "data": {
      "text/plain": [
       "[3, 2, 1]"
      ]
     },
     "execution_count": 6,
     "metadata": {},
     "output_type": "execute_result"
    }
   ],
   "source": [
    "puts \"Counting down to lauch\"\n",
    "for i in [3,2,1]\n",
    "  puts i\n",
    "end"
   ]
  },
  {
   "cell_type": "code",
   "execution_count": 8,
   "metadata": {},
   "outputs": [
    {
     "name": "stdout",
     "output_type": "stream",
     "text": [
      "1\n",
      "2\n",
      "3\n",
      "4\n"
     ]
    },
    {
     "data": {
      "text/plain": [
       "1..4"
      ]
     },
     "execution_count": 8,
     "metadata": {},
     "output_type": "execute_result"
    }
   ],
   "source": [
    "# print numbers for 1 to 10\n",
    "for i in (1..4)\n",
    "  puts i\n",
    "end"
   ]
  },
  {
   "cell_type": "markdown",
   "metadata": {},
   "source": [
    "# Iterators and Blocks"
   ]
  },
  {
   "cell_type": "code",
   "execution_count": 9,
   "metadata": {},
   "outputs": [
    {
     "name": "stdout",
     "output_type": "stream",
     "text": [
      "This is Serenity, please respond\n",
      "This is Serenity, please respond\n",
      "This is Serenity, please respond\n"
     ]
    },
    {
     "data": {
      "text/plain": [
       "[1, 2, 3]"
      ]
     },
     "execution_count": 9,
     "metadata": {},
     "output_type": "execute_result"
    }
   ],
   "source": [
    "[1,2,3].each do\n",
    "  puts \"This is Serenity, please respond\"\n",
    "end"
   ]
  },
  {
   "cell_type": "markdown",
   "metadata": {},
   "source": [
    "# Looping: *loop*"
   ]
  },
  {
   "cell_type": "code",
   "execution_count": null,
   "metadata": {},
   "outputs": [],
   "source": [
    "loop do \n",
    "  go_another_light_year\n",
    "  puts \"This is not the age of universe\"\n",
    "end"
   ]
  },
  {
   "cell_type": "markdown",
   "metadata": {},
   "source": [
    "# Looping: Some help from Numbers"
   ]
  },
  {
   "cell_type": "code",
   "execution_count": 10,
   "metadata": {},
   "outputs": [
    {
     "name": "stdout",
     "output_type": "stream",
     "text": [
      "10\n",
      "11\n",
      "12\n",
      "13\n",
      "14\n",
      "15\n",
      "16\n",
      "17\n",
      "18\n",
      "19\n",
      "20\n"
     ]
    },
    {
     "data": {
      "text/plain": [
       "10"
      ]
     },
     "execution_count": 10,
     "metadata": {},
     "output_type": "execute_result"
    }
   ],
   "source": [
    "10.upto(20) { |i| puts i} "
   ]
  },
  {
   "cell_type": "code",
   "execution_count": 11,
   "metadata": {},
   "outputs": [
    {
     "name": "stdout",
     "output_type": "stream",
     "text": [
      "20\n",
      "19\n",
      "18\n",
      "17\n",
      "16\n",
      "15\n",
      "14\n",
      "13\n",
      "12\n",
      "11\n",
      "10\n"
     ]
    },
    {
     "data": {
      "text/plain": [
       "20"
      ]
     },
     "execution_count": 11,
     "metadata": {},
     "output_type": "execute_result"
    }
   ],
   "source": [
    "20.downto(10) { |i| puts i}"
   ]
  },
  {
   "cell_type": "code",
   "execution_count": 12,
   "metadata": {},
   "outputs": [
    {
     "name": "stdout",
     "output_type": "stream",
     "text": [
      "Hello there\n",
      "Hello there\n",
      "Hello there\n"
     ]
    },
    {
     "data": {
      "text/plain": [
       "3"
      ]
     },
     "execution_count": 12,
     "metadata": {},
     "output_type": "execute_result"
    }
   ],
   "source": [
    "3.times { puts \"Hello there\"}"
   ]
  },
  {
   "cell_type": "code",
   "execution_count": 13,
   "metadata": {},
   "outputs": [
    {
     "name": "stdout",
     "output_type": "stream",
     "text": [
      "1\n",
      "3\n",
      "5\n",
      "7\n",
      "9\n"
     ]
    },
    {
     "data": {
      "text/plain": [
       "1"
      ]
     },
     "execution_count": 13,
     "metadata": {},
     "output_type": "execute_result"
    }
   ],
   "source": [
    "1.step(10,2) {|i| puts i}"
   ]
  },
  {
   "cell_type": "markdown",
   "metadata": {},
   "source": [
    "# Loop Flow"
   ]
  },
  {
   "cell_type": "markdown",
   "metadata": {},
   "source": [
    "## *next* starts the next iteration of the loop"
   ]
  },
  {
   "cell_type": "code",
   "execution_count": null,
   "metadata": {},
   "outputs": [],
   "source": [
    "while message = comms.get_message\n",
    "  next if message.type == \"sync\" # if true, skip the loop and go to while loop,\n",
    "                                # i.e. message.process is not executed\n",
    "  message.process\n",
    "end"
   ]
  },
  {
   "cell_type": "markdown",
   "metadata": {},
   "source": [
    "## *break* exits out of the loop"
   ]
  },
  {
   "cell_type": "code",
   "execution_count": null,
   "metadata": {},
   "outputs": [],
   "source": [
    "while message = comms.get_message\n",
    "  message.process\n",
    "  break if message.type == \"voice\" # exit out of loop, i.e. while loop\n",
    "end"
   ]
  },
  {
   "cell_type": "markdown",
   "metadata": {},
   "source": [
    "## Loops are expression in the ruby, it mean we can assign them a value"
   ]
  },
  {
   "cell_type": "code",
   "execution_count": null,
   "metadata": {},
   "outputs": [],
   "source": [
    "text = while message = comms.get_message\n",
    "        message.process\n",
    "        break if message.type == \"voice\" # exit out of loop, i.e. while loop\n",
    "      end"
   ]
  },
  {
   "cell_type": "markdown",
   "metadata": {},
   "source": [
    "## *redo* repeats the iteration without re-evaluating loop condition"
   ]
  },
  {
   "cell_type": "code",
   "execution_count": null,
   "metadata": {},
   "outputs": [],
   "source": [
    "# infinite loop\n",
    "i = 0\n",
    "while i < 3 \n",
    "  print \"Please enter a positive number: \"\n",
    "  input = get.to_i\n",
    "  redo if input <= 0 # keep iterating print statement if inpu\n",
    "  i += 1\n",
    "end"
   ]
  },
  {
   "cell_type": "markdown",
   "metadata": {},
   "source": [
    "# Exception\n",
    "## RuntimeError => StandardError => Exception"
   ]
  },
  {
   "cell_type": "code",
   "execution_count": null,
   "metadata": {},
   "outputs": [],
   "source": [
    "def launch\n",
    "  begin\n",
    "    batten_hatches\n",
    "  rescue\n",
    "    puts \"Couldn't batten hatches\"\n",
    "    return false\n",
    "  end\n",
    "  light_seatbelt_sign\n",
    "end"
   ]
  },
  {
   "cell_type": "code",
   "execution_count": null,
   "metadata": {},
   "outputs": [],
   "source": [
    "def launch\n",
    "  batten_hatches # if an exception from batten_hatches or light_seatbelt_sing is intercepted, this launch method\n",
    "                 # will return false, otherwise true\n",
    "  light_seatbelt_sign\n",
    "  true\n",
    "rescue # rescue clause at the end of the method definition\n",
    "  puts \"Exception intercepted\"\n",
    "  false\n",
    "end"
   ]
  },
  {
   "cell_type": "code",
   "execution_count": 2,
   "metadata": {
    "scrolled": true
   },
   "outputs": [
    {
     "ename": "NameError",
     "evalue": "undefined local variable or method `e' for main:Object",
     "output_type": "error",
     "traceback": [
      "\u001b[31mNameError\u001b[0m: undefined local variable or method `e' for main:Object",
      "\u001b[37m<main>:9:in `<main>'\u001b[0m",
      "\u001b[37m/home/rango/.rvm/gems/ruby-2.3.1@ruby2.3.1rails4.2.4/gems/iruby-0.3/lib/iruby/backend.rb:44:in `eval'\u001b[0m",
      "\u001b[37m/home/rango/.rvm/gems/ruby-2.3.1@ruby2.3.1rails4.2.4/gems/iruby-0.3/lib/iruby/backend.rb:44:in `eval'\u001b[0m",
      "\u001b[37m/home/rango/.rvm/gems/ruby-2.3.1@ruby2.3.1rails4.2.4/gems/iruby-0.3/lib/iruby/backend.rb:12:in `eval'\u001b[0m",
      "\u001b[37m/home/rango/.rvm/gems/ruby-2.3.1@ruby2.3.1rails4.2.4/gems/iruby-0.3/lib/iruby/kernel.rb:87:in `execute_request'\u001b[0m",
      "\u001b[37m/home/rango/.rvm/gems/ruby-2.3.1@ruby2.3.1rails4.2.4/gems/iruby-0.3/lib/iruby/kernel.rb:47:in `dispatch'\u001b[0m",
      "\u001b[37m/home/rango/.rvm/gems/ruby-2.3.1@ruby2.3.1rails4.2.4/gems/iruby-0.3/lib/iruby/kernel.rb:37:in `run'\u001b[0m",
      "\u001b[37m/home/rango/.rvm/gems/ruby-2.3.1@ruby2.3.1rails4.2.4/gems/iruby-0.3/lib/iruby/command.rb:70:in `run_kernel'\u001b[0m",
      "\u001b[37m/home/rango/.rvm/gems/ruby-2.3.1@ruby2.3.1rails4.2.4/gems/iruby-0.3/lib/iruby/command.rb:34:in `run'\u001b[0m",
      "\u001b[37m/home/rango/.rvm/gems/ruby-2.3.1@ruby2.3.1rails4.2.4/gems/iruby-0.3/bin/iruby:5:in `<top (required)>'\u001b[0m",
      "\u001b[37m/home/rango/.rvm/gems/ruby-2.4.1/bin/iruby:23:in `load'\u001b[0m",
      "\u001b[37m/home/rango/.rvm/gems/ruby-2.4.1/bin/iruby:23:in `<main>'\u001b[0m",
      "\u001b[37m/home/rango/.rvm/gems/ruby-2.3.1@ruby2.3.1rails4.2.4/bin/ruby_executable_hooks:15:in `eval'\u001b[0m",
      "\u001b[37m/home/rango/.rvm/gems/ruby-2.3.1@ruby2.3.1rails4.2.4/bin/ruby_executable_hooks:15:in `<main>'\u001b[0m"
     ]
    }
   ],
   "source": [
    "def launch\n",
    "  batten_hatches\n",
    "  light_seatbelt_sign\n",
    "  true\n",
    "rescue StandardError => e\n",
    "  puts e.message\n",
    "  false\n",
    "end\n",
    "\n",
    "e.backtrace"
   ]
  },
  {
   "cell_type": "markdown",
   "metadata": {},
   "source": [
    "# Raising Exceptions"
   ]
  },
  {
   "cell_type": "code",
   "execution_count": 3,
   "metadata": {},
   "outputs": [
    {
     "data": {
      "text/plain": [
       ":batten_hatches"
      ]
     },
     "execution_count": 3,
     "metadata": {},
     "output_type": "execute_result"
    }
   ],
   "source": [
    "def batten_hatches\n",
    "  # ...\n",
    "  raise \"Door Jammed\" # RuntimeError\n",
    "  # ...\n",
    "end"
   ]
  },
  {
   "cell_type": "code",
   "execution_count": null,
   "metadata": {},
   "outputs": [],
   "source": [
    "def batten_hatches\n",
    "  # ...\n",
    "  raise HatchError, \"Door Jammed\"\n",
    "  # ...\n",
    "end"
   ]
  },
  {
   "cell_type": "code",
   "execution_count": null,
   "metadata": {},
   "outputs": [],
   "source": [
    "rescue HatchError => err\n",
    "  puts $!.message # $! refers to the same exception object as err\n",
    "  raise # => err\n",
    "end"
   ]
  },
  {
   "cell_type": "code",
   "execution_count": null,
   "metadata": {},
   "outputs": [],
   "source": [
    "def batten_hatches\n",
    "  hatch_file = File.open(\"hatches.txt\")\n",
    "  # ...\n",
    "  raise HatchError, \"Door Jammed\" if door.jammed?\n",
    "  #...\n",
    "  true\n",
    "rescue SystemCallError => e\n",
    "  # handle file errors\n",
    "  false\n",
    "else\n",
    "  puts \"Well done, no exception\"\n",
    "ensure\n",
    "  hatch_file.close if hatch_file\n",
    "end\n",
    "    \n",
    "  "
   ]
  },
  {
   "cell_type": "markdown",
   "metadata": {},
   "source": [
    "# Retry"
   ]
  },
  {
   "cell_type": "code",
   "execution_count": null,
   "metadata": {},
   "outputs": [],
   "source": [
    "def batten_hatches\n",
    "  hatch_list = API.request(\"/hatches\")\n",
    "  # ...\n",
    "rescue RuntimeError => e\n",
    "  attempts ||= 0\n",
    "  attempts += 1\n",
    "  if attempts < 3\n",
    "    puts e.message + \". Retrying request\"\n",
    "    retry # go to the beginning of the block/method, here request api\n",
    "  else\n",
    "    puts \"Request faild\"\n",
    "    raise\n",
    "  end\n",
    "end"
   ]
  },
  {
   "cell_type": "markdown",
   "metadata": {},
   "source": [
    "# Rescue Modifier (Not used often)"
   ]
  },
  {
   "cell_type": "code",
   "execution_count": null,
   "metadata": {},
   "outputs": [],
   "source": [
    "batten_hatches rescue false # if batten_hatches raises an exception the raise will kik in and return false"
   ]
  },
  {
   "cell_type": "markdown",
   "metadata": {},
   "source": [
    "# throw/catch"
   ]
  },
  {
   "cell_type": "code",
   "execution_count": null,
   "metadata": {},
   "outputs": [],
   "source": [
    "result = catch :abort do\n",
    "  probes.each do |probe|\n",
    "    while sample = probe.get_sample\n",
    "      result = sample.process\n",
    "      throw :abort, result.message if result.code != :ok\n",
    "      \n",
    "      puts result.message\n",
    "      sample.store\n",
    "    end\n",
    "  end\n",
    "  \"All sample processed\"\n",
    "end\n",
    "\n",
    "puts result\n",
    "    "
   ]
  },
  {
   "cell_type": "markdown",
   "metadata": {},
   "source": [
    "# Scope"
   ]
  },
  {
   "cell_type": "code",
   "execution_count": 4,
   "metadata": {},
   "outputs": [
    {
     "name": "stdout",
     "output_type": "stream",
     "text": [
      "10\n"
     ]
    }
   ],
   "source": [
    "if true\n",
    "  a = 10\n",
    "end\n",
    "puts a # a has scope outside the if else "
   ]
  },
  {
   "cell_type": "code",
   "execution_count": 7,
   "metadata": {},
   "outputs": [
    {
     "name": "stdout",
     "output_type": "stream",
     "text": [
      "1\n",
      "2\n",
      "3\n",
      "4\n",
      "5\n",
      "6\n",
      "7\n",
      "8\n",
      "9\n",
      "10\n",
      "10\n"
     ]
    }
   ],
   "source": [
    "1.upto(10) { |i| puts i; a = i} # blocks do introduce scope\n",
    "# puts i , will throw an error\n",
    "puts a"
   ]
  }
 ],
 "metadata": {
  "kernelspec": {
   "display_name": "Ruby 2.4.1",
   "language": "ruby",
   "name": "ruby"
  },
  "language_info": {
   "file_extension": ".rb",
   "mimetype": "application/x-ruby",
   "name": "ruby",
   "version": "2.3.1"
  }
 },
 "nbformat": 4,
 "nbformat_minor": 2
}
