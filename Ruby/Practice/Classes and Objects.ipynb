{
 "cells": [
  {
   "cell_type": "markdown",
   "metadata": {},
   "source": [
    "# Instance Variables and Methods"
   ]
  },
  {
   "cell_type": "code",
   "execution_count": 5,
   "metadata": {},
   "outputs": [
    {
     "name": "stdout",
     "output_type": "stream",
     "text": [
      "#<Spaceship:0x000000019d7640 @destination=\"Earth\">\n",
      "#<Spaceship:0x000000019d7640 @destination=\"Earth\">\n"
     ]
    },
    {
     "data": {
      "text/plain": [
       "#<Spaceship:0x000000019d7640 @destination=\"Earth\">"
      ]
     },
     "execution_count": 5,
     "metadata": {},
     "output_type": "execute_result"
    }
   ],
   "source": [
    "class Spaceship\n",
    "  def launch(destination)\n",
    "    # instace variable, only created if we call the \"lauch\" method\n",
    "    @destination = destination\n",
    "    # go towards destination\n",
    "  end\n",
    "end\n",
    "\n",
    "ship = Spaceship.new\n",
    "ship.launch(\"Earth\")\n",
    "# take a look at ship object\n",
    "puts ship.inspect\n",
    "# we can also use \"p\" method to look at ship object\n",
    "p ship"
   ]
  },
  {
   "cell_type": "code",
   "execution_count": 7,
   "metadata": {},
   "outputs": [
    {
     "ename": "NoMethodError",
     "evalue": "undefined method `destination' for #<Spaceship:0x000000019af4d8 @destination=\"Earth\">",
     "output_type": "error",
     "traceback": [
      "\u001b[31mNoMethodError\u001b[0m: undefined method `destination' for #<Spaceship:0x000000019af4d8 @destination=\"Earth\">",
      "\u001b[37m<main>:11:in `<main>'\u001b[0m",
      "\u001b[37m/var/lib/gems/2.3.0/gems/iruby-0.3/lib/iruby/backend.rb:44:in `eval'\u001b[0m",
      "\u001b[37m/var/lib/gems/2.3.0/gems/iruby-0.3/lib/iruby/backend.rb:44:in `eval'\u001b[0m",
      "\u001b[37m/var/lib/gems/2.3.0/gems/iruby-0.3/lib/iruby/backend.rb:12:in `eval'\u001b[0m",
      "\u001b[37m/var/lib/gems/2.3.0/gems/iruby-0.3/lib/iruby/kernel.rb:87:in `execute_request'\u001b[0m",
      "\u001b[37m/var/lib/gems/2.3.0/gems/iruby-0.3/lib/iruby/kernel.rb:47:in `dispatch'\u001b[0m",
      "\u001b[37m/var/lib/gems/2.3.0/gems/iruby-0.3/lib/iruby/kernel.rb:37:in `run'\u001b[0m",
      "\u001b[37m/var/lib/gems/2.3.0/gems/iruby-0.3/lib/iruby/command.rb:70:in `run_kernel'\u001b[0m",
      "\u001b[37m/var/lib/gems/2.3.0/gems/iruby-0.3/lib/iruby/command.rb:34:in `run'\u001b[0m",
      "\u001b[37m/var/lib/gems/2.3.0/gems/iruby-0.3/bin/iruby:5:in `<top (required)>'\u001b[0m",
      "\u001b[37m/usr/local/bin/iruby:23:in `load'\u001b[0m",
      "\u001b[37m/usr/local/bin/iruby:23:in `<main>'\u001b[0m"
     ]
    }
   ],
   "source": [
    "class Spaceship\n",
    "  def launch(destination)\n",
    "    # instace variable, only created if we call the \"lauch\" method\n",
    "    @destination = destination\n",
    "    # go towards destination\n",
    "  end\n",
    "end\n",
    "\n",
    "ship = Spaceship.new\n",
    "ship.launch(\"Earth\")\n",
    "# error: instance variables are not visible outsite the class\n",
    "# on the other hand instance methods are public by default\n",
    "puts ship.destination"
   ]
  },
  {
   "cell_type": "code",
   "execution_count": 8,
   "metadata": {},
   "outputs": [
    {
     "name": "stdout",
     "output_type": "stream",
     "text": [
      "Earth\n"
     ]
    }
   ],
   "source": [
    "class Spaceship\n",
    "  def launch(destination)\n",
    "    @destination = destination\n",
    "  end\n",
    "  # define a method which return the destination variable\n",
    "  # now we can get the destination variable by calling destination method\n",
    "  def destination\n",
    "    @destination\n",
    "  end\n",
    "end\n",
    "\n",
    "ship = Spaceship.new\n",
    "ship.launch(\"Earth\")\n",
    "\n",
    "puts ship.destination"
   ]
  },
  {
   "cell_type": "markdown",
   "metadata": {},
   "source": [
    "### *Note*: instance variable of a class are private and can only be accessed via methods"
   ]
  },
  {
   "cell_type": "markdown",
   "metadata": {},
   "source": [
    "# Accessors and Virtual Attributes"
   ]
  },
  {
   "cell_type": "code",
   "execution_count": 9,
   "metadata": {},
   "outputs": [
    {
     "name": "stdout",
     "output_type": "stream",
     "text": [
      "\n"
     ]
    }
   ],
   "source": [
    "# use \"attr_accessor\" to provide read and write accessors to an instance variable\n",
    "class Spaceship\n",
    "  attr_accessor :destination\n",
    "end\n",
    "\n",
    "ship = Spaceship.new\n",
    "ship.destination\n",
    "puts ship.destination"
   ]
  },
  {
   "cell_type": "code",
   "execution_count": 10,
   "metadata": {},
   "outputs": [
    {
     "name": "stdout",
     "output_type": "stream",
     "text": [
      "Draaaaw\n"
     ]
    }
   ],
   "source": [
    "class Spaceship\n",
    "  attr_accessor :destination # attr_accessor is a combined form of attr_reader and attr_writer\n",
    "  attr_reader :name # provide read access to name variable\n",
    "  attr_writer :name # provide write access to name variable\n",
    "end\n",
    "\n",
    "ship = Spaceship.new\n",
    "ship.name = \"Draaaaw\"\n",
    "puts ship.name"
   ]
  },
  {
   "cell_type": "code",
   "execution_count": 11,
   "metadata": {},
   "outputs": [],
   "source": [
    "class Spaceship\n",
    "  attr_accessor :destination, :name # to define multiple accessor\n",
    "end"
   ]
  },
  {
   "cell_type": "code",
   "execution_count": 12,
   "metadata": {},
   "outputs": [
    {
     "data": {
      "text/plain": [
       ":cancel_lauch"
      ]
     },
     "execution_count": 12,
     "metadata": {},
     "output_type": "execute_result"
    }
   ],
   "source": [
    "class Spaceship\n",
    "  attr_accessor :destination, :name\n",
    "  \n",
    "  def cancel_lauch\n",
    "    destination = \"\" # will not call accessor method, instead it's going to create a local variable\n",
    "    self.destination = \"\" # in oder to call the accessor you need to qualify it with \"self.\"\n",
    "    \n",
    "  end\n",
    "end"
   ]
  },
  {
   "cell_type": "code",
   "execution_count": 13,
   "metadata": {},
   "outputs": [
    {
     "data": {
      "text/plain": [
       ":destination="
      ]
     },
     "execution_count": 13,
     "metadata": {},
     "output_type": "execute_result"
    }
   ],
   "source": [
    "class Spaceship\n",
    "  attr_accessor :destination\n",
    "end\n",
    "\n",
    "############# is equivalent to ################\n",
    "\n",
    "class Spaceship\n",
    "  def destination\n",
    "    @destination\n",
    "  end\n",
    "  \n",
    "  def destination=(new_destination) # here = sign is just a part of its name, it signifies that it's a setter\n",
    "    @destination = new_destination\n",
    "  end\n",
    "end"
   ]
  },
  {
   "cell_type": "markdown",
   "metadata": {},
   "source": [
    "## Virtual Attributes"
   ]
  },
  {
   "cell_type": "code",
   "execution_count": 15,
   "metadata": {},
   "outputs": [
    {
     "ename": "NoMethodError",
     "evalue": "undefined method `destination=' for nil:NilClass",
     "output_type": "error",
     "traceback": [
      "\u001b[31mNoMethodError\u001b[0m: undefined method `destination=' for nil:NilClass",
      "\u001b[37m<main>:7:in `destination='\u001b[0m",
      "\u001b[37m<main>:12:in `<main>'\u001b[0m",
      "\u001b[37m/var/lib/gems/2.3.0/gems/iruby-0.3/lib/iruby/backend.rb:44:in `eval'\u001b[0m",
      "\u001b[37m/var/lib/gems/2.3.0/gems/iruby-0.3/lib/iruby/backend.rb:44:in `eval'\u001b[0m",
      "\u001b[37m/var/lib/gems/2.3.0/gems/iruby-0.3/lib/iruby/backend.rb:12:in `eval'\u001b[0m",
      "\u001b[37m/var/lib/gems/2.3.0/gems/iruby-0.3/lib/iruby/kernel.rb:87:in `execute_request'\u001b[0m",
      "\u001b[37m/var/lib/gems/2.3.0/gems/iruby-0.3/lib/iruby/kernel.rb:47:in `dispatch'\u001b[0m",
      "\u001b[37m/var/lib/gems/2.3.0/gems/iruby-0.3/lib/iruby/kernel.rb:37:in `run'\u001b[0m",
      "\u001b[37m/var/lib/gems/2.3.0/gems/iruby-0.3/lib/iruby/command.rb:70:in `run_kernel'\u001b[0m",
      "\u001b[37m/var/lib/gems/2.3.0/gems/iruby-0.3/lib/iruby/command.rb:34:in `run'\u001b[0m",
      "\u001b[37m/var/lib/gems/2.3.0/gems/iruby-0.3/bin/iruby:5:in `<top (required)>'\u001b[0m",
      "\u001b[37m/usr/local/bin/iruby:23:in `load'\u001b[0m",
      "\u001b[37m/usr/local/bin/iruby:23:in `<main>'\u001b[0m"
     ]
    }
   ],
   "source": [
    "class Spaceship\n",
    "  def destination\n",
    "    # passes the destination value to autopilot instead of storing it\n",
    "    # now destination has become so called vitual attribute\n",
    "    @autopilot.destination\n",
    "  end\n",
    "  \n",
    "  def destination=(new_destination)\n",
    "    @autopilot.destination = new_destination\n",
    "  end\n",
    "end\n",
    "\n",
    "ship = Spaceship.new\n",
    "ship.destination = \"Earth\"\n",
    "puts ship.destination\n",
    "\n",
    "# how ever there is no destination veriable under the hood but we can still assign values to it"
   ]
  },
  {
   "cell_type": "markdown",
   "metadata": {},
   "source": [
    "# Initialization"
   ]
  },
  {
   "cell_type": "code",
   "execution_count": 18,
   "metadata": {},
   "outputs": [
    {
     "ename": "NameError",
     "evalue": "uninitialized constant Spaceship::CargoHold",
     "output_type": "error",
     "traceback": [
      "\u001b[31mNameError\u001b[0m: uninitialized constant Spaceship::CargoHold",
      "\u001b[37m<main>:3:in `initialize'\u001b[0m",
      "\u001b[37m<main>:8:in `new'\u001b[0m",
      "\u001b[37m<main>:8:in `<main>'\u001b[0m",
      "\u001b[37m/var/lib/gems/2.3.0/gems/iruby-0.3/lib/iruby/backend.rb:44:in `eval'\u001b[0m",
      "\u001b[37m/var/lib/gems/2.3.0/gems/iruby-0.3/lib/iruby/backend.rb:44:in `eval'\u001b[0m",
      "\u001b[37m/var/lib/gems/2.3.0/gems/iruby-0.3/lib/iruby/backend.rb:12:in `eval'\u001b[0m",
      "\u001b[37m/var/lib/gems/2.3.0/gems/iruby-0.3/lib/iruby/kernel.rb:87:in `execute_request'\u001b[0m",
      "\u001b[37m/var/lib/gems/2.3.0/gems/iruby-0.3/lib/iruby/kernel.rb:47:in `dispatch'\u001b[0m",
      "\u001b[37m/var/lib/gems/2.3.0/gems/iruby-0.3/lib/iruby/kernel.rb:37:in `run'\u001b[0m",
      "\u001b[37m/var/lib/gems/2.3.0/gems/iruby-0.3/lib/iruby/command.rb:70:in `run_kernel'\u001b[0m",
      "\u001b[37m/var/lib/gems/2.3.0/gems/iruby-0.3/lib/iruby/command.rb:34:in `run'\u001b[0m",
      "\u001b[37m/var/lib/gems/2.3.0/gems/iruby-0.3/bin/iruby:5:in `<top (required)>'\u001b[0m",
      "\u001b[37m/usr/local/bin/iruby:23:in `load'\u001b[0m",
      "\u001b[37m/usr/local/bin/iruby:23:in `<main>'\u001b[0m"
     ]
    }
   ],
   "source": [
    "class Spaceship\n",
    "  def initialize(name, cargo_module_count)\n",
    "    @name = name\n",
    "    @corgo_hold = CargoHold.new(cargo_module_count)\n",
    "    @power_level = 100\n",
    "  end\n",
    "end\n",
    "\n",
    "ship  = Spaceship.new(\"Bllooom\", 4) # will invoke to initialize(\"Bllooom\", 4)\n",
    "p ship\n",
    "\n",
    "# to distroy object you don't need to explicitly distroy them, they are distroyed periodically by ruby itself"
   ]
  },
  {
   "cell_type": "markdown",
   "metadata": {},
   "source": [
    "# Inheritance"
   ]
  },
  {
   "cell_type": "code",
   "execution_count": null,
   "metadata": {},
   "outputs": [],
   "source": [
    "class Probe\n",
    "  def deploy\n",
    "    # deploy the probe\n",
    "  end\n",
    "  def take_sample\n",
    "    # do generic sampling\n",
    "  end\n",
    "end\n",
    "\n",
    "\n",
    "# inherits from Probe class\n",
    "class MiniralProbe < Probe\n",
    "  def tame_sample\n",
    "    # take a miniral sample\n",
    "  end\n",
    "end\n",
    "\n",
    "class AtmosphericProbe < Probe\n",
    "  def take_sample\n",
    "    # take a sample of atmosphare\n",
    "  end\n",
    "end"
   ]
  },
  {
   "cell_type": "code",
   "execution_count": 19,
   "metadata": {},
   "outputs": [
    {
     "name": "stdout",
     "output_type": "stream",
     "text": [
      "Preparing sample chambers\n"
     ]
    },
    {
     "ename": "ArgumentError",
     "evalue": "wrong number of arguments (given 1, expected 2)",
     "output_type": "error",
     "traceback": [
      "\u001b[31mArgumentError\u001b[0m: wrong number of arguments (given 1, expected 2)",
      "\u001b[37m<main>:1:in `deploy'\u001b[0m",
      "\u001b[37m<main>:9:in `deploy'\u001b[0m",
      "\u001b[37m<main>:13:in `<main>'\u001b[0m",
      "\u001b[37m/var/lib/gems/2.3.0/gems/iruby-0.3/lib/iruby/backend.rb:44:in `eval'\u001b[0m",
      "\u001b[37m/var/lib/gems/2.3.0/gems/iruby-0.3/lib/iruby/backend.rb:44:in `eval'\u001b[0m",
      "\u001b[37m/var/lib/gems/2.3.0/gems/iruby-0.3/lib/iruby/backend.rb:12:in `eval'\u001b[0m",
      "\u001b[37m/var/lib/gems/2.3.0/gems/iruby-0.3/lib/iruby/kernel.rb:87:in `execute_request'\u001b[0m",
      "\u001b[37m/var/lib/gems/2.3.0/gems/iruby-0.3/lib/iruby/kernel.rb:47:in `dispatch'\u001b[0m",
      "\u001b[37m/var/lib/gems/2.3.0/gems/iruby-0.3/lib/iruby/kernel.rb:37:in `run'\u001b[0m",
      "\u001b[37m/var/lib/gems/2.3.0/gems/iruby-0.3/lib/iruby/command.rb:70:in `run_kernel'\u001b[0m",
      "\u001b[37m/var/lib/gems/2.3.0/gems/iruby-0.3/lib/iruby/command.rb:34:in `run'\u001b[0m",
      "\u001b[37m/var/lib/gems/2.3.0/gems/iruby-0.3/bin/iruby:5:in `<top (required)>'\u001b[0m",
      "\u001b[37m/usr/local/bin/iruby:23:in `load'\u001b[0m",
      "\u001b[37m/usr/local/bin/iruby:23:in `<main>'\u001b[0m"
     ]
    }
   ],
   "source": [
    "class Probe\n",
    "  def deploy(deploy_time, return_time)\n",
    "    puts \"Deploying\"\n",
    "  end\n",
    "end\n",
    "\n",
    "class MiniralProbe < Probe\n",
    "  def deploy(deploy_time)\n",
    "    puts \"Preparing sample chambers\"\n",
    "    super\n",
    "  end\n",
    "end\n",
    "\n",
    "MiniralProbe.new.deploy(Time.now)"
   ]
  },
  {
   "cell_type": "code",
   "execution_count": 21,
   "metadata": {},
   "outputs": [
    {
     "name": "stdout",
     "output_type": "stream",
     "text": [
      "Preparing sample chambers\n"
     ]
    },
    {
     "ename": "ArgumentError",
     "evalue": "wrong number of arguments (given 0, expected 2)",
     "output_type": "error",
     "traceback": [
      "\u001b[31mArgumentError\u001b[0m: wrong number of arguments (given 0, expected 2)",
      "\u001b[37m<main>:1:in `deploy'\u001b[0m",
      "\u001b[37m<main>:9:in `deploy'\u001b[0m",
      "\u001b[37m<main>:13:in `<main>'\u001b[0m",
      "\u001b[37m/var/lib/gems/2.3.0/gems/iruby-0.3/lib/iruby/backend.rb:44:in `eval'\u001b[0m",
      "\u001b[37m/var/lib/gems/2.3.0/gems/iruby-0.3/lib/iruby/backend.rb:44:in `eval'\u001b[0m",
      "\u001b[37m/var/lib/gems/2.3.0/gems/iruby-0.3/lib/iruby/backend.rb:12:in `eval'\u001b[0m",
      "\u001b[37m/var/lib/gems/2.3.0/gems/iruby-0.3/lib/iruby/kernel.rb:87:in `execute_request'\u001b[0m",
      "\u001b[37m/var/lib/gems/2.3.0/gems/iruby-0.3/lib/iruby/kernel.rb:47:in `dispatch'\u001b[0m",
      "\u001b[37m/var/lib/gems/2.3.0/gems/iruby-0.3/lib/iruby/kernel.rb:37:in `run'\u001b[0m",
      "\u001b[37m/var/lib/gems/2.3.0/gems/iruby-0.3/lib/iruby/command.rb:70:in `run_kernel'\u001b[0m",
      "\u001b[37m/var/lib/gems/2.3.0/gems/iruby-0.3/lib/iruby/command.rb:34:in `run'\u001b[0m",
      "\u001b[37m/var/lib/gems/2.3.0/gems/iruby-0.3/bin/iruby:5:in `<top (required)>'\u001b[0m",
      "\u001b[37m/usr/local/bin/iruby:23:in `load'\u001b[0m",
      "\u001b[37m/usr/local/bin/iruby:23:in `<main>'\u001b[0m"
     ]
    }
   ],
   "source": [
    "class Probe\n",
    "  def deploy(deploy_time, return_time)\n",
    "    puts \"Deploying\"\n",
    "  end\n",
    "end\n",
    "\n",
    "class MiniralProbe < Probe\n",
    "  def deploy(deploy_time)\n",
    "    puts \"Preparing sample chambers\"\n",
    "    super()\n",
    "  end\n",
    "end\n",
    "\n",
    "MiniralProbe.new.deploy(Time.now)"
   ]
  },
  {
   "cell_type": "code",
   "execution_count": 22,
   "metadata": {},
   "outputs": [
    {
     "name": "stdout",
     "output_type": "stream",
     "text": [
      "Preparing sample chambers\n",
      "Deploying\n"
     ]
    }
   ],
   "source": [
    "class Probe\n",
    "  def deploy(deploy_time, return_time)\n",
    "    puts \"Deploying\"\n",
    "  end\n",
    "end\n",
    "\n",
    "class MiniralProbe < Probe\n",
    "  def deploy(deploy_time)\n",
    "    puts \"Preparing sample chambers\"\n",
    "    super(deploy_time, Time.now + 2*60*60)\n",
    "  end\n",
    "end\n",
    "\n",
    "MiniralProbe.new.deploy(Time.now)"
   ]
  },
  {
   "cell_type": "markdown",
   "metadata": {},
   "source": [
    "# Class Methods and Class Variables"
   ]
  },
  {
   "cell_type": "code",
   "execution_count": 2,
   "metadata": {},
   "outputs": [
    {
     "data": {
      "text/plain": [
       "2"
      ]
     },
     "execution_count": 2,
     "metadata": {},
     "output_type": "execute_result"
    }
   ],
   "source": [
    "class Spaceship\n",
    "  # to define a class method just put self. before its name\n",
    "  # every Spaceship will have thruster_count of 2\n",
    "  def self.thruster_count\n",
    "    2\n",
    "  end \n",
    "end\n",
    "\n",
    "# you call the class method on the class, rather than object\n",
    "Spaceship.thruster_count\n",
    "# you can not call it on class object"
   ]
  },
  {
   "cell_type": "code",
   "execution_count": null,
   "metadata": {},
   "outputs": [],
   "source": [
    "class Spaceship\n",
    "  # class variables are defined with double @\n",
    "  # it's shared between all objects of the class\n",
    "  # class variable is not visible outside the class\n",
    "  @@thruster_counter = 2\n",
    "end"
   ]
  },
  {
   "cell_type": "markdown",
   "metadata": {},
   "source": [
    "## *Note*: it is probably better to avoid class variables"
   ]
  },
  {
   "cell_type": "code",
   "execution_count": 4,
   "metadata": {},
   "outputs": [
    {
     "name": "stdout",
     "output_type": "stream",
     "text": [
      "1\n"
     ]
    }
   ],
   "source": [
    "class Spaceship\n",
    "  @@thruster_count = 2\n",
    "  def self.thruster_count\n",
    "    @@thruster_count\n",
    "  end\n",
    "end\n",
    "\n",
    "class SpritelySpaceship < Spaceship\n",
    "  @@thruster_count = 4\n",
    "end\n",
    "\n",
    "class EconolineSpaceship < Spaceship\n",
    "  @@thruster_count = 1\n",
    "end\n",
    "\n",
    "puts SpritelySpaceship.thruster_count"
   ]
  },
  {
   "cell_type": "markdown",
   "metadata": {},
   "source": [
    "## As you can see above there is unexpected result"
   ]
  },
  {
   "cell_type": "markdown",
   "metadata": {},
   "source": [
    "# Class Instance Variables\n",
    "\n",
    "## Instance variables which are set in the class body or in the class method, become variable on the class rather than an object"
   ]
  },
  {
   "cell_type": "code",
   "execution_count": 5,
   "metadata": {},
   "outputs": [
    {
     "data": {
      "text/plain": [
       ":thruster_count"
      ]
     },
     "execution_count": 5,
     "metadata": {},
     "output_type": "execute_result"
    }
   ],
   "source": [
    "class Spaceship\n",
    "  @thruster_count\n",
    "  def self.thruster_count\n",
    "    @thruster_count\n",
    "  end\n",
    "end"
   ]
  },
  {
   "cell_type": "code",
   "execution_count": 8,
   "metadata": {},
   "outputs": [
    {
     "name": "stdout",
     "output_type": "stream",
     "text": [
      "4\n",
      "1\n",
      "2\n"
     ]
    }
   ],
   "source": [
    "class Spaceship\n",
    "  @thruster_count = 2\n",
    "  def self.thruster_count\n",
    "    @thruster_count\n",
    "  end\n",
    "end\n",
    "\n",
    "class SpritelySpaceship < Spaceship\n",
    "  @thruster_count = 4\n",
    "end\n",
    "\n",
    "class EconolineSpaceship < Spaceship\n",
    "  @thruster_count = 1\n",
    "end\n",
    "\n",
    "puts SpritelySpaceship.thruster_count\n",
    "puts EconolineSpaceship.thruster_count\n",
    "puts Spaceship.thruster_count"
   ]
  },
  {
   "cell_type": "markdown",
   "metadata": {},
   "source": [
    "# Method Visibility"
   ]
  },
  {
   "cell_type": "code",
   "execution_count": null,
   "metadata": {},
   "outputs": [],
   "source": [
    "class Spaceship\n",
    "  def launch\n",
    "    light_seatbelt_sign\n",
    "    # do other fun launch activities\n",
    "  end\n",
    "  \n",
    "  \n",
    "  def batten_hatches\n",
    "    puts \"Battan the hatches!\"\n",
    "  end\n",
    "  \n",
    "  \n",
    "  def light_seatbelt_sign\n",
    "    puts \"The seatbelt sign is now on\"\n",
    "  end\n",
    "  private :light_seatbelt_sign\n",
    "  # the method light_seatbelt_sign is private now\n",
    "  \n",
    "  # you can also suppy multiple method names to private like\n",
    "  # private :light_seatbelt_sign, :batten_hatches\n",
    "  \n",
    "end"
   ]
  },
  {
   "cell_type": "code",
   "execution_count": null,
   "metadata": {},
   "outputs": [],
   "source": [
    "class Spaceship\n",
    "  def launch\n",
    "    light_seatbelt_sign\n",
    "    # do other fun launch activities\n",
    "  end\n",
    "  \n",
    "  \n",
    "  # all methods below this are private\n",
    "  private\n",
    "  def batten_hatches\n",
    "    puts \"Battan the hatches!\"\n",
    "  end\n",
    "  \n",
    "  \n",
    "  def light_seatbelt_sign\n",
    "    puts \"The seatbelt sign is now on\"\n",
    "  end\n",
    "  \n",
    "end"
   ]
  },
  {
   "cell_type": "code",
   "execution_count": 9,
   "metadata": {},
   "outputs": [
    {
     "ename": "NoMethodError",
     "evalue": "private method `light_seatbelt_sign' called for #<Spaceship:0x00000001046c20>",
     "output_type": "error",
     "traceback": [
      "\u001b[31mNoMethodError\u001b[0m: private method `light_seatbelt_sign' called for #<Spaceship:0x00000001046c20>",
      "\u001b[37m<main>:21:in `<main>'\u001b[0m",
      "\u001b[37m/var/lib/gems/2.3.0/gems/iruby-0.3/lib/iruby/backend.rb:44:in `eval'\u001b[0m",
      "\u001b[37m/var/lib/gems/2.3.0/gems/iruby-0.3/lib/iruby/backend.rb:44:in `eval'\u001b[0m",
      "\u001b[37m/var/lib/gems/2.3.0/gems/iruby-0.3/lib/iruby/backend.rb:12:in `eval'\u001b[0m",
      "\u001b[37m/var/lib/gems/2.3.0/gems/iruby-0.3/lib/iruby/kernel.rb:87:in `execute_request'\u001b[0m",
      "\u001b[37m/var/lib/gems/2.3.0/gems/iruby-0.3/lib/iruby/kernel.rb:47:in `dispatch'\u001b[0m",
      "\u001b[37m/var/lib/gems/2.3.0/gems/iruby-0.3/lib/iruby/kernel.rb:37:in `run'\u001b[0m",
      "\u001b[37m/var/lib/gems/2.3.0/gems/iruby-0.3/lib/iruby/command.rb:70:in `run_kernel'\u001b[0m",
      "\u001b[37m/var/lib/gems/2.3.0/gems/iruby-0.3/lib/iruby/command.rb:34:in `run'\u001b[0m",
      "\u001b[37m/var/lib/gems/2.3.0/gems/iruby-0.3/bin/iruby:5:in `<top (required)>'\u001b[0m",
      "\u001b[37m/usr/local/bin/iruby:23:in `load'\u001b[0m",
      "\u001b[37m/usr/local/bin/iruby:23:in `<main>'\u001b[0m"
     ]
    }
   ],
   "source": [
    "class Spaceship\n",
    "  def launch\n",
    "    light_seatbelt_sign\n",
    "    # do other fun launch activities\n",
    "  end\n",
    "  \n",
    "  \n",
    "  def batten_hatches\n",
    "    puts \"Battan the hatches!\"\n",
    "  end\n",
    "  \n",
    "  \n",
    "  def light_seatbelt_sign\n",
    "    puts \"The seatbelt sign is now on\"\n",
    "  end\n",
    "  \n",
    "  private :light_seatbelt_sign\n",
    "  \n",
    "end\n",
    "\n",
    "ship = Spaceship.new\n",
    "ship.light_seatbelt_sign"
   ]
  },
  {
   "cell_type": "code",
   "execution_count": 10,
   "metadata": {},
   "outputs": [
    {
     "name": "stdout",
     "output_type": "stream",
     "text": [
      "The seatbelt sign is now on\n"
     ]
    }
   ],
   "source": [
    "class Spaceship\n",
    "  def launch\n",
    "    light_seatbelt_sign\n",
    "    # do other fun launch activities\n",
    "  end\n",
    "\n",
    "  def light_seatbelt_sign\n",
    "    puts \"The seatbelt sign is now on\"\n",
    "  end\n",
    "  \n",
    "  private :light_seatbelt_sign\n",
    "  \n",
    "end\n",
    "\n",
    "ship = Spaceship.new\n",
    "ship.send :light_seatbelt_sign # you can use .send method to call private method outside the class"
   ]
  },
  {
   "cell_type": "markdown",
   "metadata": {},
   "source": [
    "## private methods can also be called from subclasses"
   ]
  },
  {
   "cell_type": "code",
   "execution_count": 11,
   "metadata": {},
   "outputs": [
    {
     "name": "stdout",
     "output_type": "stream",
     "text": [
      "Batten the hatches!\n"
     ]
    },
    {
     "data": {
      "text/plain": [
       "#<SpritelySpaceship:0x00000001028040>"
      ]
     },
     "execution_count": 11,
     "metadata": {},
     "output_type": "execute_result"
    }
   ],
   "source": [
    "class Spaceship\n",
    "  def launch\n",
    "    batten_hatches\n",
    "    # do other launch activities\n",
    "  end\n",
    "  \n",
    "  def batten_hatches\n",
    "    puts \"Batten the hatches!\"\n",
    "  end\n",
    "  private :batten_hatches\n",
    "  \n",
    "end\n",
    "\n",
    "class SpritelySpaceship < Spaceship\n",
    "  def initialize\n",
    "    batten_hatches\n",
    "  end\n",
    "end\n",
    "\n",
    "ship = SpritelySpaceship.new"
   ]
  },
  {
   "cell_type": "markdown",
   "metadata": {},
   "source": [
    "## To make a class method private,"
   ]
  },
  {
   "cell_type": "code",
   "execution_count": null,
   "metadata": {},
   "outputs": [],
   "source": [
    "class Spaceship\n",
    "  def self.disable_engine__containment\n",
    "    # dangerous - should be private\n",
    "  end\n",
    "  \n",
    "  # no error but does nothing\n",
    "  private :disable_engine__containment\n",
    "  \n",
    "  # this is the correct way\n",
    "  private_class_method :disable_engine__containment\n",
    "end"
   ]
  },
  {
   "cell_type": "markdown",
   "metadata": {},
   "source": [
    "## Protected"
   ]
  },
  {
   "cell_type": "code",
   "execution_count": 2,
   "metadata": {},
   "outputs": [
    {
     "name": "stdout",
     "output_type": "stream",
     "text": [
      "false\n"
     ]
    }
   ],
   "source": [
    "class Spaceship\n",
    "  def launch\n",
    "    # do something here\n",
    "  end\n",
    "  \n",
    "  attr_reader :call_sign\n",
    "  protected :call_sign\n",
    "  \n",
    "  def initialize\n",
    "    @call_sign = \"Dreadnought\"\n",
    "  end\n",
    "  \n",
    "  def call_sign_matches?(other)\n",
    "    call_sign == other.call_sign\n",
    "  end\n",
    "end\n",
    "\n",
    "class SpritelySpaceship < Spaceship\n",
    "  def initialize\n",
    "    @call_sign = \"Fast cruiser\"\n",
    "  end\n",
    "end\n",
    "  \n",
    "  \n",
    "ship = Spaceship.new\n",
    "fast_ship = SpritelySpaceship.new\n",
    "\n",
    "puts fast_ship.call_sign_matches?(ship)\n",
    "\n",
    "# you can not invoke call_sign directly from Spaceship class because it is a protected attribute\n",
    "# error\n",
    "puts ship.call_sign\n",
    "  "
   ]
  },
  {
   "cell_type": "markdown",
   "metadata": {},
   "source": [
    "## So, here are some key concepts to remember\n",
    "1. public is the default\n",
    "2. private means \"can't be called with an explicit receiver\"\n",
    "3. private_class_method is private for class methods\n",
    "4. protected means \"allow access for other objects of the same class\"\n",
    "5. private and protected are not used whole lot"
   ]
  },
  {
   "cell_type": "markdown",
   "metadata": {},
   "source": [
    "# Open classes and Monkey Patching"
   ]
  },
  {
   "cell_type": "code",
   "execution_count": 3,
   "metadata": {},
   "outputs": [
    {
     "name": "stdout",
     "output_type": "stream",
     "text": [
      "Avast\n"
     ]
    }
   ],
   "source": [
    "class Spaceship\n",
    "  def batten_hatches\n",
    "    puts \"Batten the hatch\"\n",
    "  end\n",
    "end\n",
    "\n",
    "ship = Spaceship.new\n",
    "\n",
    "class Spaceship\n",
    "  def batten_hatches\n",
    "    puts \"Avast\"\n",
    "  end\n",
    "end\n",
    "\n",
    "ship.batten_hatches"
   ]
  },
  {
   "cell_type": "code",
   "execution_count": 4,
   "metadata": {},
   "outputs": [
    {
     "name": "stdout",
     "output_type": "stream",
     "text": [
      "F i r e f l y\n",
      "Won't tell you\n"
     ]
    }
   ],
   "source": [
    "class String\n",
    "  # add a space after each character\n",
    "  def space_out\n",
    "    chars.join(\" \")\n",
    "  end\n",
    "  def size\n",
    "    \"Won't tell you\"\n",
    "  end\n",
    "end\n",
    "\n",
    "puts \"Firefly\".space_out\n",
    "puts \"abc\".size"
   ]
  },
  {
   "cell_type": "markdown",
   "metadata": {},
   "source": [
    "# Equality"
   ]
  },
  {
   "cell_type": "code",
   "execution_count": 6,
   "metadata": {},
   "outputs": [
    {
     "data": {
      "text/plain": [
       "true"
      ]
     },
     "execution_count": 6,
     "metadata": {},
     "output_type": "execute_result"
    }
   ],
   "source": [
    "a = \"abc\"\n",
    "b = \"abc\"\n",
    "a == b"
   ]
  },
  {
   "cell_type": "code",
   "execution_count": 7,
   "metadata": {},
   "outputs": [
    {
     "data": {
      "text/plain": [
       "false"
      ]
     },
     "execution_count": 7,
     "metadata": {},
     "output_type": "execute_result"
    }
   ],
   "source": [
    "a = \"abc\"\n",
    "b = \"abc\"\n",
    "a.equal?(b)"
   ]
  },
  {
   "cell_type": "code",
   "execution_count": 9,
   "metadata": {},
   "outputs": [
    {
     "name": "stdout",
     "output_type": "stream",
     "text": [
      "false\n",
      "true\n"
     ]
    }
   ],
   "source": [
    "class Spaceship\n",
    "  attr_reader :name\n",
    "  def initialize(name)\n",
    "    @name = name\n",
    "  end\n",
    "end\n",
    "\n",
    "ship1 = Spaceship.new(\"Serenity\")\n",
    "ship2 = Spaceship.new(\"Serenity\")\n",
    "\n",
    "puts ship1.equal?(ship2)\n",
    "puts ship1.name == ship2.name"
   ]
  },
  {
   "cell_type": "code",
   "execution_count": 1,
   "metadata": {},
   "outputs": [
    {
     "name": "stdout",
     "output_type": "stream",
     "text": [
      "false\n",
      "true\n"
     ]
    }
   ],
   "source": [
    "class Spaceship\n",
    "  attr_reader :name\n",
    "  def initialize(name)\n",
    "    @name = name\n",
    "  end\n",
    "  \n",
    "  def ==(other)\n",
    "    name == other.name\n",
    "  end\n",
    "end\n",
    "\n",
    "ship1 = Spaceship.new(\"Serenity\")\n",
    "ship2 = Spaceship.new(\"Serenity\")\n",
    "\n",
    "puts ship1.equal?(ship2)\n",
    "puts ship1 == ship2"
   ]
  }
 ],
 "metadata": {
  "kernelspec": {
   "display_name": "Ruby 2.4.1",
   "language": "ruby",
   "name": "ruby"
  },
  "language_info": {
   "file_extension": ".rb",
   "mimetype": "application/x-ruby",
   "name": "ruby",
   "version": "2.3.1"
  }
 },
 "nbformat": 4,
 "nbformat_minor": 2
}
