{
 "cells": [
  {
   "cell_type": "markdown",
   "metadata": {},
   "source": [
    "# Default parameter Values"
   ]
  },
  {
   "cell_type": "code",
   "execution_count": null,
   "metadata": {},
   "outputs": [],
   "source": [
    "def produce_spaceship(type = :freighter, size = :xl)\n",
    "  # ....\n",
    "end"
   ]
  },
  {
   "cell_type": "code",
   "execution_count": null,
   "metadata": {},
   "outputs": [],
   "source": [
    "def produce_spaceship(type = :freighter, \n",
    "                      size = calc_default_size(type))\n",
    "  # ...\n",
    "end"
   ]
  },
  {
   "cell_type": "code",
   "execution_count": null,
   "metadata": {},
   "outputs": [],
   "source": [
    "def produce_spaceship(type = :freighter, \n",
    "                      size = (type == :freighter ? :xl : :m))\n",
    "  # ...\n",
    "end"
   ]
  },
  {
   "cell_type": "code",
   "execution_count": null,
   "metadata": {},
   "outputs": [],
   "source": [
    "def produce_spaceship(type = :freighter, size = :xl, engine_count)\n",
    "  # ...\n",
    "end\n",
    "\n",
    "factory.produce_spaceship(4) # sets engine_count to 4"
   ]
  },
  {
   "cell_type": "markdown",
   "metadata": {},
   "source": [
    "# Variable Length Parameter Lists"
   ]
  },
  {
   "cell_type": "code",
   "execution_count": null,
   "metadata": {},
   "outputs": [],
   "source": [
    "def produce_fleet(days_to_complete, *types) # *type is array parameter\n",
    "  # ...\n",
    "end\n",
    "\n",
    "produce_fleet(10, :freighter, :freighter, :explorer)"
   ]
  },
  {
   "cell_type": "code",
   "execution_count": null,
   "metadata": {},
   "outputs": [],
   "source": [
    "def produce_fleet(days_to_complete = 10, *types)\n",
    "  # ...\n",
    "end\n",
    "produce_fleet(15, :freighter, :freighter, :explorer)\n",
    "produce_fleet(:freighter, :freighter, :explorer) # you can not omit the first parameter. Here, :freighter will\n",
    "                                                # assigned to days_to_complete"
   ]
  },
  {
   "cell_type": "code",
   "execution_count": null,
   "metadata": {},
   "outputs": [],
   "source": [
    "ship_type = [:freighter, :freighter, :explorer]\n",
    "produce_fleet(15, *ship_type)"
   ]
  },
  {
   "cell_type": "markdown",
   "metadata": {},
   "source": [
    "# Keyword Arguments"
   ]
  },
  {
   "cell_type": "code",
   "execution_count": null,
   "metadata": {},
   "outputs": [],
   "source": [
    "def produce_spaceship(type: :freighter, size: :m,\n",
    "                      fuel_tank_volume: 100, engine_count: 2)\n",
    "  # ....\n",
    "end\n",
    "produce_spaceship(type: :freighter, size: :xl, fuel_tank_volume: 400, engine_count: 4) # if no value is passed to\n",
    "                                                                          # parameters, the default value is passed"
   ]
  },
  {
   "cell_type": "code",
   "execution_count": null,
   "metadata": {},
   "outputs": [],
   "source": [
    "def produce_spaceship( type = :freighter, size: :m, engine_count: 4) # here type is regular parameter, and size and\n",
    "                                                                    # engine_count are keyword argument\n",
    "  # ..\n",
    "end"
   ]
  },
  {
   "cell_type": "markdown",
   "metadata": {},
   "source": [
    "# [Method Alias](https://blog.bigbinary.com/2012/01/08/alias-vs-alias-method.html)"
   ]
  },
  {
   "cell_type": "code",
   "execution_count": 3,
   "metadata": {},
   "outputs": [
    {
     "name": "stdout",
     "output_type": "stream",
     "text": [
      "Mr. Rango\n"
     ]
    }
   ],
   "source": [
    "class User\n",
    "  def full_name\n",
    "    puts \"Akash Giri\"\n",
    "  end\n",
    "  \n",
    "  def self.add_rename\n",
    "    alias_method :name, :full_name\n",
    "  end\n",
    "end\n",
    "\n",
    "class Developer < User\n",
    "  def full_name\n",
    "    puts \"Mr. Rango\"\n",
    "  end\n",
    "  add_rename\n",
    "end\n",
    "\n",
    "Developer.new.name"
   ]
  },
  {
   "cell_type": "markdown",
   "metadata": {},
   "source": [
    "# Operators"
   ]
  },
  {
   "cell_type": "code",
   "execution_count": 8,
   "metadata": {},
   "outputs": [
    {
     "name": "stdout",
     "output_type": "stream",
     "text": [
      "Landers: [#<Lander:0x00000001a9d250>, #<Lander:0x00000001a9d228>]\n",
      "#<Spaceship:0x00000001a9d408 @name=\"serenity\", @cargo=[#<CargoPod:0x00000001a92c38>], @speed=0, @vessels={:landers=>[#<Lander:0x00000001a9d250>, #<Lander:0x00000001a9d228>]}>\n",
      "[\"ABCD\", \"BCDE\", \"serenity\"]\n",
      "Speed: 10\n",
      "Speed: 0\n",
      "Self distruction sequence initiated\n",
      "Self distruction sequence initiated\n"
     ]
    }
   ],
   "source": [
    "class Spaceship\n",
    "  attr_reader :name\n",
    "  attr_reader :speed\n",
    "  \n",
    "  def initialize(name)\n",
    "    @name = name\n",
    "    @cargo = []\n",
    "    @speed = 0\n",
    "    @vessels = Hash.new{ [] }\n",
    "  end\n",
    "  \n",
    "  def [](type)\n",
    "    @vessels[type]\n",
    "  end\n",
    "  \n",
    "  def []=(type, vehicles)\n",
    "    @vessels[type] = vehicles\n",
    "  end\n",
    "  \n",
    "  def << cargo\n",
    "    @cargo << cargo\n",
    "  end\n",
    "  \n",
    "  \n",
    "  # <=> is use to make object shortable, compares two objects and returns 0 if they are equal,\n",
    "  # -1 is the first is less than second, and 1 if first is greater than seocond\n",
    "  def <=>(other) \n",
    "    name <=> other.name\n",
    "  end\n",
    "  \n",
    "  \n",
    "  # binary operators\n",
    "  def +@\n",
    "    @speed += 10\n",
    "  end\n",
    "  def -@\n",
    "    @speed -= 10\n",
    "  end\n",
    "  \n",
    "  \n",
    "  # not operator\n",
    "  def !\n",
    "    puts \"Self distruction sequence initiated\"\n",
    "  end\n",
    "  \n",
    "  \n",
    "end\n",
    "\n",
    "ship1 = Spaceship.new(\"serenity\")\n",
    "\n",
    "\n",
    "class Lander\n",
    "end\n",
    "\n",
    "ship1[:landers] = [Lander.new, Lander.new]\n",
    "\n",
    "puts \"Landers: #{ship1[:landers].inspect}\"\n",
    "\n",
    "\n",
    "class CargoPod\n",
    "end\n",
    "\n",
    "cargo_pod = CargoPod.new\n",
    "\n",
    "ship1 << cargo_pod\n",
    "\n",
    "p ship1\n",
    "\n",
    "\n",
    "\n",
    "ship2 = Spaceship.new(\"ABCD\")\n",
    "ship3 = Spaceship.new(\"BCDE\")\n",
    "\n",
    "\n",
    "p [ship1, ship2, ship3].sort.map {|s| s.name }\n",
    "\n",
    "\n",
    "\n",
    "# using binary operators\n",
    "\n",
    "+ship1\n",
    "puts \"Speed: #{ship1.speed}\"\n",
    "\n",
    "\n",
    "-ship1\n",
    "puts \"Speed: #{ship1.speed}\"\n",
    "\n",
    "\n",
    "\n",
    "!ship1\n",
    "\n",
    "if !ship1\n",
    "  puts \"Ship is not there\"\n",
    "end\n"
   ]
  },
  {
   "cell_type": "code",
   "execution_count": null,
   "metadata": {},
   "outputs": [],
   "source": []
  }
 ],
 "metadata": {
  "kernelspec": {
   "display_name": "Ruby 2.4.1",
   "language": "ruby",
   "name": "ruby"
  },
  "language_info": {
   "file_extension": ".rb",
   "mimetype": "application/x-ruby",
   "name": "ruby",
   "version": "2.3.1"
  }
 },
 "nbformat": 4,
 "nbformat_minor": 2
}
