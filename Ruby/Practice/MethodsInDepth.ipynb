{
 "cells": [
  {
   "cell_type": "markdown",
   "metadata": {},
   "source": [
    "# Default parameter Values"
   ]
  },
  {
   "cell_type": "code",
   "execution_count": null,
   "metadata": {},
   "outputs": [],
   "source": [
    "def produce_spaceship(type = :freighter, size = :xl)\n",
    "  # ....\n",
    "end"
   ]
  },
  {
   "cell_type": "code",
   "execution_count": null,
   "metadata": {},
   "outputs": [],
   "source": [
    "def produce_spaceship(type = :freighter, \n",
    "                      size = calc_default_size(type))\n",
    "  # ...\n",
    "end"
   ]
  },
  {
   "cell_type": "code",
   "execution_count": null,
   "metadata": {},
   "outputs": [],
   "source": [
    "def produce_spaceship(type = :freighter, \n",
    "                      size = (type == :freighter ? :xl : :m))\n",
    "  # ...\n",
    "end"
   ]
  },
  {
   "cell_type": "code",
   "execution_count": null,
   "metadata": {},
   "outputs": [],
   "source": [
    "def produce_spaceship(type = :freighter, size = :xl, engine_count)\n",
    "  # ...\n",
    "end\n",
    "\n",
    "factory.produce_spaceship(4) # sets engine_count to 4"
   ]
  },
  {
   "cell_type": "markdown",
   "metadata": {},
   "source": [
    "# Variable Length Parameter Lists"
   ]
  },
  {
   "cell_type": "code",
   "execution_count": null,
   "metadata": {},
   "outputs": [],
   "source": [
    "def produce_fleet(days_to_complete, *types) # *type is array parameter\n",
    "  # ...\n",
    "end\n",
    "\n",
    "produce_fleet(10, :freighter, :freighter, :explorer)"
   ]
  },
  {
   "cell_type": "code",
   "execution_count": null,
   "metadata": {},
   "outputs": [],
   "source": [
    "def produce_fleet(days_to_complete = 10, *types)\n",
    "  # ...\n",
    "end\n",
    "produce_fleet(15, :freighter, :freighter, :explorer)\n",
    "produce_fleet(:freighter, :freighter, :explorer) # you can not omit the first parameter. Here, :freighter will\n",
    "                                                # assigned to days_to_complete"
   ]
  },
  {
   "cell_type": "code",
   "execution_count": null,
   "metadata": {},
   "outputs": [],
   "source": [
    "ship_type = [:freighter, :freighter, :explorer]\n",
    "produce_fleet(15, *ship_type)"
   ]
  },
  {
   "cell_type": "markdown",
   "metadata": {},
   "source": [
    "# Keyword Arguments"
   ]
  },
  {
   "cell_type": "code",
   "execution_count": null,
   "metadata": {},
   "outputs": [],
   "source": [
    "def produce_spaceship(type: :freighter, size: :m,\n",
    "                      fuel_tank_volume: 100, engine_count: 2)\n",
    "  # ....\n",
    "end\n",
    "produce_spaceship(type: :freighter, size: :xl, fuel_tank_volume: 400, engine_count: 4) # if no value is passed to\n",
    "                                                                          # parameters, the default value is passed"
   ]
  },
  {
   "cell_type": "code",
   "execution_count": null,
   "metadata": {},
   "outputs": [],
   "source": [
    "def produce_spaceship( type = :freighter, size: :m, engine_count: 4) # here type is regular parameter, and size and\n",
    "                                                                    # engine_count are keyword argument\n",
    "  # ..\n",
    "end"
   ]
  },
  {
   "cell_type": "code",
   "execution_count": null,
   "metadata": {},
   "outputs": [],
   "source": []
  }
 ],
 "metadata": {
  "kernelspec": {
   "display_name": "Ruby 2.4.1",
   "language": "ruby",
   "name": "ruby"
  },
  "language_info": {
   "file_extension": ".rb",
   "mimetype": "application/x-ruby",
   "name": "ruby",
   "version": "2.3.1"
  }
 },
 "nbformat": 4,
 "nbformat_minor": 2
}
